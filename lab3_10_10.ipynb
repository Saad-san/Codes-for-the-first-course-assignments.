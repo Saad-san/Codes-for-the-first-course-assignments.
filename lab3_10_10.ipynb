{
  "nbformat": 4,
  "nbformat_minor": 0,
  "metadata": {
    "colab": {
      "provenance": []
    },
    "kernelspec": {
      "name": "python3",
      "display_name": "Python 3"
    },
    "language_info": {
      "name": "python"
    }
  },
  "cells": [
    {
      "cell_type": "code",
      "execution_count": null,
      "metadata": {
        "colab": {
          "base_uri": "https://localhost:8080/"
        },
        "id": "3UeyH8OB5PZz",
        "outputId": "0e0077f6-39f3-4d66-ec76-dd0cfef06631"
      },
      "outputs": [
        {
          "output_type": "stream",
          "name": "stdout",
          "text": [
            "24, 18, 12, 6, 0, -6"
          ]
        }
      ],
      "source": [
        "#task_1 (a)\n",
        "counter = 24\n",
        " \n",
        "while counter >= -6:\n",
        "    \n",
        "    if counter == -6:\n",
        "        print(counter, end = \"\") \n",
        "    else:\n",
        "        print(counter, end = \", \") \n",
        "     \n",
        "    counter = counter - 6 \n",
        "    "
      ]
    },
    {
      "cell_type": "code",
      "source": [
        "#task_1 (b)  -10, -5, 0, 5, 10, 15, 20\n",
        "count = -10\n",
        "\n",
        "while count <= 20:\n",
        "\n",
        "  if count == 20:\n",
        "    print(count, end = \"\")\n",
        "  else:\n",
        "    print(count,end=\", \")\n",
        "\n",
        "  count += 5\n"
      ],
      "metadata": {
        "colab": {
          "base_uri": "https://localhost:8080/"
        },
        "id": "zZQ6yP7L6r0d",
        "outputId": "aef4d124-3a37-439b-8c4f-9c78014cb6c5"
      },
      "execution_count": null,
      "outputs": [
        {
          "output_type": "stream",
          "name": "stdout",
          "text": [
            "-10, -5, 0, 5, 10, 15, 20 "
          ]
        }
      ]
    },
    {
      "cell_type": "code",
      "source": [
        "#task_1 (c) 18, 27, 36, 45, 54, 63\n",
        "\n",
        "count = 18\n",
        "\n",
        "while count <= 63:\n",
        "\n",
        "  if count == 63:\n",
        "    print(count, end = \" \")\n",
        "  else:\n",
        "    print(count,end=', ')\n",
        "\n",
        "  count += 9\n",
        "  "
      ],
      "metadata": {
        "id": "fkCY-HYt6JJH",
        "colab": {
          "base_uri": "https://localhost:8080/"
        },
        "outputId": "ade3a5e6-f016-4b79-c5d8-44003765a569"
      },
      "execution_count": null,
      "outputs": [
        {
          "output_type": "stream",
          "name": "stdout",
          "text": [
            "18, 27, 36, 45, 54, 63 "
          ]
        }
      ]
    },
    {
      "cell_type": "code",
      "source": [
        "#task_1 (d) 18, -27, 36, -45, 54, -63\n",
        "\n",
        "count = 18\n",
        "\n",
        "while count <= 63:\n",
        "\n",
        "  if count == 63:\n",
        "    print(-count, end = \" \")\n",
        "  else:\n",
        "    if count % 2 != 0:\n",
        "      print((count * -1),end=', ')\n",
        "    else:\n",
        "      print(count,end=', ')\n",
        "\n",
        "  count += 9\n",
        "  "
      ],
      "metadata": {
        "id": "DRS632826i02",
        "colab": {
          "base_uri": "https://localhost:8080/"
        },
        "outputId": "965e618a-b803-414c-cb12-c94a2c429539"
      },
      "execution_count": null,
      "outputs": [
        {
          "output_type": "stream",
          "name": "stdout",
          "text": [
            "18, -27, 36, -45, 54, -63 "
          ]
        }
      ]
    },
    {
      "cell_type": "code",
      "source": [
        "#task_2 \n",
        "\n",
        "car = input(\"Please enter your favourite car: \")\n",
        "n = int(input(\"Enter a number: \"))\n",
        "for i in range (n):\n",
        "  print(car)\n",
        "  "
      ],
      "metadata": {
        "colab": {
          "base_uri": "https://localhost:8080/"
        },
        "id": "Pvd2OUXK7kyk",
        "outputId": "d849d35b-02f9-4940-b787-e307f21faf7f"
      },
      "execution_count": null,
      "outputs": [
        {
          "output_type": "stream",
          "name": "stdout",
          "text": [
            "Please enter your favourite car: prius\n",
            "Enter a number: 2\n",
            "prius\n",
            "prius\n"
          ]
        }
      ]
    },
    {
      "cell_type": "code",
      "source": [
        "#task_3\n",
        "\n",
        "sum = 0\n",
        "\n",
        "for i in range (1,601):\n",
        "  if i % 7 == 0 and i % 9 == 0:\n",
        "    sum += i\n",
        "print(sum)"
      ],
      "metadata": {
        "colab": {
          "base_uri": "https://localhost:8080/"
        },
        "id": "X9kCByq47xxs",
        "outputId": "a0be1ba9-f67f-4561-e2ab-65b17fd55240"
      },
      "execution_count": null,
      "outputs": [
        {
          "output_type": "stream",
          "name": "stdout",
          "text": [
            "2835\n"
          ]
        }
      ]
    },
    {
      "cell_type": "code",
      "source": [
        "#task_4\n",
        "\n",
        "sum = 0\n",
        "\n",
        "for i in range (1,601):\n",
        "  if (i%7==0 or i%9==0) and (i%7 != i%9):\n",
        "    sum += i\n",
        "print(sum)\n"
      ],
      "metadata": {
        "colab": {
          "base_uri": "https://localhost:8080/"
        },
        "id": "oqdzG9UG8LRw",
        "outputId": "55ee487c-b339-4cb1-bd64-0adb6ca0f34e"
      },
      "execution_count": null,
      "outputs": [
        {
          "output_type": "stream",
          "name": "stdout",
          "text": [
            "39814\n"
          ]
        }
      ]
    },
    {
      "cell_type": "code",
      "source": [
        "#task_5\n",
        "\n",
        "for i in range (10,51):\n",
        "  if i % 2 != 0:\n",
        "    print(i, end=\" \")\n"
      ],
      "metadata": {
        "colab": {
          "base_uri": "https://localhost:8080/"
        },
        "id": "lFwezlhA8dRn",
        "outputId": "5576062f-5e20-40cd-ea9b-f749e6fc9fa9"
      },
      "execution_count": null,
      "outputs": [
        {
          "output_type": "stream",
          "name": "stdout",
          "text": [
            "11 13 15 17 19 21 23 25 27 29 31 33 35 37 39 41 43 45 47 49 "
          ]
        }
      ]
    },
    {
      "cell_type": "code",
      "source": [
        "#task_6 \n",
        "\n",
        "y = 0\n",
        "\n",
        "n = int(input())\n",
        "\n",
        "for i in range(n+1):\n",
        "\n",
        "  if i%2 != 0:\n",
        "    y+=(i**2)\n",
        "  else:\n",
        "    y-=(i**2)\n",
        "    \n",
        "print(y)\n"
      ],
      "metadata": {
        "colab": {
          "base_uri": "https://localhost:8080/"
        },
        "id": "2Mx33c5L8tvw",
        "outputId": "c9a166a9-f388-465c-947e-d72bddc3e8f3"
      },
      "execution_count": null,
      "outputs": [
        {
          "output_type": "stream",
          "name": "stdout",
          "text": [
            "20\n",
            "-210\n"
          ]
        }
      ]
    },
    {
      "cell_type": "code",
      "source": [
        "#task_7\n",
        "\n",
        "sum = 0\n",
        "\n",
        "x = 0\n",
        "\n",
        "for i in range (10):\n",
        "\n",
        "  n = int(input())\n",
        "  if n % 2 != 0:\n",
        "    sum +=n\n",
        "    x += 1\n",
        "avg = sum/x\n",
        "\n",
        "print(f\"The total of the odd numbers is {sum} and their average is {avg}\")\n"
      ],
      "metadata": {
        "colab": {
          "base_uri": "https://localhost:8080/"
        },
        "id": "qD1TOpxEGARr",
        "outputId": "8b7f370c-4349-4925-c1a1-1f629607717d"
      },
      "execution_count": null,
      "outputs": [
        {
          "output_type": "stream",
          "name": "stdout",
          "text": [
            "1\n",
            "2\n",
            "4\n",
            "3\n",
            "5\n",
            "6\n",
            "7\n",
            "8\n",
            "9\n",
            "10\n",
            "The total of the odd numbers is 25 and their average is 5.0\n"
          ]
        }
      ]
    },
    {
      "cell_type": "code",
      "source": [
        "#task_8 problem in understanding starts from here\n",
        "\n",
        "N = int(input(\"Enter a number: \"))\n",
        "\n",
        "sum = 0\n",
        "\n",
        "for i in range (N+1):\n",
        "  \n",
        "  if i % 7 == 0:\n",
        "    sum += i\n",
        "    \n",
        "print(sum)\n"
      ],
      "metadata": {
        "id": "6iSL4Xf7Gdgp",
        "colab": {
          "base_uri": "https://localhost:8080/"
        },
        "outputId": "3201dd69-37a4-4e60-f44d-78ad536c50fd"
      },
      "execution_count": null,
      "outputs": [
        {
          "output_type": "stream",
          "name": "stdout",
          "text": [
            "Enter a number: 75\n",
            "385\n"
          ]
        }
      ]
    },
    {
      "cell_type": "code",
      "source": [
        "#task_9\n",
        "\n",
        "i = 0\n",
        "\n",
        "sum = 0\n",
        "\n",
        "for i in range(5):\n",
        "\n",
        "  a = int(input(\"Please enter a number: \"))\n",
        "  sum += a\n",
        "  \n",
        "  print(sum)\n"
      ],
      "metadata": {
        "id": "geNCC1dRHFog",
        "colab": {
          "base_uri": "https://localhost:8080/"
        },
        "outputId": "f4a894b0-1740-4c62-ff0b-c4efce720a14"
      },
      "execution_count": null,
      "outputs": [
        {
          "output_type": "stream",
          "name": "stdout",
          "text": [
            "Please enter a number: 1\n",
            "1\n",
            "Please enter a number: 2\n",
            "3\n",
            "Please enter a number: 3\n",
            "6\n",
            "Please enter a number: 4\n",
            "10\n",
            "Please enter a number: 5\n",
            "15\n"
          ]
        }
      ]
    },
    {
      "cell_type": "code",
      "source": [
        "#task_10\n",
        "\n",
        "i = int(input(\"Please enter a number: \")) \n",
        "\n",
        "while i: \n",
        "    if i // 10 == 0:\n",
        "      print(i % 10, end=' ')\n",
        "    else:\n",
        "      print(i % 10, end=', ')\n",
        "    i //= 10\n",
        "    "
      ],
      "metadata": {
        "colab": {
          "base_uri": "https://localhost:8080/"
        },
        "id": "_Q50oINlonwe",
        "outputId": "0ac28d96-dcdd-47b4-ac17-005696e9237b"
      },
      "execution_count": null,
      "outputs": [
        {
          "output_type": "stream",
          "name": "stdout",
          "text": [
            "Please enter a number: 32768\n",
            "8, 6, 7, 2, 3 "
          ]
        }
      ]
    },
    {
      "cell_type": "code",
      "source": [
        "#task_11\n",
        "\n",
        "i = int(input(\"Please enter a number: \")) \n",
        "count =0\n",
        "while i: \n",
        "    count += 1\n",
        "    i //= 10\n",
        "print(count)\n"
      ],
      "metadata": {
        "colab": {
          "base_uri": "https://localhost:8080/"
        },
        "id": "WzrkSmCxp-mp",
        "outputId": "09d6a593-f4c7-41da-c19a-63a988818f70"
      },
      "execution_count": null,
      "outputs": [
        {
          "output_type": "stream",
          "name": "stdout",
          "text": [
            "Please enter a number: 9876\n",
            "4\n"
          ]
        }
      ]
    },
    {
      "cell_type": "code",
      "source": [
        "#task_12\n",
        "\n",
        "i = int(input(\"Please enter a number: \"))\n",
        "num = i\n",
        "count = 0\n",
        "while i: \n",
        "    count += 1\n",
        "    i //= 10\n",
        "while count > 0:\n",
        "    count -= 1\n",
        "    d = num // 10 ** count\n",
        "    num = num % 10 ** count\n",
        "    if num % 10 == 0:\n",
        "      print(d, end=\"\")\n",
        "    else:\n",
        "      print(d, end = \", \")\n"
      ],
      "metadata": {
        "colab": {
          "base_uri": "https://localhost:8080/"
        },
        "id": "kAuRmgGgrF1a",
        "outputId": "b4c9a340-18e3-4fe1-e1df-2f3bd567b3d7"
      },
      "execution_count": null,
      "outputs": [
        {
          "output_type": "stream",
          "name": "stdout",
          "text": [
            "Please enter a number: 32768\n",
            "3, 2, 7, 6, 8"
          ]
        }
      ]
    },
    {
      "cell_type": "code",
      "source": [
        "#task_13\n",
        "\n",
        "num = int(input('Enter the value of num: '))\n",
        "count=0\n",
        "for i in range(1, num+1):\n",
        "  if num % i == 0:\n",
        "    count+=1\n",
        "    if i!=num:\n",
        "      print(i,)#end = ',')\n",
        "    else:\n",
        "      print(i)\n",
        "print(\"Total\", count, \"divisors\")\n"
      ],
      "metadata": {
        "colab": {
          "base_uri": "https://localhost:8080/"
        },
        "id": "ydxqF9ghsJmM",
        "outputId": "d4819667-094b-44a9-f1ca-1aee6a691fe0"
      },
      "execution_count": null,
      "outputs": [
        {
          "output_type": "stream",
          "name": "stdout",
          "text": [
            "Enter the value of num: 121\n",
            "1\n",
            "11\n",
            "121\n",
            "Total 3 divisors\n"
          ]
        }
      ]
    },
    {
      "cell_type": "code",
      "source": [
        "#task_14\n",
        "\n",
        "sum = 0\n",
        "n = int(input())\n",
        "for i in range(1, n):\n",
        "  if n % i == 0:\n",
        "    sum += i\n",
        "if (sum == n):\n",
        "  print(f\"{n} is a perfect number\")\n",
        "else:\n",
        "  print(f\"{n} is not a perfect number\")\n",
        "  "
      ],
      "metadata": {
        "colab": {
          "base_uri": "https://localhost:8080/"
        },
        "id": "U4JEIp0rtDSg",
        "outputId": "0561173c-add5-401e-db0f-82dbd0c64d58"
      },
      "execution_count": null,
      "outputs": [
        {
          "output_type": "stream",
          "name": "stdout",
          "text": [
            "33\n",
            "33 is not a perfect number\n"
          ]
        }
      ]
    },
    {
      "cell_type": "code",
      "source": [
        "#task_15\n",
        "\n",
        "num = int(input())\n",
        "if num > 1:\n",
        "   for i in range(2,num):\n",
        "       if (num % i) == 0:\n",
        "           print(num,\"is not a prime number\")\n",
        "           break\n",
        "   else:\n",
        "       print(num,\"is a prime number\")\n",
        "else:\n",
        "   print(num,\"is not a prime number\")\n",
        "   "
      ],
      "metadata": {
        "colab": {
          "base_uri": "https://localhost:8080/"
        },
        "id": "4ZAzVbOytkgR",
        "outputId": "a493ec48-d30f-400e-a44e-6c9c849c4dbe"
      },
      "execution_count": null,
      "outputs": [
        {
          "output_type": "stream",
          "name": "stdout",
          "text": [
            "6\n",
            "6 is not a prime number\n"
          ]
        }
      ]
    },
    {
      "cell_type": "code",
      "source": [
        "#task_16\n",
        "\n",
        "q = int(input())\n",
        "min = 0\n",
        "max = 0\n",
        "sum = 0\n",
        "for i in range(q):\n",
        "   num = int(input())\n",
        "   if (i == 0):\n",
        "       min = num\n",
        "   if (num < min ):\n",
        "       min = num\n",
        "   if (num > max):\n",
        "       max = num\n",
        "   sum += num\n",
        "avg = sum/q\n",
        "print(\"Maximum\", max)\n",
        "print(\"Minimum\", min)\n",
        "print(\"Average is\", avg)\n"
      ],
      "metadata": {
        "colab": {
          "base_uri": "https://localhost:8080/"
        },
        "id": "JrJEpZJCtxrR",
        "outputId": "00e4b82b-dfc3-4c58-aa8a-ae4dfec4f31c"
      },
      "execution_count": null,
      "outputs": [
        {
          "output_type": "stream",
          "name": "stdout",
          "text": [
            "5\n",
            "10\n",
            "4\n",
            "-1\n",
            "-100\n",
            "1\n",
            "Maximum 10\n",
            "Minimum -100\n",
            "Average is -17.2\n"
          ]
        }
      ]
    },
    {
      "cell_type": "code",
      "source": [
        "#task_17\n",
        "\n",
        "n = int(input(\"Enter number of rows: \"))\n",
        "for i in range(1, n + 1):\n",
        "    for j in range(1, n + 1):\n",
        "        if j <= i:\n",
        "            print('+', end='')\n",
        "        else:\n",
        "            print('+', end='')\n",
        "    print()\n",
        "    "
      ],
      "metadata": {
        "colab": {
          "base_uri": "https://localhost:8080/"
        },
        "id": "sYM45qeiy3N6",
        "outputId": "6b37c66f-8e4e-436a-ea89-afc425a28e67"
      },
      "execution_count": null,
      "outputs": [
        {
          "output_type": "stream",
          "name": "stdout",
          "text": [
            "Enter number of rows: 5\n",
            "+++++\n",
            "+++++\n",
            "+++++\n",
            "+++++\n",
            "+++++\n"
          ]
        }
      ]
    },
    {
      "cell_type": "code",
      "source": [
        "#task_18\n",
        "\n",
        "M = int(input(\"Enter number of height: \"))\n",
        "N = int(input(\"Enter number of length: \"))\n",
        "for i in range(1, M + 1):\n",
        "    for N in range(1, N + 1):\n",
        "        if N <= i:\n",
        "            print(N , end='')\n",
        "        else:\n",
        "            print(N , end='')\n",
        "    print()\n"
      ],
      "metadata": {
        "colab": {
          "base_uri": "https://localhost:8080/"
        },
        "id": "kka4nvatzFvn",
        "outputId": "e88a6924-3e3c-4590-b37c-9604caaad72b"
      },
      "execution_count": null,
      "outputs": [
        {
          "output_type": "stream",
          "name": "stdout",
          "text": [
            "Enter number of height: 4\n",
            "Enter number of length: 6\n",
            "123456\n",
            "123456\n",
            "123456\n",
            "123456\n"
          ]
        }
      ]
    },
    {
      "cell_type": "code",
      "source": [
        "#task_19 different stream\n",
        "\n",
        "n = int(input(\"Enter number of rows: \"))\n",
        "for i in range(1,n+1):\n",
        "    for j in range(1, i+1):\n",
        "        print(j, end=\"\") #\"*\", end=\"\")\n",
        "    print()\n"
      ],
      "metadata": {
        "colab": {
          "base_uri": "https://localhost:8080/"
        },
        "id": "oOyCy35szVvg",
        "outputId": "b39c226c-6818-44f5-88ef-e3fa496f0617"
      },
      "execution_count": null,
      "outputs": [
        {
          "output_type": "stream",
          "name": "stdout",
          "text": [
            "Enter number of rows: 5\n",
            "1\n",
            "12\n",
            "123\n",
            "1234\n",
            "12345\n"
          ]
        }
      ]
    },
    {
      "cell_type": "code",
      "source": [
        "#task_20 Tracing starts from here and continues to #task_24\n"
      ],
      "metadata": {
        "id": "ZYZAvSlt1PWi"
      },
      "execution_count": null,
      "outputs": []
    },
    {
      "cell_type": "code",
      "source": [
        "#task_25\n",
        "# take user input for N\n",
        "N = int(input(\"Enter the value of N: \"))\n",
        "\n",
        "# initialize variables for first two Fibonacci numbers\n",
        "fib1 = 0\n",
        "fib2 = 1\n",
        "\n",
        "# print the first Fibonacci number\n",
        "print(fib1, end=' ')\n",
        "\n",
        "# print the second Fibonacci number if N is greater than or equal to 2\n",
        "if N >= 2:\n",
        "    print(fib2, end=' ')\n",
        "\n",
        "# loop through the remaining Fibonacci numbers and print them\n",
        "for i in range(2, N):\n",
        "    fib = fib1 + fib2\n",
        "    if fib > N:\n",
        "        break\n",
        "    print(fib, end=' ')\n",
        "    fib1 = fib2\n",
        "    fib2 = fib"
      ],
      "metadata": {
        "colab": {
          "base_uri": "https://localhost:8080/"
        },
        "id": "pdrDgBloCOno",
        "outputId": "52cd65f6-9448-4875-a7b9-b763fd117474"
      },
      "execution_count": null,
      "outputs": [
        {
          "output_type": "stream",
          "name": "stdout",
          "text": [
            "Enter the value of N: 15\n",
            "0 1 1 2 3 5 8 13 "
          ]
        }
      ]
    },
    {
      "cell_type": "code",
      "source": [
        "#task_26\n",
        "\n",
        "num = int(input())\n",
        "bin = \"\"\n",
        "\n",
        "while num>0:\n",
        "  extract = num % 2\n",
        "  bin += str(extract)\n",
        "\n",
        "  num //= 2\n",
        "\n",
        "print(bin[ : :-1])\n"
      ],
      "metadata": {
        "colab": {
          "base_uri": "https://localhost:8080/"
        },
        "id": "79wZEmxDESql",
        "outputId": "e59975fe-fdc8-497d-ed17-e79f47c61d19"
      },
      "execution_count": null,
      "outputs": [
        {
          "output_type": "stream",
          "name": "stdout",
          "text": [
            "11\n",
            "1011\n"
          ]
        }
      ]
    },
    {
      "cell_type": "code",
      "source": [
        "#task_26 Using function\n",
        "\n",
        "# Python function to take the decimal input and return its binary notation\n",
        "\n",
        "#####Function starts here\n",
        "def convertToBinary(decimal):\n",
        "\n",
        " while decimal > 0:\n",
        "     value = int(decimal % 2)\n",
        "     decimal = int(decimal / 2)\n",
        "     nbin.append(value)\n",
        " nbin.reverse()\n",
        " return nbin\n",
        "# since the Binary value may be too large for certain numbers so I used Char array to store the Binary value\n",
        "#####Function ends here\n",
        "\n",
        "#####Driver program\n",
        "dec = int(input(\"Enter Decimal Number :\"))\n",
        "nbin=[]\n",
        "nbin = convertToBinary(dec)\n",
        "print(\"Binary value is \", end=\": \")\n",
        "for x in nbin:\n",
        "    print(x, end='')"
      ],
      "metadata": {
        "colab": {
          "base_uri": "https://localhost:8080/"
        },
        "id": "IDIwgiYFLcdV",
        "outputId": "a1b637e3-21ac-4aa8-82dd-4c13ef79bcb9"
      },
      "execution_count": null,
      "outputs": [
        {
          "output_type": "stream",
          "name": "stdout",
          "text": [
            "Enter Decimal Number :13\n",
            "Binary value is : 1101"
          ]
        }
      ]
    },
    {
      "cell_type": "code",
      "source": [
        "#task_26 solve using list\n",
        "\n",
        "dnum = int(input(\"Enter the Decimal Number: \"))\n",
        "i = 0\n",
        "bnum = []\n",
        "while dnum!=0:\n",
        "    rem = dnum%2\n",
        "    bnum.insert(i, rem)\n",
        "    i = i+1\n",
        "    dnum = int(dnum/2)\n",
        "\n",
        "i = i-1\n",
        "print(\"\\nEquivalent Binary Value is:\")\n",
        "while i>=0:\n",
        "    print(end=str(bnum[i]))\n",
        "    i = i-1\n",
        "print()\n"
      ],
      "metadata": {
        "id": "pGIdHsMHMEz5"
      },
      "execution_count": null,
      "outputs": []
    },
    {
      "cell_type": "code",
      "source": [
        "#task_26 Decimal to Binary without List(the simplest form)\n",
        "\n",
        "dnum = int(input(\"Enter Decimal Number: \"))\n",
        "\n",
        "bnum = 0\n",
        "mul = 1\n",
        "while dnum>0:\n",
        "    rem = dnum%2\n",
        "    bnum = bnum+(rem*mul)\n",
        "    mul = mul*10\n",
        "    dnum = int(dnum/2)\n",
        "\n",
        "print(\"\\nEquivalent Binary Value:\", bnum)\n"
      ],
      "metadata": {
        "colab": {
          "base_uri": "https://localhost:8080/"
        },
        "id": "hhruxRdHOOJt",
        "outputId": "6bebc5dd-ae5a-436d-f75c-71a98d8cff9a"
      },
      "execution_count": null,
      "outputs": [
        {
          "output_type": "stream",
          "name": "stdout",
          "text": [
            "Enter Decimal Number: 13\n",
            "\n",
            "Equivalent Binary Value: 1101\n"
          ]
        }
      ]
    },
    {
      "cell_type": "code",
      "source": [
        "#task 27\n",
        "num = input()\n",
        "dec = 0\n",
        "\n",
        "for i in range(len(num)):\n",
        "  num_int = num[i]\n",
        "  dec += int(num_int)*(2**(len(num)-i-1))\n",
        "\n",
        "\n",
        "print(dec)"
      ],
      "metadata": {
        "colab": {
          "base_uri": "https://localhost:8080/"
        },
        "id": "SMLzqRuPQ6PC",
        "outputId": "cab79382-1da3-40eb-db50-37041de2f66c"
      },
      "execution_count": null,
      "outputs": [
        {
          "output_type": "stream",
          "name": "stdout",
          "text": [
            "11101\n",
            "29\n"
          ]
        }
      ]
    },
    {
      "cell_type": "code",
      "source": [
        "#task_28\n",
        "\n",
        "# take user input for range\n",
        "start_num = int(input(\"Enter starting number: \"))\n",
        "end_num = int(input(\"Enter ending number: \"))\n",
        "\n",
        "# initialize counters and lists\n",
        "prime_count = 0\n",
        "perfect_count = 0\n",
        "prime_list = []\n",
        "perfect_list = []\n",
        "\n",
        "# loop through the range and count prime and perfect numbers\n",
        "for num in range(start_num, end_num+1):\n",
        "    # check for prime number\n",
        "    is_prime = True\n",
        "    if num < 2:\n",
        "        is_prime = False\n",
        "    for i in range(2, int(num**0.5)+1):\n",
        "        if num % i == 0:\n",
        "            is_prime = False\n",
        "            break\n",
        "    if is_prime:\n",
        "        prime_count += 1\n",
        "        prime_list.append(str(num))\n",
        "    \n",
        "    # check for perfect number\n",
        "    divisors = [1]\n",
        "    for i in range(2, int(num**0.5)+1):\n",
        "        if num % i == 0:\n",
        "            divisors.append(i)\n",
        "            if i != num // i:\n",
        "                divisors.append(num // i)\n",
        "    if sum(divisors) == num:\n",
        "        perfect_count += 1\n",
        "        perfect_list.append(str(num))\n",
        "\n",
        "# print the results\n",
        "print(f\"Between {start_num} and {end_num},\")\n",
        "print(f\"Found {prime_count} prime numbers\")\n",
        "print(f\"Found {perfect_count} perfect numbers\")\n",
        "print(f\"Prime numbers: {', '.join(prime_list)}\")\n",
        "print(f\"Perfect number: {', '.join(perfect_list)}\")"
      ],
      "metadata": {
        "colab": {
          "base_uri": "https://localhost:8080/"
        },
        "id": "1nxipJh3UIZ6",
        "outputId": "2a8e509d-17d2-40df-b6a6-0997eb2a2327"
      },
      "execution_count": null,
      "outputs": [
        {
          "output_type": "stream",
          "name": "stdout",
          "text": [
            "Enter starting number: 2\n",
            "Enter ending number: 6\n",
            "Between 2 and 6,\n",
            "Found 3 prime numbers\n",
            "Found 1 perfect numbers\n",
            "Prime numbers: 2, 3, 5\n",
            "Perfect number: 6\n"
          ]
        }
      ]
    },
    {
      "cell_type": "code",
      "source": [
        "#Task 29\n",
        "\n",
        "start = int(input())\n",
        "end = int(input())\n",
        "\n",
        "gg = int(input())\n",
        "\n",
        "for i in range(start, end+1):\n",
        "  br = str(i)\n",
        "  mul = 1\n",
        "  for j in br:\n",
        "    mul *= int(j)\n",
        "\n",
        "  if mul % gg == 0:\n",
        "    print(mul,end=\" \")\n",
        "    "
      ],
      "metadata": {
        "colab": {
          "base_uri": "https://localhost:8080/"
        },
        "id": "T1YXe4MEzXnT",
        "outputId": "00050766-1169-454f-d5af-3bfa2495de5d"
      },
      "execution_count": null,
      "outputs": [
        {
          "output_type": "stream",
          "name": "stdout",
          "text": [
            "351\n",
            "356\n",
            "9\n",
            "45 90 "
          ]
        }
      ]
    }
  ]
}