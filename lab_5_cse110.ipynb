{
  "nbformat": 4,
  "nbformat_minor": 0,
  "metadata": {
    "colab": {
      "provenance": []
    },
    "kernelspec": {
      "name": "python3",
      "display_name": "Python 3"
    },
    "language_info": {
      "name": "python"
    }
  },
  "cells": [
    {
      "cell_type": "code",
      "execution_count": null,
      "metadata": {
        "id": "S9rWLeKu8Qpm",
        "colab": {
          "base_uri": "https://localhost:8080/"
        },
        "outputId": "e9714b4e-55ee-445b-b15e-671fc5e62e9f"
      },
      "outputs": [
        {
          "output_type": "stream",
          "name": "stdout",
          "text": [
            "3\n",
            "Numbers in the list:[3]\n",
            "5\n",
            "Numbers in the list:[3, 5]\n",
            "34\n",
            "Numbers in the list:[3, 5, 34]\n",
            "-11\n",
            "Numbers in the list:[3, 5, 34, -11]\n",
            "0\n",
            "Numbers in the list:[3, 5, 34, -11, 0]\n"
          ]
        }
      ],
      "source": [
        "#task_1 me\n",
        "a_li =[]\n",
        "for char in range(5):\n",
        "  n = int(input())\n",
        "  a_li.append(n)\n",
        "  print(f\"Numbers in the list:{a_li}\")"
      ]
    },
    {
      "cell_type": "code",
      "source": [
        "#ways to take a list as an input\n",
        "#2nd source===============================just here to know how to take a list as an input\n",
        "input_string = input(\"Enter a list element separated by space \")\n",
        "list  = input_string.split()#after using .split; the string input turns into a list.\n",
        "print(\"Calculating sum of element of input list\")\n",
        "sum = 0\n",
        "for num in list:\n",
        "    sum += int(num)\n",
        "print(\"Sum = \",sum)\n",
        "#1st source================================just here to know how to take a list as an input\n",
        "input_string = input('Enter elements of a list separated by space ')\n",
        "print(\"\\n\")\n",
        "user_list = input_string.split()#here the split works on white spaces by default\n",
        "# print list\n",
        "print('list: ', user_list)\n",
        "\n",
        "# convert each item to int type\n",
        "for i in range(len(user_list)):#using len on \"user_list\" gives us it's index numbers\n",
        "    # convert each item to int type\n",
        "    user_list[i] = int(user_list[i])\n",
        "\n",
        "# Calculating the sum of list elements\n",
        "print(\"Sum = \", sum(user_list))"
      ],
      "metadata": {
        "id": "Bbi-qp9v8nOf"
      },
      "execution_count": null,
      "outputs": []
    },
    {
      "cell_type": "code",
      "source": [
        "#task_2 me\n",
        "user = input(\"Enter the string: \")\n",
        "a_li = user.split(\", \")\n",
        "b_li = []\n",
        "res_li = []\n",
        "if len(a_li) > 3:\n",
        "  for char in a_li:\n",
        "    b_li.append(char)\n",
        "  #print(b_li)\n",
        "  new_li = b_li[2:-2]\n",
        "  for i in range(len(new_li)):\n",
        "    new_li[i] = int(new_li[i])\n",
        "    res_li.append(new_li[i])\n",
        "  print(new_li)\n",
        "else:\n",
        "  print(\"Not possible\")"
      ],
      "metadata": {
        "colab": {
          "base_uri": "https://localhost:8080/"
        },
        "id": "RyrhKeNfB2Ak",
        "outputId": "409e807e-f512-4e04-bada-a51f5550022e"
      },
      "execution_count": null,
      "outputs": [
        {
          "output_type": "stream",
          "name": "stdout",
          "text": [
            "give it to me: 10, 20, 24\n",
            "Not possible\n"
          ]
        }
      ]
    },
    {
      "cell_type": "code",
      "source": [
        "#task_3 me\n",
        "#uh, i took the inputs in string format. dang it....\n",
        "#they also gave me the number of time the loop would run\n",
        "times = int(input(\"give me: \"))\n",
        "a_li = []\n",
        "b_li = []\n",
        "for i in range(times):\n",
        "  user = input(\"Give me more: \")\n",
        "  a_li.append(user)\n",
        "#print(a_li)\n",
        "for i in range(len(a_li)-1,0-1,-1):#to include the character at index 0\n",
        "  a_li[i] = int(a_li[i])\n",
        "  b_li.append(a_li[i])\n",
        "print(\"Printing values from the list in reverse order:\")\n",
        "for char in b_li:\n",
        "\n",
        "  print(char)"
      ],
      "metadata": {
        "colab": {
          "base_uri": "https://localhost:8080/"
        },
        "id": "N0AtYCznJAc0",
        "outputId": "836956c8-ded5-4f60-bf13-ee781892132a"
      },
      "execution_count": null,
      "outputs": [
        {
          "output_type": "stream",
          "name": "stdout",
          "text": [
            "give me: 5\n",
            "Give me more: 5\n",
            "Give me more: -5\n",
            "Give me more: 100\n",
            "Give me more: 1\n",
            "Give me more: 0\n",
            "Printing values from the list in reverse order:\n",
            "0\n",
            "1\n",
            "100\n",
            "-5\n",
            "5\n"
          ]
        }
      ]
    },
    {
      "cell_type": "code",
      "source": [
        "#task_4 me\n",
        "user = input(\"Give me the list: \")\n",
        "a_li = user[1:-1]#to remove \"[index 0\" \"]index -1\"\n",
        "b_li = a_li.split(\", \")\n",
        "c_li = []\n",
        "for char in b_li:\n",
        "  char = int(char)\n",
        "  c_li.append(char)\n",
        "d_li = []\n",
        "for int_char in c_li:\n",
        "  d_li.append(int_char**2)\n",
        "print(d_li)"
      ],
      "metadata": {
        "colab": {
          "base_uri": "https://localhost:8080/"
        },
        "id": "KB3Cf0R20WL4",
        "outputId": "d3fcb02c-5aa0-4d73-9fde-c7cd737fd58b"
      },
      "execution_count": null,
      "outputs": [
        {
          "output_type": "stream",
          "name": "stdout",
          "text": [
            "Give me the list: [3, 5, 1, 6]\n",
            "[9, 25, 1, 36]\n"
          ]
        }
      ]
    },
    {
      "cell_type": "code",
      "source": [
        "#task_5 me\n",
        "given_li = [\"hey\", \"there\", \"\", \"what's\", \"\", \"up\", \"\", \"?\"]\n",
        "c_li = []\n",
        "for char in given_li:\n",
        "  if char == \"\":\n",
        "    continue\n",
        "  else:\n",
        "    c_li.append(char)\n",
        "print(\"Original List:\",given_li)\n",
        "print(\"Modified List:\",c_li)"
      ],
      "metadata": {
        "colab": {
          "base_uri": "https://localhost:8080/"
        },
        "id": "UpYhDS6n_nDS",
        "outputId": "f18dcdda-0f72-465b-c2a5-694717f0d275"
      },
      "execution_count": null,
      "outputs": [
        {
          "output_type": "stream",
          "name": "stdout",
          "text": [
            "Original List: ['hey', 'there', '', \"what's\", '', 'up', '', '?']\n",
            "Modified List: ['hey', 'there', \"what's\", 'up', '?']\n"
          ]
        }
      ]
    },
    {
      "cell_type": "code",
      "source": [
        "#task_6 me\n",
        "#have to imagine the first index value as the largest at first\n",
        "import math\n",
        "user = input(\"Enter the string: \")\n",
        "a_li = user.split(\",\")\n",
        "max = -math.inf\n",
        "#count = 0 ; not necessarily needed\n",
        "for i in range(len(a_li)):\n",
        "  if float(a_li[i]) > max:\n",
        "    count = 0\n",
        "    max = float(a_li[i])\n",
        "    count += i\n",
        "  else: \n",
        "    continue\n",
        "print(f\"Largest number in the list is {int(max)} which was found at index {count}\")"
      ],
      "metadata": {
        "colab": {
          "base_uri": "https://localhost:8080/"
        },
        "id": "CAE2yoiEHOLA",
        "outputId": "12273c5f-1e51-4fab-825d-b4beb7292023"
      },
      "execution_count": null,
      "outputs": [
        {
          "output_type": "stream",
          "name": "stdout",
          "text": [
            "give me the string: 7,13,2,10,6,-11,0\n",
            "Largest number in the list is 13 which was found at index 1\n"
          ]
        }
      ]
    },
    {
      "cell_type": "code",
      "source": [
        "#task_7 me\n",
        "given_li1 = [1, 3, 5, 7, 9, 10]\n",
        "given_li2 = [2, 4, 6, 8]\n",
        "modded_li=given_li1[:-1] + given_li2\n",
        "print(modded_li)"
      ],
      "metadata": {
        "id": "Bm6tp5qeNIPH",
        "colab": {
          "base_uri": "https://localhost:8080/"
        },
        "outputId": "77c119e0-8135-4d4f-957d-aa2e02c80b67"
      },
      "execution_count": null,
      "outputs": [
        {
          "output_type": "stream",
          "name": "stdout",
          "text": [
            "[1, 3, 5, 7, 9, 2, 4, 6, 8]\n"
          ]
        }
      ]
    },
    {
      "cell_type": "code",
      "source": [
        "#task_8 me\n",
        "given_li1 = [1, 2, 3, 4, 5, 6, 7, 8, 9]\n",
        "given_li2 = [10, 11, 12, -13, -14, -15, -16]\n",
        "modded_li1 = []\n",
        "modded_li2 = []\n",
        "for i in range(len(given_li1)):\n",
        "  if given_li1[i]%2 == 0:\n",
        "    modded_li1.append(given_li1[i])\n",
        "  else:\n",
        "    continue\n",
        "for i in range(len(given_li2)):\n",
        "  if given_li2[i]%2 == 0:\n",
        "    modded_li2.append(given_li2[i])\n",
        "  else:\n",
        "    continue\n",
        "final_li = modded_li1 + modded_li2\n",
        "print(final_li)"
      ],
      "metadata": {
        "id": "WP3_4S6tbE7V",
        "colab": {
          "base_uri": "https://localhost:8080/"
        },
        "outputId": "697e7cde-8eb0-4e75-8e41-2348dedc130c"
      },
      "execution_count": null,
      "outputs": [
        {
          "output_type": "stream",
          "name": "stdout",
          "text": [
            "[2, 4, 6, 8, 10, 12, -14, -16]\n"
          ]
        }
      ]
    },
    {
      "cell_type": "code",
      "source": [
        "#task_9 me*****\n",
        "user = input()\n",
        "a_li = []\n",
        "int_a_li = []\n",
        "temp = \"\"\n",
        "#creating the list based on white spaces without using .split\n",
        "for char in user:\n",
        "  if char == \" \":\n",
        "    a_li.append(temp)\n",
        "    temp = \"\"\n",
        "  else:\n",
        "    temp += char\n",
        "if temp:\n",
        "  a_li.append(temp)#after the last iteration, the loop ends when temp is filled with no chance of getting a space to append temp into a_li; thus we append it once the loop is over\n",
        "#print(a_li)#string list creation done without .split\n",
        "#creating the integer list\n",
        "for char in a_li:\n",
        "  char = int(char)\n",
        "  int_a_li.append(char)\n",
        "print(f\"Original list: {int_a_li}\")\n",
        "#now make the list removing even numbers\n",
        "odd_li = []\n",
        "for i in range(len(int_a_li)):\n",
        "  if int_a_li[i] % 2 == 0:\n",
        "    continue\n",
        "  else:\n",
        "    odd_li.append(int_a_li[i])\n",
        "print(f\"Modified list:{odd_li}\")"
      ],
      "metadata": {
        "id": "bEbBWjacehFr",
        "colab": {
          "base_uri": "https://localhost:8080/"
        },
        "outputId": "17c14801-bd3c-4ccf-a1ed-a87acccac782"
      },
      "execution_count": null,
      "outputs": [
        {
          "output_type": "stream",
          "name": "stdout",
          "text": [
            "7 12 4 55 96 2 11 61 33 42\n",
            "Original list: [7, 12, 4, 55, 96, 2, 11, 61, 33, 42]\n",
            "Modified list:[7, 55, 11, 61, 33]\n"
          ]
        }
      ]
    },
    {
      "cell_type": "code",
      "source": [
        "#task_10 me\n",
        "user = input(\"enter the str: \")\n",
        "a_li = user.split(\",\")#made a list of string numbers\n",
        "int_a_li = []\n",
        "modded_li = []\n",
        "for char in a_li:\n",
        "  char = int(char)\n",
        "  int_a_li.append(char)\n",
        "print(f\"Input list: {int_a_li}\")\n",
        "for char in int_a_li:\n",
        "  if char in modded_li:\n",
        "    continue\n",
        "  else:\n",
        "    modded_li.append(char)\n",
        "print(f\"Modified list: {modded_li}\")"
      ],
      "metadata": {
        "id": "X5uNorJQ2Fhu",
        "colab": {
          "base_uri": "https://localhost:8080/"
        },
        "outputId": "ba110aee-8e1e-4749-f1b9-cd9b931d4c80"
      },
      "execution_count": null,
      "outputs": [
        {
          "output_type": "stream",
          "name": "stdout",
          "text": [
            "enter the str: 0, 0, 1, 2, 3, 4, 4, 5, 6, 6, 6, 7, 8, 9, 4, 4\n",
            "Input list: [0, 0, 1, 2, 3, 4, 4, 5, 6, 6, 6, 7, 8, 9, 4, 4]\n",
            "Modified list: [0, 1, 2, 3, 4, 5, 6, 7, 8, 9]\n"
          ]
        }
      ]
    },
    {
      "cell_type": "code",
      "source": [
        "#task_11 me\n",
        "given_li1 = [1, 4, 3, 2, 5]\n",
        "given_li2 = [8, 7, 6, 9]\n",
        "flag = False\n",
        "for char in given_li1:\n",
        "  if char in given_li2:\n",
        "    flag = True\n",
        "  else:\n",
        "    flag = False\n",
        "if flag:\n",
        "  print(flag)\n",
        "else:\n",
        "  print(flag)"
      ],
      "metadata": {
        "colab": {
          "base_uri": "https://localhost:8080/"
        },
        "id": "wh2LPMqX9Med",
        "outputId": "9d1600b1-1066-4d58-ab93-17b48e7e96ba"
      },
      "execution_count": null,
      "outputs": [
        {
          "output_type": "stream",
          "name": "stdout",
          "text": [
            "False\n"
          ]
        }
      ]
    },
    {
      "cell_type": "code",
      "source": [
        "#task_16 *****\n",
        "# Take user input for 7 numbers\n",
        "num_list = []\n",
        "for i in range(7):\n",
        "    num = int(input(\"Enter number {}: \".format(i+1)))\n",
        "    #num = int(input(f\"Enter number {i+1}: \"))\n",
        "    num_list.append(num)\n",
        "\n",
        "# Find the second largest number and its index\n",
        "largest = num_list[0]\n",
        "second_largest = None\n",
        "largest_index = 0\n",
        "for i in range(1, len(num_list)):\n",
        "    if num_list[i] > largest:\n",
        "        second_largest = largest\n",
        "        largest = num_list[i]\n",
        "        largest_index = i\n",
        "    elif num_list[i] != largest and (second_largest is None or num_list[i] > second_largest):\n",
        "        second_largest = num_list[i]\n",
        "\n",
        "# Print the result\n",
        "print(\"My list:\", num_list)\n",
        "print(\"Second largest number in the list is {} which was found at index {}.\".format(second_largest, largest_index))"
      ],
      "metadata": {
        "colab": {
          "base_uri": "https://localhost:8080/"
        },
        "id": "LBTlFBBqrQXq",
        "outputId": "e7ab949a-a556-4b35-b796-916648af543c"
      },
      "execution_count": 2,
      "outputs": [
        {
          "output_type": "stream",
          "name": "stdout",
          "text": [
            "Enter a list: 7, 13, 2, 10, 6, -11, 0\n",
            "My list: ['7', '13', '2', '10', '6', '-11', '0']\n",
            "Second largest number in the list is 6 which was found at index 0.\n"
          ]
        }
      ]
    },
    {
      "cell_type": "code",
      "source": [
        "#task_17 *****\n",
        "# Read input numbers into a list\n",
        "num_list = []\n",
        "for i in range(5):\n",
        "    num = int(input(\"Enter a number: \"))\n",
        "    num_list.append(num)\n",
        "\n",
        "# Find smallest and largest numbers and their indices\n",
        "smallest = num_list[0]\n",
        "largest = num_list[0]\n",
        "smallest_index = 0\n",
        "largest_index = 0\n",
        "for i in range(1, len(num_list)):\n",
        "    if num_list[i] < smallest:\n",
        "        smallest = num_list[i]\n",
        "        smallest_index = i\n",
        "    elif num_list[i] > largest:\n",
        "        largest = num_list[i]\n",
        "        largest_index = i\n",
        "\n",
        "# Print the results\n",
        "print(\"My list: \" + str(num_list))\n",
        "print(\"Smallest number in the list is \" + str(smallest) + \" which was found at index \" + str(smallest_index))\n",
        "print(\"Largest number in the list is \" + str(largest) + \" which was found at index \" + str(largest_index))"
      ],
      "metadata": {
        "id": "CtpeyPL3wUTO"
      },
      "execution_count": null,
      "outputs": []
    },
    {
      "cell_type": "code",
      "source": [
        "#task_18 ideal very ideal for all of list problems\n",
        "# Taking input from the user and splitting the values into two lists\n",
        "list1 = input(\"Enter elements of list 1 separated by comma: \").split(\",\")\n",
        "list2 = input(\"Enter elements of list 2 separated by comma: \").split(\",\")\n",
        "\n",
        "# Initializing an empty list to store the common elements\n",
        "common = []\n",
        "\n",
        "# Looping through each element in list1\n",
        "for element in list1:\n",
        "    # Checking if the element is present in list2 and not already in the common list\n",
        "    if element in list2 and element not in common:\n",
        "        common.append(element)\n",
        "\n",
        "# Printing the final common list\n",
        "print(common)"
      ],
      "metadata": {
        "id": "4P1j4RTKxR98"
      },
      "execution_count": null,
      "outputs": []
    },
    {
      "cell_type": "code",
      "source": [
        "#task_19\n",
        "list_one = [1, 2, 2, 4, 5, 5, 7, 99, 200, 303, 70]\n",
        "list_two = [1, 1, 2, 3, 3, 3, 4, 5, 200, 500, -5]\n",
        "\n",
        "# create a third list to store the unique elements\n",
        "result_list = []\n",
        "\n",
        "# iterate over each element in list_one\n",
        "for element in list_one:\n",
        "    # add the element to the result list if it's not already in it\n",
        "    if element not in result_list:\n",
        "        result_list.append(element)\n",
        "\n",
        "# iterate over each element in list_two\n",
        "for element in list_two:\n",
        "    # add the element to the result list if it's not already in it\n",
        "    if element not in result_list:\n",
        "        result_list.append(element)\n",
        "\n",
        "# print the updated list\n",
        "print(result_list)"
      ],
      "metadata": {
        "id": "xTCJZ6eDxq35"
      },
      "execution_count": null,
      "outputs": []
    },
    {
      "cell_type": "code",
      "source": [
        "#task_20 ***\n",
        "user_input = input(\"Enter a list as a string: \")\n",
        "\n",
        "# Remove square brackets and leading/trailing white spaces\n",
        "user_input = user_input.strip('[]').strip()\n",
        "\n",
        "# Split the string by commas and strip extra white spaces\n",
        "num_list = []\n",
        "for num in user_input.split(','):\n",
        "  num_list.append(num.strip())\n",
        "\n",
        "\n",
        "# Convert strings to integers\n",
        "int_num_list = []\n",
        "for num in num_list:\n",
        "  int_num_list.append(int(num))\n",
        "\n",
        "print(\"Original data:\", user_input)\n",
        "print(\"After removing square brackets:\", ', '.join(num_list))\n",
        "print(\"Numbers in string format with extra white spaces:\", num_list)\n",
        "print(\"Final data (numbers in list format):\", num_list)"
      ],
      "metadata": {
        "colab": {
          "base_uri": "https://localhost:8080/"
        },
        "id": "CeYHS6NzGuAI",
        "outputId": "620c6d85-781e-40c2-9734-8b6cc1053378"
      },
      "execution_count": 2,
      "outputs": [
        {
          "output_type": "stream",
          "name": "stdout",
          "text": [
            "Enter a list as a string: [1,      2   ,            3, 50, 4]\n",
            "Original data: 1,      2   ,            3, 50, 4\n",
            "After removing square brackets: 1, 2, 3, 50, 4\n",
            "Numbers in string format with extra white spaces: ['1', '2', '3', '50', '4']\n",
            "Final data (numbers in list format): ['1', '2', '3', '50', '4']\n"
          ]
        }
      ]
    },
    {
      "cell_type": "code",
      "source": [
        "#task_20 alt ****\n",
        "# take input string from user\n",
        "input_str = input(\"Enter a list as a string: \")\n",
        "\n",
        "# initialize variables\n",
        "temp_str = \"\"\n",
        "final_list = []\n",
        "in_number = False\n",
        "\n",
        "# iterate over the input string character by character\n",
        "for c in input_str:\n",
        "    if ord(\"0\")<=ord(c)<=ord(\"9\") or c == \"-\":#.isdigit() \n",
        "        # if the current character is a digit or negative sign, add it to the temporary string\n",
        "        temp_str += c\n",
        "        in_number = True\n",
        "    elif in_number:\n",
        "        # if the previous characters formed a number, add it to the final list\n",
        "        final_list.append(int(temp_str))\n",
        "        temp_str = \"\"\n",
        "        in_number = False\n",
        "\n",
        "# if there are any remaining characters in the temporary string, add them to the final list\n",
        "if temp_str:\n",
        "    final_list.append(int(temp_str))\n",
        "\n",
        "# print the final list\n",
        "print(final_list)"
      ],
      "metadata": {
        "colab": {
          "base_uri": "https://localhost:8080/"
        },
        "id": "DZfm1gXQ6UzO",
        "outputId": "e7b73d28-41f6-401d-bf4f-423055e03870"
      },
      "execution_count": 4,
      "outputs": [
        {
          "output_type": "stream",
          "name": "stdout",
          "text": [
            "Enter a list as a string:       [1,   2   ,         3,   50,   4]         \n",
            "[1, 2, 3, 50, 4]\n"
          ]
        }
      ]
    },
    {
      "cell_type": "code",
      "source": [
        "#task_21 *****\n",
        "numbers_str = input(\"Enter comma-separated numbers: \")\n",
        "#numbers_list = [int(num.strip()) for num in numbers_str.split(\",\")]\n",
        "numbers_list = []\n",
        "for num in numbers_str.split(\",\"):\n",
        "  numbers_list.append(int(num.strip()))\n",
        "unique_numbers = []\n",
        "for num in numbers_list:\n",
        "    if num not in unique_numbers:\n",
        "        unique_numbers.append(num)\n",
        "\n",
        "print(\"Given numbers in list:\", numbers_list)\n",
        "print(\"List without any duplicate values:\", unique_numbers)"
      ],
      "metadata": {
        "colab": {
          "base_uri": "https://localhost:8080/"
        },
        "id": "zhuGTm6zI8Kq",
        "outputId": "a7e17b83-f86b-4822-92b4-7193779231b5"
      },
      "execution_count": 9,
      "outputs": [
        {
          "output_type": "stream",
          "name": "stdout",
          "text": [
            "Enter comma-separated numbers: 7, 7, 7, 1,           0, 3, 3,   55, 9\n",
            "Given numbers in list: [7, 7, 7, 1, 0, 3, 3, 55, 9]\n",
            "List without any duplicate values: [7, 1, 0, 3, 55, 9]\n"
          ]
        }
      ]
    }
  ]
}