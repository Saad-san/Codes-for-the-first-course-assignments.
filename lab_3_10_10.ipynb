{
  "nbformat": 4,
  "nbformat_minor": 0,
  "metadata": {
    "colab": {
      "provenance": []
    },
    "kernelspec": {
      "name": "python3",
      "display_name": "Python 3"
    },
    "language_info": {
      "name": "python"
    }
  },
  "cells": [
    {
      "cell_type": "code",
      "execution_count": null,
      "metadata": {
        "colab": {
          "base_uri": "https://localhost:8080/"
        },
        "id": "3UeyH8OB5PZz",
        "outputId": "0e0077f6-39f3-4d66-ec76-dd0cfef06631"
      },
      "outputs": [
        {
          "output_type": "stream",
          "name": "stdout",
          "text": [
            "24, 18, 12, 6, 0, -6"
          ]
        }
      ],
      "source": [
        "#task_1 (a)\n",
        "count = 24\n",
        " \n",
        "while count >= -6:\n",
        "    \n",
        "    if count == -6:\n",
        "        print(count, end = \"\") \n",
        "    else:\n",
        "        print(count, end = \", \") \n",
        "     \n",
        "    count = count - 6 \n",
        "    "
      ]
    },
    {
      "cell_type": "code",
      "source": [
        "#task_1 (b)  -10, -5, 0, 5, 10, 15, 20\n",
        "count = -10\n",
        "\n",
        "while count <= 20:\n",
        "\n",
        "  if count == 20:\n",
        "    print(count, end = \"\")\n",
        "  else:\n",
        "    print(count,end=\", \")\n",
        "\n",
        "  count += 5\n"
      ],
      "metadata": {
        "colab": {
          "base_uri": "https://localhost:8080/"
        },
        "id": "zZQ6yP7L6r0d",
        "outputId": "aef4d124-3a37-439b-8c4f-9c78014cb6c5"
      },
      "execution_count": null,
      "outputs": [
        {
          "output_type": "stream",
          "name": "stdout",
          "text": [
            "-10, -5, 0, 5, 10, 15, 20 "
          ]
        }
      ]
    },
    {
      "cell_type": "code",
      "source": [
        "#task_1 (c) 18, 27, 36, 45, 54, 63\n",
        "\n",
        "count = 18\n",
        "\n",
        "while count <= 63:\n",
        "\n",
        "  if count == 63:\n",
        "    print(count, end = \" \")\n",
        "  else:\n",
        "    print(count,end=', ')\n",
        "\n",
        "  count += 9\n",
        "  "
      ],
      "metadata": {
        "id": "fkCY-HYt6JJH",
        "colab": {
          "base_uri": "https://localhost:8080/"
        },
        "outputId": "ade3a5e6-f016-4b79-c5d8-44003765a569"
      },
      "execution_count": null,
      "outputs": [
        {
          "output_type": "stream",
          "name": "stdout",
          "text": [
            "18, 27, 36, 45, 54, 63 "
          ]
        }
      ]
    },
    {
      "cell_type": "code",
      "source": [
        "#task_1 (d) 18, -27, 36, -45, 54, -63\n",
        "\n",
        "count = 18\n",
        "\n",
        "while count <= 63:\n",
        "\n",
        "  if count == 63:\n",
        "    print(-count, end = \" \")\n",
        "  else:\n",
        "    if count % 2 != 0:\n",
        "      print((count * -1),end=', ')\n",
        "    else:\n",
        "      print(count,end=', ')\n",
        "\n",
        "  count += 9\n",
        "  "
      ],
      "metadata": {
        "id": "DRS632826i02",
        "colab": {
          "base_uri": "https://localhost:8080/"
        },
        "outputId": "965e618a-b803-414c-cb12-c94a2c429539"
      },
      "execution_count": null,
      "outputs": [
        {
          "output_type": "stream",
          "name": "stdout",
          "text": [
            "18, -27, 36, -45, 54, -63 "
          ]
        }
      ]
    },
    {
      "cell_type": "code",
      "source": [
        "#task_2 \n",
        "\n",
        "car = input(\"Please enter your favourite car: \")\n",
        "num = int(input(\"Enter a number: \"))\n",
        "for i in range(num):\n",
        "  print(car)\n",
        "  "
      ],
      "metadata": {
        "colab": {
          "base_uri": "https://localhost:8080/"
        },
        "id": "Pvd2OUXK7kyk",
        "outputId": "d849d35b-02f9-4940-b787-e307f21faf7f"
      },
      "execution_count": null,
      "outputs": [
        {
          "output_type": "stream",
          "name": "stdout",
          "text": [
            "Please enter your favourite car: prius\n",
            "Enter a number: 2\n",
            "prius\n",
            "prius\n"
          ]
        }
      ]
    },
    {
      "cell_type": "code",
      "source": [
        "#task_3\n",
        "\n",
        "sum = 0\n",
        "\n",
        "for i in range(1,601):\n",
        "  if i % 7 == 0 and i % 9 == 0:\n",
        "    sum += i\n",
        "print(sum)\n"
      ],
      "metadata": {
        "colab": {
          "base_uri": "https://localhost:8080/"
        },
        "id": "X9kCByq47xxs",
        "outputId": "a0be1ba9-f67f-4561-e2ab-65b17fd55240"
      },
      "execution_count": null,
      "outputs": [
        {
          "output_type": "stream",
          "name": "stdout",
          "text": [
            "2835\n"
          ]
        }
      ]
    },
    {
      "cell_type": "code",
      "source": [
        "#task_4\n",
        "\n",
        "sum = 0\n",
        "\n",
        "for i in range(1,601):\n",
        "  if (i%7==0 or i%9==0) and (i%7 != i%9):\n",
        "    sum += i\n",
        "print(sum)\n"
      ],
      "metadata": {
        "colab": {
          "base_uri": "https://localhost:8080/"
        },
        "id": "oqdzG9UG8LRw",
        "outputId": "55ee487c-b339-4cb1-bd64-0adb6ca0f34e"
      },
      "execution_count": null,
      "outputs": [
        {
          "output_type": "stream",
          "name": "stdout",
          "text": [
            "39814\n"
          ]
        }
      ]
    },
    {
      "cell_type": "code",
      "source": [
        "#task_5\n",
        "\n",
        "for i in range(10,51):\n",
        "  if i % 2 != 0:\n",
        "    print(i, end=\" \")\n"
      ],
      "metadata": {
        "colab": {
          "base_uri": "https://localhost:8080/"
        },
        "id": "lFwezlhA8dRn",
        "outputId": "5576062f-5e20-40cd-ea9b-f749e6fc9fa9"
      },
      "execution_count": null,
      "outputs": [
        {
          "output_type": "stream",
          "name": "stdout",
          "text": [
            "11 13 15 17 19 21 23 25 27 29 31 33 35 37 39 41 43 45 47 49 "
          ]
        }
      ]
    },
    {
      "cell_type": "code",
      "source": [
        "#task_6 \n",
        "\n",
        "y = 0\n",
        "\n",
        "n = int(input(\"Please enter a number: \"))\n",
        "\n",
        "for i in range(n+1):\n",
        "\n",
        "  if i%2 != 0:\n",
        "    y+=(i**2)\n",
        "  else:\n",
        "    y-=(i**2)\n",
        "    \n",
        "print(y)\n"
      ],
      "metadata": {
        "colab": {
          "base_uri": "https://localhost:8080/"
        },
        "id": "2Mx33c5L8tvw",
        "outputId": "c9a166a9-f388-465c-947e-d72bddc3e8f3"
      },
      "execution_count": null,
      "outputs": [
        {
          "output_type": "stream",
          "name": "stdout",
          "text": [
            "20\n",
            "-210\n"
          ]
        }
      ]
    },
    {
      "cell_type": "code",
      "source": [
        "#task_7\n",
        "\n",
        "sum = 0\n",
        "\n",
        "count = 0\n",
        "\n",
        "for i in range(10):\n",
        "\n",
        "  num = int(input(\"Please enter a number: \"))\n",
        "  \n",
        "  if num % 2 != 0:\n",
        "\n",
        "    sum += num\n",
        "    count += 1\n",
        "avg = sum/count\n",
        "\n",
        "print(f\"The total of the odd numbers is {sum} and their average is {avg}\")\n"
      ],
      "metadata": {
        "colab": {
          "base_uri": "https://localhost:8080/"
        },
        "id": "qD1TOpxEGARr",
        "outputId": "0a5b2778-221d-4c8b-f094-dad6853567a3"
      },
      "execution_count": null,
      "outputs": [
        {
          "output_type": "stream",
          "name": "stdout",
          "text": [
            "Please enter a number: 1\n",
            "Please enter a number: 2\n",
            "Please enter a number: 3\n",
            "Please enter a number: 4\n",
            "Please enter a number: 5\n",
            "Please enter a number: 6\n",
            "Please enter a number: 7\n",
            "Please enter a number: 8\n",
            "Please enter a number: 9\n",
            "Please enter a number: 10\n",
            "The total of the odd numbers is 25 and their average is 5.0\n"
          ]
        }
      ]
    },
    {
      "cell_type": "code",
      "source": [
        "#task_8; summation of 7's multiple(factor = manufacturer; 1 is a factor of 7) up to n.(that's why N + 1)\n",
        "\n",
        "N = int(input(\"Enter a number: \"))\n",
        "\n",
        "sum = 0\n",
        "\n",
        "for i in range(1, N+1):\n",
        "  \n",
        "  if i % 7 == 0:\n",
        "    sum += i\n",
        "    \n",
        "print(sum)\n"
      ],
      "metadata": {
        "id": "6iSL4Xf7Gdgp",
        "colab": {
          "base_uri": "https://localhost:8080/"
        },
        "outputId": "c8dbec21-2dbe-42f4-fea5-216b3e8cbf18"
      },
      "execution_count": 10,
      "outputs": [
        {
          "output_type": "stream",
          "name": "stdout",
          "text": [
            "Enter a number: 50\n",
            "196\n"
          ]
        }
      ]
    },
    {
      "cell_type": "code",
      "source": [
        "#task_9; consecutive summation\n",
        "\n",
        "sum = 0\n",
        "\n",
        "for i in range(5):\n",
        "\n",
        "  num = int(input(\"Please enter a number: \"))\n",
        "  \n",
        "  sum += num\n",
        "  \n",
        "  print(sum)\n"
      ],
      "metadata": {
        "id": "geNCC1dRHFog",
        "colab": {
          "base_uri": "https://localhost:8080/"
        },
        "outputId": "f4a894b0-1740-4c62-ff0b-c4efce720a14"
      },
      "execution_count": null,
      "outputs": [
        {
          "output_type": "stream",
          "name": "stdout",
          "text": [
            "Please enter a number: 1\n",
            "1\n",
            "Please enter a number: 2\n",
            "3\n",
            "Please enter a number: 3\n",
            "6\n",
            "Please enter a number: 4\n",
            "10\n",
            "Please enter a number: 5\n",
            "15\n"
          ]
        }
      ]
    },
    {
      "cell_type": "code",
      "source": [
        "#task_10; print individual digits from right to left(have to use modulus operator)\n",
        "\n",
        "u_i = int(input(\"Please enter a number: \")) \n",
        "\n",
        "while u_i: # denotes, while u_i > 0: \n",
        "    if u_i // 10 == 0:\n",
        "      print(u_i % 10, end=\"\")\n",
        "    else:\n",
        "      print(u_i % 10, end=\", \")\n",
        "    u_i //= 10\n",
        "    "
      ],
      "metadata": {
        "colab": {
          "base_uri": "https://localhost:8080/"
        },
        "id": "_Q50oINlonwe",
        "outputId": "cfd5b927-2a40-4b12-9115-c296f1989e53"
      },
      "execution_count": null,
      "outputs": [
        {
          "output_type": "stream",
          "name": "stdout",
          "text": [
            "Please enter a number: 32768\n",
            "8, 6, 7, 2, 3"
          ]
        }
      ]
    },
    {
      "cell_type": "code",
      "source": [
        "#task_11; digit counter\n",
        "\n",
        "u_i = int(input(\"Please enter a number: \")) \n",
        "count = 0\n",
        "while u_i > 0: #denotes i > 0 by default\n",
        "    count += 1\n",
        "    u_i //= 10\n",
        "print(count)\n"
      ],
      "metadata": {
        "colab": {
          "base_uri": "https://localhost:8080/"
        },
        "id": "WzrkSmCxp-mp",
        "outputId": "e4d7cf98-d017-4527-8560-48adc24138bd"
      },
      "execution_count": null,
      "outputs": [
        {
          "output_type": "stream",
          "name": "stdout",
          "text": [
            "Please enter a number: 9876\n",
            "4\n"
          ]
        }
      ]
    },
    {
      "cell_type": "code",
      "source": [
        "#task_12; print individual digits from left to right(have to use floor division operator)\n",
        "#problem of heighest-mid significance\n",
        "#(factor = manufacturer; 1 is a factor of 8;dividing by factor gives us 0)\n",
        "#when 1//8;quotient ==8,1%8;remainder==0)\n",
        "u_i = int(input(\"Please enter a number: \"))\n",
        "num = u_i\n",
        "count = 0\n",
        "while u_i > 0: #it can also be written as( while i > 0:)\n",
        "    count += 1\n",
        "    u_i //= 10\n",
        "while count > 0: # (while count:) is also applicable\n",
        "    count -= 1\n",
        "    dit = num // 10 ** count#floor div gives me the leftmost dit(depending on the num of zeroes; more zero,less dit.)\n",
        "    num = num % 10 ** count#mod gives the rightmost dit(depending on the num of zeroes; more zero, more dit.)\n",
        "    if num % 10 == 0:#when num == 0\n",
        "      print(dit, end=\"\")\n",
        "    else:\n",
        "      print(dit, end = \", \")\n"
      ],
      "metadata": {
        "colab": {
          "base_uri": "https://localhost:8080/"
        },
        "id": "kAuRmgGgrF1a",
        "outputId": "9fda5a54-309d-46ba-c923-81473d5d86d7"
      },
      "execution_count": 11,
      "outputs": [
        {
          "output_type": "stream",
          "name": "stdout",
          "text": [
            "Please enter a number: 32768\n",
            "3, 2, 7, 6, 8"
          ]
        }
      ]
    },
    {
      "cell_type": "code",
      "source": [
        "#task_13\n",
        "\n",
        "num = int(input('Enter the value of num: '))\n",
        "count=0\n",
        "for i in range(1, num+1):\n",
        "  if num % i == 0:\n",
        "    count+=1\n",
        "    if i != num:\n",
        "      print(i) #end = ',')\n",
        "    else:\n",
        "      print(i)\n",
        "print(\"Total\", count, \"divisors\")\n"
      ],
      "metadata": {
        "colab": {
          "base_uri": "https://localhost:8080/"
        },
        "id": "ydxqF9ghsJmM",
        "outputId": "d4819667-094b-44a9-f1ca-1aee6a691fe0"
      },
      "execution_count": null,
      "outputs": [
        {
          "output_type": "stream",
          "name": "stdout",
          "text": [
            "Enter the value of num: 121\n",
            "1\n",
            "11\n",
            "121\n",
            "Total 3 divisors\n"
          ]
        }
      ]
    },
    {
      "cell_type": "code",
      "source": [
        "#task_14\n",
        "\n",
        "sum = 0\n",
        "num = int(input(\"Please input the number: \"))\n",
        "for i in range(1, num):\n",
        "  if num % i == 0:#checking for factors;1 is a factor of any number.\n",
        "    sum += i#sum of factors\n",
        "\n",
        "if (sum == num):#factors sum == the given num\n",
        "  print(f\"{num} is a perfect number\")\n",
        "else:\n",
        "  print(f\"{num} is not a perfect number\")\n",
        "  "
      ],
      "metadata": {
        "colab": {
          "base_uri": "https://localhost:8080/"
        },
        "id": "U4JEIp0rtDSg",
        "outputId": "65739e25-45b1-4f5b-bfe1-7c687d686966"
      },
      "execution_count": 13,
      "outputs": [
        {
          "output_type": "stream",
          "name": "stdout",
          "text": [
            "Please input the number: 6\n",
            "6 is a perfect number\n"
          ]
        }
      ]
    },
    {
      "cell_type": "code",
      "source": [
        "#task_15 incomplete\n",
        "\n",
        "num = int(input(\"Please enter a number: \"))\n",
        "if num > 1:\n",
        "   for i in range(2,num):\n",
        "       if (num % i) == 0:\n",
        "        print(num,\"is not a prime number\")\n",
        "        break\n",
        "       else:\n",
        "        print(num,\"is a prime number\")\n",
        "        break\n",
        "else:\n",
        "  print(num,\"is not a prime number\")\n"
      ],
      "metadata": {
        "colab": {
          "base_uri": "https://localhost:8080/"
        },
        "id": "4ZAzVbOytkgR",
        "outputId": "f98d2718-a428-4e75-d62c-3c127943cb32"
      },
      "execution_count": 31,
      "outputs": [
        {
          "output_type": "stream",
          "name": "stdout",
          "text": [
            "Please enter a number: 27\n",
            "27 is a prime number\n"
          ]
        }
      ]
    },
    {
      "cell_type": "code",
      "source": [
        "#task_15 Using a flag variable\n",
        "# Program to check if a number is prime or not\n",
        "\n",
        "#num = 29\n",
        "\n",
        "# To take input from the user\n",
        "num = int(input(\"Enter a number: \"))\n",
        "\n",
        "# define a flag variable\n",
        "flag = False\n",
        "\n",
        "if num == 1:\n",
        "    print(num, \"is not a prime number\")\n",
        "elif num > 1:\n",
        "    # check for factors\n",
        "    for i in range(2, num):\n",
        "        if (num % i) == 0:\n",
        "            # if factor is found, set flag to True\n",
        "            flag = True\n",
        "            # break out of loop\n",
        "            break\n",
        "\n",
        "    # check if flag is True\n",
        "    if flag:\n",
        "        print(num, \"is not a prime number\")\n",
        "    else:\n",
        "        print(num, \"is a prime number\")"
      ],
      "metadata": {
        "id": "Jg23RhpgzV_q"
      },
      "execution_count": null,
      "outputs": []
    },
    {
      "cell_type": "code",
      "source": [
        "#task_15 Using a for...else statement\n",
        "#num = 407\n",
        "\n",
        "# To take input from the user\n",
        "num = int(input(\"Enter a number: \"))\n",
        "\n",
        "if num == 1:\n",
        "    print(num, \"is not a prime number\")\n",
        "elif num > 1:\n",
        "   # check for factors\n",
        "   for i in range(2,num):\n",
        "       if (num % i) == 0:\n",
        "           print(num,\"is not a prime number\")\n",
        "           print(i,\"times\",num//i,\"is\",num)\n",
        "           break\n",
        "   else:\n",
        "       print(num,\"is a prime number\")\n",
        "       \n",
        "# if input number is less than\n",
        "# or equal to 1, it is not prime\n",
        "else:\n",
        "   print(num,\"is not a prime number\")"
      ],
      "metadata": {
        "id": "RvxSfovzxbVN"
      },
      "execution_count": null,
      "outputs": []
    },
    {
      "cell_type": "code",
      "source": [
        "#task_16\n",
        "\n",
        "quantity = int(input(\"Please enter a number: \"))\n",
        "min = 0\n",
        "max = 0\n",
        "sum = 0\n",
        "for i in range(quantity):\n",
        "   num = int(input(\"Please enter a number: \"))\n",
        "   \n",
        "   '''if (i == 0):\n",
        "       min = num\n",
        "       max = num'''\n",
        "   if (num < min):\n",
        "       min = num\n",
        "   if (num > max):\n",
        "       max = num\n",
        "\n",
        "   sum += num\n",
        "avg = sum/quantity\n",
        "\n",
        "print(\"Maximum\", max)\n",
        "print(\"Minimum\", min)\n",
        "print(\"Average is\", avg)\n"
      ],
      "metadata": {
        "colab": {
          "base_uri": "https://localhost:8080/"
        },
        "id": "JrJEpZJCtxrR",
        "outputId": "71112c20-698c-43d7-af7f-22245fc800d9"
      },
      "execution_count": null,
      "outputs": [
        {
          "output_type": "stream",
          "name": "stdout",
          "text": [
            "Please enter a number: 5\n",
            "Please enter a number: 10\n",
            "Please enter a number: 4\n",
            "Please enter a number: -100\n",
            "Please enter a number: -1\n",
            "Please enter a number: 1\n",
            "Maximum 10\n",
            "Minimum -100\n",
            "Average is -17.2\n"
          ]
        }
      ]
    },
    {
      "cell_type": "code",
      "source": [
        "#task_17\n",
        "\n",
        "N = int(input(\"Enter number of rows and columns: \"))\n",
        "for i in range(1, N + 1):\n",
        "    for j in range(1, N + 1):\n",
        "        if j <= i:\n",
        "            print('+', end='')\n",
        "        else:\n",
        "            print('+', end='')\n",
        "    print()\n",
        "    "
      ],
      "metadata": {
        "colab": {
          "base_uri": "https://localhost:8080/"
        },
        "id": "sYM45qeiy3N6",
        "outputId": "263666c5-4365-43a2-a2bb-1d5c021025e0"
      },
      "execution_count": null,
      "outputs": [
        {
          "output_type": "stream",
          "name": "stdout",
          "text": [
            "Enter number of rows: 5\n",
            "+++++\n",
            "+++++\n",
            "+++++\n",
            "+++++\n",
            "+++++\n"
          ]
        }
      ]
    },
    {
      "cell_type": "code",
      "source": [
        "#task_18\n",
        "\n",
        "M = int(input(\"Enter number of height: \"))\n",
        "N = int(input(\"Enter number of length: \"))\n",
        "for i in range(1, M + 1):#determines the rows\n",
        "    for j in range(1, N + 1):#determines the columns\n",
        "        if j <= i:\n",
        "            print(j , end='')\n",
        "        else:\n",
        "            print(j , end='')\n",
        "    print()\n"
      ],
      "metadata": {
        "colab": {
          "base_uri": "https://localhost:8080/"
        },
        "id": "kka4nvatzFvn",
        "outputId": "344d895e-3a79-4a73-c1c3-01da058419a2"
      },
      "execution_count": null,
      "outputs": [
        {
          "output_type": "stream",
          "name": "stdout",
          "text": [
            "Enter number of height: 4\n",
            "Enter number of length: 6\n",
            "123456\n",
            "123456\n",
            "123456\n",
            "123456\n"
          ]
        }
      ]
    },
    {
      "cell_type": "code",
      "source": [
        "#task_19 different stream\n",
        "\n",
        "N = int(input(\"Enter number of rows: \"))\n",
        "for i in range(1,N+1):#works on rows\n",
        "    for j in range(1, i+1):#works on columns\n",
        "        print(j, end=\"\") #\"*\", end=\"\")\n",
        "    print()\n"
      ],
      "metadata": {
        "colab": {
          "base_uri": "https://localhost:8080/"
        },
        "id": "oOyCy35szVvg",
        "outputId": "2eecedaa-20ff-41e9-a42d-aaae86c8b86f"
      },
      "execution_count": null,
      "outputs": [
        {
          "output_type": "stream",
          "name": "stdout",
          "text": [
            "Enter number of rows: 5\n",
            "1\n",
            "12\n",
            "123\n",
            "1234\n",
            "12345\n"
          ]
        }
      ]
    },
    {
      "cell_type": "code",
      "source": [
        "#task_20 Tracing starts from here and continues to #task_24\n"
      ],
      "metadata": {
        "id": "ZYZAvSlt1PWi"
      },
      "execution_count": null,
      "outputs": []
    },
    {
      "cell_type": "code",
      "source": [
        "#task_25\n",
        "# take user input for N\n",
        "N = int(input(\"Enter the value of N: \"))\n",
        "\n",
        "# initialize variables for first two Fibonacci numbers\n",
        "fib1 = 0\n",
        "fib2 = 1\n",
        "\n",
        "# print the first Fibonacci number\n",
        "print(fib1, end=' ')\n",
        "\n",
        "# print the second Fibonacci number if N is greater than or equal to 2\n",
        "if N >= 2:\n",
        "    print(fib2, end=' ')\n",
        "\n",
        "# loop through the remaining Fibonacci numbers and print them\n",
        "for i in range(2, N):\n",
        "    fib = fib1 + fib2\n",
        "    if fib > N:\n",
        "        break\n",
        "    print(fib, end=' ')\n",
        "    fib1 = fib2\n",
        "    fib2 = fib"
      ],
      "metadata": {
        "colab": {
          "base_uri": "https://localhost:8080/"
        },
        "id": "pdrDgBloCOno",
        "outputId": "6208deda-e4b2-4de9-cc40-b2915775857f"
      },
      "execution_count": null,
      "outputs": [
        {
          "output_type": "stream",
          "name": "stdout",
          "text": [
            "Enter the value of N: 10\n",
            "0 1 1 2 3 5 8 "
          ]
        }
      ]
    },
    {
      "cell_type": "code",
      "source": [
        "#task_26 using built-in bin typecasting function\n",
        "\n",
        "num = int(input(\"Please enter a dec value: \"))\n",
        "bin = \"\"\n",
        "\n",
        "while num>0:\n",
        "  extract = num % 2\n",
        "  bin += str(extract)\n",
        "\n",
        "  num //= 2\n",
        "\n",
        "print(bin[ : :-1])\n"
      ],
      "metadata": {
        "colab": {
          "base_uri": "https://localhost:8080/"
        },
        "id": "79wZEmxDESql",
        "outputId": "e59975fe-fdc8-497d-ed17-e79f47c61d19"
      },
      "execution_count": null,
      "outputs": [
        {
          "output_type": "stream",
          "name": "stdout",
          "text": [
            "11\n",
            "1011\n"
          ]
        }
      ]
    },
    {
      "cell_type": "code",
      "source": [
        "#task_26 Using function\n",
        "\n",
        "# Python function to take the decimal input and return its binary notation\n",
        "\n",
        "#####Function starts here\n",
        "def convertToBinary(decimal):\n",
        "\n",
        " while decimal > 0:\n",
        "     value = int(decimal % 2)\n",
        "     decimal = int(decimal / 2)\n",
        "     nbin.append(value)\n",
        " nbin.reverse()\n",
        " return nbin\n",
        "# since the Binary value may be too large for certain numbers so I used Char array to store the Binary value\n",
        "#####Function ends here\n",
        "\n",
        "#####Driver program\n",
        "dec = int(input(\"Enter Decimal Number :\"))\n",
        "nbin=[]\n",
        "nbin = convertToBinary(dec)\n",
        "print(\"Binary value is \", end=\": \")\n",
        "for x in nbin:\n",
        "    print(x, end='')"
      ],
      "metadata": {
        "colab": {
          "base_uri": "https://localhost:8080/"
        },
        "id": "IDIwgiYFLcdV",
        "outputId": "a1b637e3-21ac-4aa8-82dd-4c13ef79bcb9"
      },
      "execution_count": null,
      "outputs": [
        {
          "output_type": "stream",
          "name": "stdout",
          "text": [
            "Enter Decimal Number :13\n",
            "Binary value is : 1101"
          ]
        }
      ]
    },
    {
      "cell_type": "code",
      "source": [
        "#task_26 solve using list\n",
        "\n",
        "dnum = int(input(\"Enter the Decimal Number: \"))\n",
        "i = 0\n",
        "bnum = []\n",
        "while dnum!=0:\n",
        "    rem = dnum%2\n",
        "    bnum.insert(i, rem)\n",
        "    i = i+1\n",
        "    dnum = int(dnum/2)\n",
        "\n",
        "i = i-1\n",
        "print(\"\\nEquivalent Binary Value is:\")\n",
        "while i>=0:\n",
        "    print(end=str(bnum[i]))\n",
        "    i = i-1\n",
        "print()\n"
      ],
      "metadata": {
        "id": "pGIdHsMHMEz5"
      },
      "execution_count": null,
      "outputs": []
    },
    {
      "cell_type": "code",
      "source": [
        "#task_26 Decimal to Binary with loops and all(the simplest form)\n",
        "\n",
        "dnum = int(input(\"Enter Decimal Number: \"))\n",
        "\n",
        "bnum = 0\n",
        "mul = 1\n",
        "while dnum>0:\n",
        "    rem = dnum%2\n",
        "    bnum = bnum+(rem*mul)\n",
        "    mul = mul*10\n",
        "    dnum = int(dnum/2)\n",
        "\n",
        "print(\"\\nEquivalent Binary Value:\", bnum)\n"
      ],
      "metadata": {
        "colab": {
          "base_uri": "https://localhost:8080/"
        },
        "id": "hhruxRdHOOJt",
        "outputId": "6bebc5dd-ae5a-436d-f75c-71a98d8cff9a"
      },
      "execution_count": null,
      "outputs": [
        {
          "output_type": "stream",
          "name": "stdout",
          "text": [
            "Enter Decimal Number: 13\n",
            "\n",
            "Equivalent Binary Value: 1101\n"
          ]
        }
      ]
    },
    {
      "cell_type": "code",
      "source": [
        "#task 27\n",
        "num = input(\"Please enter a binary num: \")\n",
        "dec = 0\n",
        "\n",
        "for i in range(len(num)):\n",
        "  num_int = num[i]\n",
        "  dec += int(num_int)*(2**(len(num)-i-1))\n",
        "\n",
        "\n",
        "print(dec)"
      ],
      "metadata": {
        "colab": {
          "base_uri": "https://localhost:8080/"
        },
        "id": "SMLzqRuPQ6PC",
        "outputId": "083ad607-9f1c-4a37-a213-ca4d4aeac54b"
      },
      "execution_count": null,
      "outputs": [
        {
          "output_type": "stream",
          "name": "stdout",
          "text": [
            "11101\n",
            "29\n"
          ]
        }
      ]
    },
    {
      "cell_type": "code",
      "source": [
        "#task_28\n",
        "\n",
        "# take user input for range\n",
        "start_num = int(input(\"Enter starting number: \"))\n",
        "end_num = int(input(\"Enter ending number: \"))\n",
        "\n",
        "# initialize counters and lists\n",
        "prime_count = 0\n",
        "perfect_count = 0\n",
        "prime_list = []\n",
        "perfect_list = []\n",
        "\n",
        "# loop through the range and count prime and perfect numbers\n",
        "for num in range(start_num, end_num+1):\n",
        "    # check for prime number\n",
        "    is_prime = True\n",
        "    if num < 2:\n",
        "        is_prime = False\n",
        "    for i in range(2, int(num**0.5)+1):\n",
        "        if num % i == 0:\n",
        "            is_prime = False\n",
        "            break\n",
        "    if is_prime:\n",
        "        prime_count += 1\n",
        "        prime_list.append(str(num))\n",
        "    \n",
        "    # check for perfect number\n",
        "    divisors = [1]\n",
        "    for i in range(2, int(num**0.5)+1):\n",
        "        if num % i == 0:\n",
        "            divisors.append(i)\n",
        "            if i != num // i:\n",
        "                divisors.append(num // i)\n",
        "    if sum(divisors) == num:\n",
        "        perfect_count += 1\n",
        "        perfect_list.append(str(num))\n",
        "\n",
        "# print the results\n",
        "print(f\"Between {start_num} and {end_num},\")\n",
        "print(f\"Found {prime_count} prime numbers\")\n",
        "print(f\"Found {perfect_count} perfect numbers\")\n",
        "print(f\"Prime numbers: {', '.join(prime_list)}\")\n",
        "print(f\"Perfect number: {', '.join(perfect_list)}\")"
      ],
      "metadata": {
        "colab": {
          "base_uri": "https://localhost:8080/"
        },
        "id": "1nxipJh3UIZ6",
        "outputId": "31743675-b030-4558-e647-10251a4650d0"
      },
      "execution_count": null,
      "outputs": [
        {
          "output_type": "stream",
          "name": "stdout",
          "text": [
            "Enter starting number: 2\n",
            "Enter ending number: 6\n",
            "Between 2 and 6,\n",
            "Found 3 prime numbers\n",
            "Found 1 perfect numbers\n",
            "Prime numbers: 2, 3, 5\n",
            "Perfect number: 6\n"
          ]
        }
      ]
    },
    {
      "cell_type": "code",
      "source": [
        "#Task_29\n",
        "\n",
        "start = int(input(\"Please set the starting point: \"))\n",
        "end = int(input(\"Please set the ending point: \"))\n",
        "\n",
        "checker = int(input(\"Enter the value: \"))\n",
        "\n",
        "for i in range(start, end+1):\n",
        "  br = str(i)\n",
        "  mul = 1\n",
        "  for j in br:\n",
        "    mul *= int(j)\n",
        "\n",
        "  if mul % checker == 0:\n",
        "    print(mul,end=\" \")\n",
        "    "
      ],
      "metadata": {
        "colab": {
          "base_uri": "https://localhost:8080/"
        },
        "id": "T1YXe4MEzXnT",
        "outputId": "ff54aa9a-3909-4231-d23e-cb8c943818cf"
      },
      "execution_count": null,
      "outputs": [
        {
          "output_type": "stream",
          "name": "stdout",
          "text": [
            "Please set the starting point: 351\n",
            "Please set the ending point: 356\n",
            "Enter the value: 9\n",
            "45 90 "
          ]
        }
      ]
    }
  ]
}