{
  "nbformat": 4,
  "nbformat_minor": 0,
  "metadata": {
    "colab": {
      "provenance": []
    },
    "kernelspec": {
      "name": "python3",
      "display_name": "Python 3"
    },
    "language_info": {
      "name": "python"
    }
  },
  "cells": [
    {
      "cell_type": "code",
      "execution_count": null,
      "metadata": {
        "colab": {
          "base_uri": "https://localhost:8080/"
        },
        "id": "d6n-TCR1_fPD",
        "outputId": "0568d97c-0124-4362-fadc-0c9100c1ff6c"
      },
      "outputs": [
        {
          "output_type": "stream",
          "name": "stdout",
          "text": [
            "Type anything: 1576527 \n",
            " 7256751\n"
          ]
        }
      ],
      "source": [
        "#task_1*\n",
        "\n",
        "str1 = input(\"Type anything: \")\n",
        "print(str1[::-1])"
      ]
    },
    {
      "cell_type": "code",
      "source": [
        "#task_2*\n",
        "\n",
        "text = input(\"Please enter a string: \")\n",
        "index = int(input(\"Please enter an index: \"))\n",
        "#slicing the string\n",
        "first = text[index::-1]\n",
        "second = text[index+1:]\n",
        "\n",
        "print(first + second)"
      ],
      "metadata": {
        "colab": {
          "base_uri": "https://localhost:8080/"
        },
        "id": "gBUM3YV7AjYf",
        "outputId": "5d988930-9829-4bce-d5ea-7524673a3338"
      },
      "execution_count": null,
      "outputs": [
        {
          "output_type": "stream",
          "name": "stdout",
          "text": [
            "Please enter a word: 12345\n",
            "Please enter an index: 3\n",
            "43215\n"
          ]
        }
      ]
    },
    {
      "cell_type": "code",
      "source": [
        "#task_2 alternative\n",
        "user = input(\"Please input something: \")\n",
        "index = int(input(\"The index: \"))\n",
        "start = len(user)*-1+index\n",
        "#say length6*-1;-6:index4:-6+4=-2:from right-2to\n",
        "#length6*-1;-6:-6-1=-7:to-7all the way left reversed\n",
        "#using -1 in step to right the order\n",
        "end = len(user)*-1-1\n",
        "\n",
        "\n",
        "#print(user[start:end:-1])\n",
        "#this method does not work without the -1 step\n",
        "#with a positive step; it doesn't print anything\n",
        "#meaning it will only print in reverse order\n",
        "print(user[start:end:-1]+user[index+1:len(user)])"
      ],
      "metadata": {
        "colab": {
          "base_uri": "https://localhost:8080/"
        },
        "id": "5J72MmWf-cDZ",
        "outputId": "16412238-71d3-4edf-fb8a-134cb7aea681"
      },
      "execution_count": null,
      "outputs": [
        {
          "output_type": "stream",
          "name": "stdout",
          "text": [
            "Please input something: 12345\n",
            "The index: 2\n",
            "32145\n"
          ]
        }
      ]
    },
    {
      "cell_type": "code",
      "source": [
        "#task_3 wrong method\n",
        "\n",
        "str1 = input(\"Enter the supposed string: \")\n",
        "\n",
        "for char in str1:\n",
        "    if char == \"1\" or char == \"0\":\n",
        "        print(\"Not a Binary Number\")\n",
        "        break\n",
        "    else:\n",
        "      print(\"Binary Number\")\n",
        "      break"
      ],
      "metadata": {
        "colab": {
          "base_uri": "https://localhost:8080/"
        },
        "id": "gKgIQYY8A3XG",
        "outputId": "c6c1f661-b364-45ab-ccca-55e6c5afb3b8"
      },
      "execution_count": null,
      "outputs": [
        {
          "output_type": "stream",
          "name": "stdout",
          "text": [
            "Enter the supposed string: 1111111\n",
            "Not a Binary Number\n"
          ]
        }
      ]
    },
    {
      "cell_type": "code",
      "source": [
        "#task_3 modified to find a character within multiple digits\n",
        "str1 = input(\"Enter the supposed string: \")\n",
        "decision = \"\"\n",
        "for char in str1:\n",
        "  if char in \"0123456789\":\n",
        "    decision = \"digit found\"\n",
        "  else:\n",
        "    decision = \"character found\"\n",
        "    break\n",
        "print(decision)"
      ],
      "metadata": {
        "colab": {
          "base_uri": "https://localhost:8080/"
        },
        "id": "WJFrVqiYYEVW",
        "outputId": "fa214d34-73ca-4d85-a329-1149c3107fc9"
      },
      "execution_count": null,
      "outputs": [
        {
          "output_type": "stream",
          "name": "stdout",
          "text": [
            "Enter the supposed string: 35k6456\n",
            "character found\n"
          ]
        }
      ]
    },
    {
      "cell_type": "code",
      "source": [
        "#task_3 sem1 faulty as well; another failed attempt\n",
        "#it's finally a success\n",
        "user = input(\"Enter the supposed string: \")\n",
        "length = len(user)\n",
        "decision = \"\"\n",
        "for idx in range(length):\n",
        "#here the length is exclusive or single value in range function\n",
        "    if user[idx] == \"0\" or user[idx] == \"1\":\n",
        "      decision = \"Binary number\"\n",
        "    else:\n",
        "      decision = \"Not a binary number\"\n",
        "      break\n",
        "print(decision)"
      ],
      "metadata": {
        "colab": {
          "base_uri": "https://localhost:8080/"
        },
        "id": "LuElMT2xiRqy",
        "outputId": "7fa3d508-eed2-4c32-8301-7f672ea334fa"
      },
      "execution_count": null,
      "outputs": [
        {
          "output_type": "stream",
          "name": "stdout",
          "text": [
            "Enter the supposed string: 11111111400000000\n",
            "Not a binary number\n"
          ]
        }
      ]
    },
    {
      "cell_type": "code",
      "source": [
        "#task_3 this version seems to have worked just fine*\n",
        "user = input(\"Enter the supposed string: \")\n",
        "length = len(user)\n",
        "flag = False\n",
        "for idx in range(length):\n",
        "  if user[idx] == \"0\" or user[idx] == \"1\":\n",
        "    flag = True\n",
        "  else:\n",
        "    flag = False\n",
        "    break\n",
        "if flag:\n",
        "  print(\"Binary number\")\n",
        "else:\n",
        "  print(\"Not a binary number\")\n"
      ],
      "metadata": {
        "colab": {
          "base_uri": "https://localhost:8080/"
        },
        "id": "VjQrAmnG2Ted",
        "outputId": "c5e3504a-e3e3-4fc5-845b-e18ee3dcf763"
      },
      "execution_count": null,
      "outputs": [
        {
          "output_type": "stream",
          "name": "stdout",
          "text": [
            "Enter the supposed string: 000111k00011110101011100000000000000001\n",
            "Not a binary number\n"
          ]
        }
      ]
    },
    {
      "cell_type": "code",
      "source": [
        "#task_4 \n",
        "\n",
        "text = input(\"Enter a text: \")\n",
        "length = len(text)\n",
        "if text[-2:] == \"er\":\n",
        "  section_text = text[:-2]\n",
        "  new_text = section_text + \"est\"\n",
        "  print(new_text)\n",
        "elif text[-3:] == \"est\":\n",
        "  print(text) \n",
        "elif length < 4:\n",
        "  print(text)\n",
        "else: #length > 3:\n",
        "  print(text+\"er\")"
      ],
      "metadata": {
        "colab": {
          "base_uri": "https://localhost:8080/"
        },
        "id": "LyeqjoieCPV2",
        "outputId": "39d59be5-bc42-476b-c95f-343db72d354f"
      },
      "execution_count": null,
      "outputs": [
        {
          "output_type": "stream",
          "name": "stdout",
          "text": [
            "Enter a text: strong\n",
            "stronger\n"
          ]
        }
      ]
    },
    {
      "cell_type": "code",
      "source": [
        "#task_4 alternative from MSI*\n",
        "word = input(\"Input the string: \")\n",
        "length = len(word)\n",
        "#must fulfill criteria should be put in if statement\n",
        "if word[(length-2):length]==\"er\":\n",
        "  new_word =  word[0:(length-2)]+\"est\"\n",
        "  print(new_word)\n",
        "elif word[(length-3):length]==\"est\":\n",
        "  print(word)\n",
        "elif length > 3:\n",
        "  new_word = word + \"er\"\n",
        "  print(new_word)\n",
        "else: #length < 4:\n",
        "  print(word)"
      ],
      "metadata": {
        "id": "dwawbB2RJq6H",
        "colab": {
          "base_uri": "https://localhost:8080/"
        },
        "outputId": "f7cf94ee-24d9-433b-984b-e704fd0e2140"
      },
      "execution_count": null,
      "outputs": [
        {
          "output_type": "stream",
          "name": "stdout",
          "text": [
            "Input the string: ber\n",
            "best\n"
          ]
        }
      ]
    },
    {
      "cell_type": "code",
      "source": [
        "#task_5*\n",
        "\n",
        "str1=input(\"Enter a string: \")\n",
        "for rows in range(0,len(str1)):\n",
        "    for idx in range(0,rows+1):\n",
        "        print(str1[idx],end=\"\")\n",
        "    print()\n",
        "    "
      ],
      "metadata": {
        "colab": {
          "base_uri": "https://localhost:8080/"
        },
        "id": "QL0co5SpDkP5",
        "outputId": "d57f36f1-76ca-414a-c9aa-4bdd4f7d9a09"
      },
      "execution_count": null,
      "outputs": [
        {
          "output_type": "stream",
          "name": "stdout",
          "text": [
            "Enter a word: BANGLA\n",
            "B\n",
            "BA\n",
            "BAN\n",
            "BANG\n",
            "BANGL\n",
            "BANGLA\n"
          ]
        }
      ]
    },
    {
      "cell_type": "code",
      "source": [
        "#task_6*\n",
        "\n",
        "word = input(\"Enter a word: \")\n",
        "for char in word:\n",
        "    ascii = ord(char)\n",
        "    #print(char ,\":\", ascii)\n",
        "    print(f\"{char} : {ascii}\")"
      ],
      "metadata": {
        "colab": {
          "base_uri": "https://localhost:8080/"
        },
        "id": "pT5dy9hCEkwP",
        "outputId": "4a8c75c1-e340-4c27-b191-b26e01a88996"
      },
      "execution_count": 2,
      "outputs": [
        {
          "output_type": "stream",
          "name": "stdout",
          "text": [
            "Enter a word: Programming\n",
            "P : 80\n",
            "r : 114\n",
            "o : 111\n",
            "g : 103\n",
            "r : 114\n",
            "a : 97\n",
            "m : 109\n",
            "m : 109\n",
            "i : 105\n",
            "n : 110\n",
            "g : 103\n"
          ]
        }
      ]
    },
    {
      "cell_type": "code",
      "source": [
        "#task_7*\n",
        "\n",
        "text = input(\"Please enter a word: \")\n",
        "n_text = \"\"\n",
        "for char in text:\n",
        "  ascii = ord(char)\n",
        "  if ascii == ord(\"z\"):\n",
        "    n_text = n_text + \"a\"#chr(ord(\"a\"))\n",
        "  else:\n",
        "    n_text = n_text + chr(ascii+1)\n",
        "print(n_text)"
      ],
      "metadata": {
        "colab": {
          "base_uri": "https://localhost:8080/"
        },
        "id": "mX72Ad4jGDo7",
        "outputId": "133463c4-d39e-4dad-bad7-3b7b20c57e08"
      },
      "execution_count": null,
      "outputs": [
        {
          "output_type": "stream",
          "name": "stdout",
          "text": [
            "Please enter a word: xyzabc\n",
            "yzabcd\n"
          ]
        }
      ]
    },
    {
      "cell_type": "code",
      "source": [
        "#task_7 alternative\n",
        "text = input(\"Please enter a word: \")\n",
        "n_text = \"\"\n",
        "for char in text:\n",
        "  ascii = ord(char)\n",
        "  if char == \"z\":#ascii == ord('z'):\n",
        "    n_text = n_text + \"a\"\n",
        "  else:\n",
        "    n_text = n_text + chr(ascii+1)\n",
        "print(n_text)"
      ],
      "metadata": {
        "id": "SwrJRAmikfm3"
      },
      "execution_count": null,
      "outputs": []
    },
    {
      "cell_type": "code",
      "source": [
        "#task_8*\n",
        "\n",
        "text = input(\"Please enter a word: \")\n",
        "temp = text[1::2]#new string with characters in odd places\n",
        "n_text= \"\"#empty string\n",
        "for char in temp:#going through string with odd place characters\n",
        "  ascii = ord(char)\n",
        "  n_text += chr(ascii-32)#considering the given input is all small characters\n",
        "print(n_text)"
      ],
      "metadata": {
        "colab": {
          "base_uri": "https://localhost:8080/"
        },
        "id": "ETQHsIwbGRIy",
        "outputId": "587fece8-c399-4064-8f40-0bae46e6b595"
      },
      "execution_count": 4,
      "outputs": [
        {
          "output_type": "stream",
          "name": "stdout",
          "text": [
            "Please enter a word: STRING\n",
            "4)'\n"
          ]
        }
      ]
    },
    {
      "cell_type": "code",
      "source": [
        "#task_8 Modifying; taking only valid inputs(lower case)\n",
        "user = input(\"Input a string: \")\n",
        "lower = \"abcdefghijklmnopqrstuvwxyz\"\n",
        "n_text = \"\"\n",
        "valid = False\n",
        "for char in user:\n",
        "  if char in lower:\n",
        "    valid = True\n",
        "\n",
        "  else:\n",
        "    valid = False\n",
        "    break\n",
        "\n",
        "if valid:\n",
        "  for char in user:\n",
        "    ascii = ord(char)\n",
        "    n_text += chr(ascii-32)\n",
        "  print(n_text)\n",
        "else:\n",
        "  print(\"Invalid input\")"
      ],
      "metadata": {
        "colab": {
          "base_uri": "https://localhost:8080/"
        },
        "id": "nohLVUHDjg0j",
        "outputId": "001c4de0-a0b3-4740-bde7-b1728995ec38"
      },
      "execution_count": 8,
      "outputs": [
        {
          "output_type": "stream",
          "name": "stdout",
          "text": [
            "Input a string: SAAD\n",
            "Invalid input\n"
          ]
        }
      ]
    },
    {
      "cell_type": "code",
      "source": [
        "#task_8 extension(converting upper to lower case without using built-in functions)\n",
        "#trying to cast a value from lower to upper using ascii values:\n",
        "#unfinished\n",
        "#variable defination#\n",
        "lower=\"abcdefghijklmnopqrstuvwxyz\"\n",
        "#upper=\"ABCDEFGHIJKLMNOPQRSTUVWXYZ\"\n",
        "\n",
        "string=input(\"enter a string:\")\n",
        "#using ascii\n",
        "upper_casting = \"\"\n",
        "#data validation#\n",
        "valid = True\n",
        "for char in string:\n",
        "  if char not in lower:# + upper:\n",
        "     valid=False\n",
        "  else:\n",
        "    valid = True\n",
        "#finding the character#\n",
        "# if valid:\n",
        "#   result = \"\"\n",
        "#   for char in string:\n",
        "#     if char in lower:\n",
        "#       result += char\n",
        "#     else:\n",
        "#       # uppercase character\n",
        "#        for i in range(len(upper)):\n",
        "#          if char == upper[i]:\n",
        "#           result += lower[i]\n",
        "#           break\n",
        "\n",
        "#   print(result)\n",
        "#if I wanted to do the above process using ascii values\n",
        "if valid:\n",
        "  for char in string:\n",
        "    ascii = ord(char)\n",
        "    upper_casting += chr(ascii + 32)\n",
        "  print(upper_casting)"
      ],
      "metadata": {
        "colab": {
          "base_uri": "https://localhost:8080/"
        },
        "id": "CvDBUPgbigu9",
        "outputId": "64e07700-fa3c-4147-fa81-703015080278"
      },
      "execution_count": 12,
      "outputs": [
        {
          "output_type": "stream",
          "name": "stdout",
          "text": [
            "enter a string:saad\n",
            "\n"
          ]
        }
      ]
    },
    {
      "cell_type": "code",
      "source": [
        "#task_8 extension(converting upper to lower case without using built-in functions)\n",
        "#variable defination#\n",
        "lower=\"abcdefghijklmnopqrstuvwxyz\"\n",
        "upper=\"ABCDEFGHIJKLMNOPQRSTUVWXYZ\"\n",
        "\n",
        "string=input(\"enter a string:\")\n",
        "\n",
        "#data validation#\n",
        "valid = True\n",
        "for char in string:\n",
        "  if char not in lower + upper:\n",
        "     valid=False\n",
        "\n",
        "#finding the character#\n",
        "if valid:\n",
        "  result = \"\"\n",
        "  for char in string:\n",
        "    if char in lower:\n",
        "      result += char\n",
        "    else:\n",
        "      # uppercase character\n",
        "      for i in range(len(upper)):\n",
        "        if char == upper[i]:\n",
        "          result += lower[i]\n",
        "          break\n",
        "\n",
        "  print(result)"
      ],
      "metadata": {
        "colab": {
          "base_uri": "https://localhost:8080/"
        },
        "id": "FSH0ci7DsoXc",
        "outputId": "0f959fef-73b3-4051-e56b-2871dc6a31a4"
      },
      "execution_count": 14,
      "outputs": [
        {
          "output_type": "stream",
          "name": "stdout",
          "text": [
            "enter a string:SAAD\n",
            "saad\n"
          ]
        }
      ]
    },
    {
      "cell_type": "code",
      "source": [
        "#task_8 alternative\n",
        "text = input(\"Please enter a word: \")\n",
        "\n",
        "n_text = \"\"\n",
        "for i in range(1,len(text),2):\n",
        "  ascii = ord(text[i])\n",
        "  n_text = n_text + chr(ascii - 32)\n",
        "print(n_text)"
      ],
      "metadata": {
        "colab": {
          "base_uri": "https://localhost:8080/"
        },
        "id": "ocLjxTXL-mC8",
        "outputId": "1a8c7645-85c0-485a-db1f-0cb69671b06c"
      },
      "execution_count": null,
      "outputs": [
        {
          "output_type": "stream",
          "name": "stdout",
          "text": [
            "Please enter a word: abcd\n",
            "BD\n"
          ]
        }
      ]
    },
    {
      "cell_type": "code",
      "source": [
        "#task_9\n",
        "\n",
        "txt = input(\"Please enter a string: \")\n",
        "bar = \"\"\n",
        "for char in txt:\n",
        "    if bar == \"\" or char != bar[len(bar)-1]:\n",
        "        bar += char\n",
        "print(bar)"
      ],
      "metadata": {
        "colab": {
          "base_uri": "https://localhost:8080/"
        },
        "id": "LNQZxKJvGa91",
        "outputId": "1ff731bf-9eda-44ef-e1f9-a772b388fab5"
      },
      "execution_count": null,
      "outputs": [
        {
          "output_type": "stream",
          "name": "stdout",
          "text": [
            "Please enter a string: AAABBBBCDDBBECE\n",
            "ABCDBECE\n"
          ]
        }
      ]
    },
    {
      "cell_type": "code",
      "source": [
        "#task_9 alternative*\n",
        "str1 = input(\"Please enter a string: \")\n",
        "length = len(str1)\n",
        "final_str = str1[0]#already storing the first character of the given input\n",
        "\n",
        "for i in range(1, length):\n",
        "  if str1[i-1] != str1[i]:\n",
        "    final_str = final_str + str1[i]\n",
        "\n",
        "print(\"The final word is:\", final_str)"
      ],
      "metadata": {
        "colab": {
          "base_uri": "https://localhost:8080/"
        },
        "id": "aGPQWgvTyD4J",
        "outputId": "8189b9e0-9df2-49b6-acd8-aa680b63180c"
      },
      "execution_count": null,
      "outputs": [
        {
          "output_type": "stream",
          "name": "stdout",
          "text": [
            "Please enter a string: AAABBBBCDDBBECE\n",
            "The final word is: ABCDBECE\n"
          ]
        }
      ]
    },
    {
      "cell_type": "code",
      "source": [
        "#task_10 sem1*\n",
        "user=input(\"Input a string: \")\n",
        "str1 = \"\"\n",
        "str2 = \"\"\n",
        "modded_str= \"\"\n",
        "for char in user:\n",
        "  if char == \",\":\n",
        "    break\n",
        "  else:\n",
        "    str1 = str1 + char\n",
        "str2 = user[len(str1)+2: ]#here, 2 denotes the comma(,)and a space(_)\n",
        "if len(str1)>len(str2):\n",
        "  big = str1\n",
        "  small = str2\n",
        "else:\n",
        "  big = str2\n",
        "  small = str1\n",
        "for i in range(len(small)):\n",
        "  modded_str = modded_str + str1[i] + str2[i]\n",
        "  \n",
        "modded_str = modded_str + big[ len(small): ]\n",
        "print(modded_str)"
      ],
      "metadata": {
        "colab": {
          "base_uri": "https://localhost:8080/"
        },
        "id": "THp_pmrQvWcC",
        "outputId": "73f7a1cc-c525-44cf-9830-1c0f2d464900"
      },
      "execution_count": null,
      "outputs": [
        {
          "output_type": "stream",
          "name": "stdout",
          "text": [
            "Input a string: ijkl, ABCDENDFGH\n",
            "iAjBkClDENDFGH\n"
          ]
        }
      ]
    },
    {
      "cell_type": "code",
      "source": [
        "#task_10 completed\n",
        "\n",
        "line = input(\"Input a string: \")\n",
        "n1 = 0\n",
        "i1 = 0\n",
        "while line[n1] != \",\":\n",
        "    n1 += 1\n",
        "i2 = n1 + 2\n",
        "n2 = len(line)\n",
        "\n",
        "res = \"\"\n",
        "while i1 < n1 and i2 < n2:\n",
        "    res += line[i1] + line[i2]\n",
        "    i1 += 1\n",
        "    i2 += 1\n",
        "\n",
        "if i1 < n1:\n",
        "    res += line[i1:n1]\n",
        "else:\n",
        "    res += line[i2:n2]\n",
        "\n",
        "print(res)"
      ],
      "metadata": {
        "colab": {
          "base_uri": "https://localhost:8080/"
        },
        "id": "MkL5e0N1HJAk",
        "outputId": "451776e4-144b-497d-9807-ee7652ca5b5e"
      },
      "execution_count": null,
      "outputs": [
        {
          "output_type": "stream",
          "name": "stdout",
          "text": [
            "Input a string: ABCDENDFGH, ijkl\n",
            "AiBjCkDlENDFGH\n"
          ]
        }
      ]
    },
    {
      "cell_type": "code",
      "source": [
        "#task_11\n",
        "i = 10\n",
        "while(i >= -20):\n",
        "    if(i < 0):\n",
        "        test = \" != \"\n",
        "        #floor div gets the value to the left \n",
        "        #on the number line;I mean floors the value\n",
        "        test = str(i//2) + test + str(int(i/2))\n",
        "    else:\n",
        "        test = \" == \"\n",
        "        #floor div and int(float) div are same\n",
        "        test = str(i//2) + test + str(int(i/2))\n",
        "    print(test)\n",
        "    i -= 5\n",
        "\n"
      ],
      "metadata": {
        "id": "-FBcCjSrnmVn"
      },
      "execution_count": null,
      "outputs": []
    },
    {
      "cell_type": "code",
      "source": [
        "#task_12\n"
      ],
      "metadata": {
        "id": "EO4-knDen3wm"
      },
      "execution_count": null,
      "outputs": []
    },
    {
      "cell_type": "code",
      "source": [
        "#task_13\n"
      ],
      "metadata": {
        "id": "2IMGqmBFn7K7"
      },
      "execution_count": null,
      "outputs": []
    },
    {
      "cell_type": "code",
      "source": [
        "#task_14\n"
      ],
      "metadata": {
        "id": "hSn3bR7nn9ym"
      },
      "execution_count": null,
      "outputs": []
    },
    {
      "cell_type": "code",
      "source": [
        "#task_15\n"
      ],
      "metadata": {
        "id": "M_DgCyCuoARz"
      },
      "execution_count": null,
      "outputs": []
    },
    {
      "cell_type": "code",
      "source": [
        "#task_16 completed\n",
        "\n",
        "input_string = input(\"Enter a string: \")\n",
        "letter_to_remove = input(\"Enter a letter to remove: \")\n",
        "\n",
        "output_string = \"\"\n",
        "\n",
        "# iterate over each character in the input string\n",
        "for char in input_string:\n",
        "    if char != letter_to_remove:\n",
        "        output_string += char\n",
        "\n",
        "# if the letter is not present and the length of string is greater than 3, remove the first and last characters\n",
        "if letter_to_remove not in input_string and len(input_string) > 3:\n",
        "    output_string = input_string[1:-1]\n",
        "\n",
        "print(\"Output string:\", output_string)\n"
      ],
      "metadata": {
        "colab": {
          "base_uri": "https://localhost:8080/"
        },
        "id": "JUUDcgWlAd2K",
        "outputId": "89de568d-af05-422c-de63-047be5cdec0a"
      },
      "execution_count": null,
      "outputs": [
        {
          "output_type": "stream",
          "name": "stdout",
          "text": [
            "Enter a string: eren yeager\n",
            "Enter a letter to remove: k\n",
            "Output string: ren yeage\n"
          ]
        }
      ]
    },
    {
      "cell_type": "code",
      "source": [
        "#task_17 completed\n",
        "\n",
        "input_string = input(\"Enter a string: \")\n",
        "split_char = input(\"Enter the character to split on: \")\n",
        "\n",
        "output = \"\"\n",
        "current_word = \"\"\n",
        "\n",
        "for char in input_string:\n",
        "    if char == split_char:\n",
        "        output += current_word + \"\\n\"\n",
        "        current_word = \"\"\n",
        "    else:\n",
        "        current_word += char\n",
        "\n",
        "output += current_word + \"\\n\"\n",
        "\n",
        "print(output)"
      ],
      "metadata": {
        "colab": {
          "base_uri": "https://localhost:8080/"
        },
        "id": "50PCgkXdkWIK",
        "outputId": "3f483dbe-9e78-450c-a19e-a31ea301732d"
      },
      "execution_count": null,
      "outputs": [
        {
          "output_type": "stream",
          "name": "stdout",
          "text": [
            "Enter a string: tom@gmail,harry@yahoo,bob@gmail,mary@gmail\n",
            "Enter the character to split on: ,\n",
            "tom@gmail\n",
            "harry@yahoo\n",
            "bob@gmail\n",
            "mary@gmail\n",
            "\n"
          ]
        }
      ]
    },
    {
      "cell_type": "code",
      "source": [
        "#task_18\n",
        "\n",
        "input_string = input(\"Enter string : \") \n",
        "input_number = int(input(\"Enter number : \") )\n",
        "\n",
        "if (input_number % 2) == 0:\n",
        "    number_of_times = 2*input_number\n",
        "    output_string = input_string*number_of_times\n",
        "    print(output_string)\n",
        "\n",
        "else:\n",
        "    number_of_times = 3*input_number\n",
        "    output_string = input_string*number_of_times\n",
        "    print(output_string)\n",
        "    "
      ],
      "metadata": {
        "colab": {
          "base_uri": "https://localhost:8080/"
        },
        "id": "IEB4HGVjlmid",
        "outputId": "245bed3b-2f7b-40f5-ce59-ab2d63ca8639"
      },
      "execution_count": null,
      "outputs": [
        {
          "output_type": "stream",
          "name": "stdout",
          "text": [
            "Enter string : CSE110\n",
            "Enter number : 3\n",
            "CSE110CSE110CSE110CSE110CSE110CSE110CSE110CSE110CSE110\n"
          ]
        }
      ]
    },
    {
      "cell_type": "code",
      "source": [
        "#task_19\n",
        "\n",
        "t = input().lower()\n",
        "flag = True\n",
        "t = list(t)\n",
        "for i in range(len(t)):\n",
        "  if t[i] >= 'a' and t[i] <= 'z' and t[i] != '':\n",
        "    if flag:\n",
        "      t[i] = t[i].upper()\n",
        "      flag = False\n",
        "    else:\n",
        "      flag = True\n",
        "temp = ''\n",
        "for i in t:\n",
        "  temp += i\n",
        "print(temp)"
      ],
      "metadata": {
        "colab": {
          "base_uri": "https://localhost:8080/"
        },
        "id": "xshFKT5zk4oU",
        "outputId": "aab2881c-6411-4dfe-cf01-047608abaf90"
      },
      "execution_count": 1,
      "outputs": [
        {
          "output_type": "stream",
          "name": "stdout",
          "text": [
            "saad\n",
            "SaAd\n"
          ]
        }
      ]
    },
    {
      "cell_type": "code",
      "source": [
        "user = input()\n",
        "str1 = \"\"\n",
        "str2 = \"\"\n",
        "str3 = \"\"\n",
        "temp1 = user[0::2]\n",
        "temp2 = user[1::2]\n",
        "for char1 in temp1:\n",
        "  \n",
        "  str1 += chr(ord(char1)-32)\n",
        "for char2 in temp2:\n",
        "  str2 += char2\n",
        "for i in range(len(user)):\n",
        "  str3 += str1[i]+str2[i]\n",
        "  \n",
        "print(str3)"
      ],
      "metadata": {
        "colab": {
          "base_uri": "https://localhost:8080/",
          "height": 252
        },
        "id": "beufN7ZWY_H6",
        "outputId": "3eb4f342-4e9a-4a0e-8ed4-3c6e8ccc3360"
      },
      "execution_count": 10,
      "outputs": [
        {
          "name": "stdout",
          "output_type": "stream",
          "text": [
            "saad\n"
          ]
        },
        {
          "output_type": "error",
          "ename": "IndexError",
          "evalue": "ignored",
          "traceback": [
            "\u001b[0;31m---------------------------------------------------------------------------\u001b[0m",
            "\u001b[0;31mIndexError\u001b[0m                                Traceback (most recent call last)",
            "\u001b[0;32m<ipython-input-10-32b8d99d4dff>\u001b[0m in \u001b[0;36m<module>\u001b[0;34m\u001b[0m\n\u001b[1;32m     11\u001b[0m   \u001b[0mstr2\u001b[0m \u001b[0;34m+=\u001b[0m \u001b[0mchar2\u001b[0m\u001b[0;34m\u001b[0m\u001b[0;34m\u001b[0m\u001b[0m\n\u001b[1;32m     12\u001b[0m \u001b[0;32mfor\u001b[0m \u001b[0mi\u001b[0m \u001b[0;32min\u001b[0m \u001b[0mrange\u001b[0m\u001b[0;34m(\u001b[0m\u001b[0mlen\u001b[0m\u001b[0;34m(\u001b[0m\u001b[0muser\u001b[0m\u001b[0;34m)\u001b[0m\u001b[0;34m)\u001b[0m\u001b[0;34m:\u001b[0m\u001b[0;34m\u001b[0m\u001b[0;34m\u001b[0m\u001b[0m\n\u001b[0;32m---> 13\u001b[0;31m   \u001b[0mstr3\u001b[0m \u001b[0;34m+=\u001b[0m \u001b[0mstr1\u001b[0m\u001b[0;34m[\u001b[0m\u001b[0mi\u001b[0m\u001b[0;34m]\u001b[0m\u001b[0;34m+\u001b[0m\u001b[0mstr2\u001b[0m\u001b[0;34m[\u001b[0m\u001b[0mi\u001b[0m\u001b[0;34m]\u001b[0m\u001b[0;34m\u001b[0m\u001b[0;34m\u001b[0m\u001b[0m\n\u001b[0m\u001b[1;32m     14\u001b[0m \u001b[0;34m\u001b[0m\u001b[0m\n\u001b[1;32m     15\u001b[0m \u001b[0mprint\u001b[0m\u001b[0;34m(\u001b[0m\u001b[0mstr3\u001b[0m\u001b[0;34m)\u001b[0m\u001b[0;34m\u001b[0m\u001b[0;34m\u001b[0m\u001b[0m\n",
            "\u001b[0;31mIndexError\u001b[0m: string index out of range"
          ]
        }
      ]
    }
  ]
}