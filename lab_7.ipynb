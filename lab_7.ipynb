{
  "nbformat": 4,
  "nbformat_minor": 0,
  "metadata": {
    "colab": {
      "provenance": []
    },
    "kernelspec": {
      "name": "python3",
      "display_name": "Python 3"
    },
    "language_info": {
      "name": "python"
    }
  },
  "cells": [
    {
      "cell_type": "code",
      "source": [
        "#task_1 zubii\n",
        "def even_checker(num):\n",
        "    if(num % 2 == 0):\n",
        "        print(\"Even!!\")\n",
        "    else:\n",
        "        print(\"Odd!!\")\n",
        "\n",
        "#Function Call\n",
        "even_checker(5)\n",
        "even_checker(2)\n"
      ],
      "metadata": {
        "colab": {
          "base_uri": "https://localhost:8080/"
        },
        "id": "TFfrS6plHELj",
        "outputId": "9165c26d-af41-441f-d9b9-2d87c3e24c3b"
      },
      "execution_count": null,
      "outputs": [
        {
          "output_type": "stream",
          "name": "stdout",
          "text": [
            "Odd!!\n",
            "Even!!\n"
          ]
        }
      ]
    },
    {
      "cell_type": "code",
      "source": [
        "#task_1 chat GPT\n",
        "def even_checker(number):\n",
        "    if number % 2 == 0:\n",
        "        print(\"Even!!\")\n",
        "    else:\n",
        "        print(\"Odd!!\")\n",
        "#Function Call\n",
        "even_checker(5)   # Output: Odd!!\n",
        "even_checker(2)   # Output: Even!!\n",
        "even_checker(10)  # Output: Even!!\n",
        "even_checker(15)  # Output: Odd!!"
      ],
      "metadata": {
        "colab": {
          "base_uri": "https://localhost:8080/"
        },
        "id": "G_M2OHPZR_9z",
        "outputId": "0b55adb8-383d-4793-d37b-eafa77b6d73b"
      },
      "execution_count": 7,
      "outputs": [
        {
          "output_type": "stream",
          "name": "stdout",
          "text": [
            "Odd!!\n",
            "Even!!\n",
            "Even!!\n",
            "Odd!!\n"
          ]
        }
      ]
    },
    {
      "cell_type": "code",
      "source": [
        "#task_2 zubii\n",
        "def fibonacci(lim):\n",
        "    first = 1\n",
        "    second = 1\n",
        "    third = 2\n",
        "    if(lim >= 2):\n",
        "        print(\"0 1 1\",end = \" \")\n",
        "        while(third <= lim):\n",
        "            print(third, end = \" \")\n",
        "            first = second\n",
        "            second = third\n",
        "            third = first + second\n",
        "        print(\"\")\n",
        "    elif(lim == 1):\n",
        "        print(\"0 1 1\")\n",
        "    elif(lim == 0):\n",
        "        print(\"0\")\n",
        "    else:\n",
        "        print(\"Wrong Input: Limit cannot be a negative number! Please run the program again.\")\n",
        "\n",
        "#Function Call        \n",
        "fibonacci(10)\n",
        "fibonacci(5)\n",
        "fibonacci(-5)"
      ],
      "metadata": {
        "colab": {
          "base_uri": "https://localhost:8080/"
        },
        "id": "_kQy1MApHHiL",
        "outputId": "65528446-3e92-4ce8-848c-8ac24af9a3eb"
      },
      "execution_count": 11,
      "outputs": [
        {
          "output_type": "stream",
          "name": "stdout",
          "text": [
            "0 1 1 2 3 5 8 \n",
            "0 1 1 2 3 5 \n",
            "Wrong Input: Limit cannot be a negative number! Please run the program again.\n"
          ]
        }
      ]
    },
    {
      "cell_type": "code",
      "source": [
        "#task_2 ragib\n",
        "def fibonacci(num):\n",
        "    first=0\n",
        "    second=1\n",
        "    while first<=num:\n",
        "        print(first, end=' ')\n",
        "        temp = first\n",
        "        first = second\n",
        "        second = temp + second\n",
        "        \n",
        "num=int(input('Enter the limit: '))\n",
        "fibonacci(num)"
      ],
      "metadata": {
        "colab": {
          "base_uri": "https://localhost:8080/"
        },
        "id": "mpezmSBMy2LY",
        "outputId": "a90b8ed2-aa14-4134-ce85-1e9741c013d3"
      },
      "execution_count": 16,
      "outputs": [
        {
          "output_type": "stream",
          "name": "stdout",
          "text": [
            "Enter the limit: 5\n",
            "0 1 1 2 3 5 "
          ]
        }
      ]
    },
    {
      "cell_type": "code",
      "source": [
        "#task_2 chat GPT\n",
        "def fibonacci(limit):\n",
        "    # Initialize the first two Fibonacci numbers\n",
        "    a, b = 0, 1\n",
        "    # Create a list to store the Fibonacci sequence\n",
        "    fib_sequence = [0, 1]\n",
        "    \n",
        "    # While the last Fibonacci number is less than the limit, keep adding new numbers to the sequence\n",
        "    while b <= limit:\n",
        "        # Calculate the next Fibonacci number by adding the two previous numbers\n",
        "        a, b = b, a + b\n",
        "        # Append the new Fibonacci number to the sequence list\n",
        "        fib_sequence.append(b)\n",
        "    \n",
        "    # Print the sequence list\n",
        "    print(*fib_sequence)\n",
        "#Function call\n",
        "# Prints the Fibonacci sequence up to 10\n",
        "fibonacci(10)   # Output: 0 1 1 2 3 5 8\n",
        "\n",
        "# Prints the Fibonacci sequence up to 5\n",
        "fibonacci(5)    # Output: 0 1 1 2 3 5"
      ],
      "metadata": {
        "colab": {
          "base_uri": "https://localhost:8080/"
        },
        "id": "anTLEd7QSdM_",
        "outputId": "456f9ff6-ccdf-47e7-9ec5-be512f71e652"
      },
      "execution_count": 9,
      "outputs": [
        {
          "output_type": "stream",
          "name": "stdout",
          "text": [
            "0 1 1 2 3 5 8 13\n",
            "0 1 1 2 3 5 8\n"
          ]
        }
      ]
    },
    {
      "cell_type": "code",
      "source": [
        "#task_3 zubii\n",
        "def foo_moo(num):\n",
        "    if(num % 2 == 0  and num % 3 == 0):\n",
        "        return \"FooMoo\"\n",
        "    elif(num % 3 == 0):\n",
        "        return \"Moo\"\n",
        "    elif(num % 2 == 0):\n",
        "        return \"Foo\"\n",
        "    else:\n",
        "        return \"Boo\"\n",
        "\n",
        "#Function Call\n",
        "# print(foo_moo(5))\n",
        "# print(foo_moo(4))\n",
        "# print(foo_moo(6))\n",
        "foo_moo(3)\n",
        "foo_moo(4)\n",
        "foo_moo(5)"
      ],
      "metadata": {
        "colab": {
          "base_uri": "https://localhost:8080/"
        },
        "id": "QSeXgpeLHL2t",
        "outputId": "83ed109e-a694-451e-928d-0e0e5164dee7"
      },
      "execution_count": 6,
      "outputs": [
        {
          "output_type": "stream",
          "name": "stdout",
          "text": [
            "Boo\n"
          ]
        }
      ]
    },
    {
      "cell_type": "code",
      "source": [
        "#task_3 ragib\n",
        "def foo_moo(n):\n",
        "    if n%2==0 and n%3==0:\n",
        "        return \"FooMoo\"\n",
        "    elif n%3==0:\n",
        "        return \"Moo\"\n",
        "    elif n%2==0 :\n",
        "        return \"Foo\"\n",
        "    else:\n",
        "        return \"Boo\"\n",
        "    \n",
        "n = int(input(\"Enter a num: \"))    \n",
        "print(foo_moo(n))  "
      ],
      "metadata": {
        "colab": {
          "base_uri": "https://localhost:8080/"
        },
        "id": "vYVEDT1FzBer",
        "outputId": "2ac6fbd4-0324-405f-e17d-c2912baabb3f"
      },
      "execution_count": 5,
      "outputs": [
        {
          "output_type": "stream",
          "name": "stdout",
          "text": [
            "6\n",
            "FooMoo\n"
          ]
        }
      ]
    },
    {
      "cell_type": "code",
      "source": [
        "#task_3 chat GPT\n",
        "def foo_moo(num):\n",
        "    # check if the number is divisible by 2 and 3\n",
        "    if num % 2 == 0 and num % 3 == 0:\n",
        "        return \"FooMoo\"\n",
        "    # check if the number is divisible by 2\n",
        "    elif num % 2 == 0:\n",
        "        return \"Foo\"\n",
        "    # check if the number is divisible by 3\n",
        "    elif num % 3 == 0:\n",
        "        return \"Moo\"\n",
        "    # if the number is not divisible by 2 or 3\n",
        "    else:\n",
        "        return \"Boo\"\n",
        "\n",
        "# calling the function with sample input and printing the output\n",
        "print(foo_moo(5)) # output: Boo\n",
        "print(foo_moo(4)) # output: Foo\n",
        "print(foo_moo(6)) # output: FooMoo"
      ],
      "metadata": {
        "colab": {
          "base_uri": "https://localhost:8080/"
        },
        "id": "anziHl0YgIQ3",
        "outputId": "69a72415-75f7-4540-fbcf-40ea8ba1e83a"
      },
      "execution_count": 12,
      "outputs": [
        {
          "output_type": "stream",
          "name": "stdout",
          "text": [
            "No. of Uppercase characters : 3\n",
            "No. of Lowercase Characters: 12\n",
            "No. of Uppercase characters : 5\n",
            "No. of Lowercase Characters: 6\n"
          ]
        }
      ]
    },
    {
      "cell_type": "code",
      "source": [
        "#task_4 zubii ideal\n",
        "def upper_lower(string):\n",
        "    upper_counter = 0\n",
        "    lower_counter = 0\n",
        "    for char in string:\n",
        "        #if(char.isupper()):#or\n",
        "        if ord(\"A\") <= ord(char) <= ord(\"Z\"):\n",
        "            upper_counter += 1\n",
        "        elif(char.islower()):\n",
        "            lower_counter += 1\n",
        "    print(f\"No. of Uppercase Characters: {upper_counter}\")\n",
        "    print(f\"No. of Lowercase Characters: {lower_counter}\")\n",
        "    \n",
        "#upper_lower('The quick Sand Man')\n",
        "upper_lower('HaRRy PotteR')"
      ],
      "metadata": {
        "colab": {
          "base_uri": "https://localhost:8080/"
        },
        "id": "Gp-TcjajHQgA",
        "outputId": "2f885594-35ed-4fab-d049-1b63ecd83410"
      },
      "execution_count": null,
      "outputs": [
        {
          "output_type": "stream",
          "name": "stdout",
          "text": [
            "No. of Uppercase Characters: 5\n",
            "No. of Lowercase Characters: 6\n"
          ]
        }
      ]
    },
    {
      "cell_type": "code",
      "source": [
        "#task_4 ragib\n",
        "def function_name():\n",
        "    usrinput=str(input())\n",
        "    counter=0\n",
        "    counter1=0\n",
        "    for char in usrinput:\n",
        "        if 65<= ord(char)<=90:\n",
        "            counter+=1\n",
        "        elif 97<= ord(char) <= 122:\n",
        "            counter1+=1\n",
        "    print('No. of Uppercase characters:',counter)\n",
        "    print('No. of Lowercase Characters:',counter1)\n",
        "    \n",
        "    \n",
        "function_name()"
      ],
      "metadata": {
        "id": "3tJYYBTszOhh"
      },
      "execution_count": null,
      "outputs": []
    },
    {
      "cell_type": "code",
      "source": [
        "#task_4 chat GPT ideal sample\n",
        "def count_letters(string):\n",
        "    # Initialize counters for uppercase and lowercase letters\n",
        "    uppercase_count = 0\n",
        "    lowercase_count = 0\n",
        "    \n",
        "    # Loop through each character in the string\n",
        "    for char in string:\n",
        "        # Check if the character is in the uppercase range (ASCII 65-90)\n",
        "        if ord(char) >= ord(\"A\") and ord(char) <= ord(\"Z\"):\n",
        "            uppercase_count += 1\n",
        "        # Check if the character is in the lowercase range (ASCII 97-122)\n",
        "        elif ord(char) >= ord(\"a\") and ord(char) <= ord(\"z\"):\n",
        "            lowercase_count += 1\n",
        "    \n",
        "    # Print the counts of uppercase and lowercase letters\n",
        "    print(f\"No. of Uppercase characters : {uppercase_count}\")\n",
        "    print(f\"No. of Lowercase Characters: {lowercase_count}\")\n",
        "#Functin Call\n",
        "# Call the function with \"The quick Sand Man\"\n",
        "count_letters('The quick Sand Man')\n",
        "# Output:\n",
        "# No. of Uppercase characters : 3\n",
        "# No. of Lowercase Characters: 12\n",
        "\n",
        "# Call the function with \"HaRRy PotteR\"\n",
        "count_letters('HaRRy PotteR')\n",
        "# Output:\n",
        "# No. of Uppercase characters : 5\n",
        "# No. of Lowercase Characters: 6\n"
      ],
      "metadata": {
        "id": "RRgu6pl3hVWB"
      },
      "execution_count": null,
      "outputs": []
    },
    {
      "cell_type": "code",
      "source": [
        "#task_5 zubii very good example\n",
        "def calculate_tax(age,salary,job):\n",
        "    if(age < 18 or job == \"president\" or salary < 10000):\n",
        "        return 0\n",
        "    elif(salary > 10000 and salary < 20000):\n",
        "        return (5 / 100) * salary\n",
        "    else:\n",
        "        return (10 / 100) * salary\n",
        "\n",
        "age = int(input())\n",
        "salary = int(input())\n",
        "job = input().lower()#Or\n",
        "# job = input()\n",
        "# njob = \"\"\n",
        "# for c in job:\n",
        "#   if ord(\"A\") <= ord(c) <= ord(\"Z\"):\n",
        "#     char = ord(c) + 32\n",
        "#     njob = njob + chr(char)\n",
        "#   else:\n",
        "#     njob = njob + c\n",
        "\n",
        "#Function Call\n",
        "calculate_tax(age, salary, job)#njob"
      ],
      "metadata": {
        "colab": {
          "base_uri": "https://localhost:8080/"
        },
        "id": "dHHX1FxXHURj",
        "outputId": "0cae8750-1756-4fe9-ebef-8837e611690e"
      },
      "execution_count": 2,
      "outputs": [
        {
          "name": "stdout",
          "output_type": "stream",
          "text": [
            "20\n",
            "18000\n",
            "manager\n"
          ]
        },
        {
          "output_type": "execute_result",
          "data": {
            "text/plain": [
              "900.0"
            ]
          },
          "metadata": {},
          "execution_count": 2
        }
      ]
    },
    {
      "cell_type": "code",
      "source": [
        "#task_5 ragib\n",
        "def calculate_tax(age , sal , deg):\n",
        "    if age<18:\n",
        "        return 0\n",
        "    elif deg == 'president':\n",
        "        return 0\n",
        "    elif sal<10000:\n",
        "        return 0\n",
        "    elif sal>10000 and sal<20000:\n",
        "        return sal*0.05\n",
        "    elif sal>20000:\n",
        "        return sal*0.1\n",
        "  \n",
        "age = int(input(\"Enter your Age :\"))\n",
        "sal = int(input(\"Enter your Salary :\"))\n",
        "deg = str(input(\"Enter your job designation :\"))\n",
        "print(calculate_tax(age,sal,deg))"
      ],
      "metadata": {
        "colab": {
          "base_uri": "https://localhost:8080/"
        },
        "id": "2TNcI9sizjNV",
        "outputId": "c0d6cb15-f22c-4088-bf58-d34f64a0eafd"
      },
      "execution_count": 9,
      "outputs": [
        {
          "output_type": "stream",
          "name": "stdout",
          "text": [
            "Enter your Age :20\n",
            "Enter your Salary :12000\n",
            "Enter your Age designation :president\n",
            "0\n"
          ]
        }
      ]
    },
    {
      "cell_type": "code",
      "source": [
        "#task_5 chat GPT\n",
        "def calculate_tax(age, salary, job):\n",
        "    job_lower = \"\"\n",
        "    for char in job:\n",
        "        ascii_code = ord(char)\n",
        "        # If it's an uppercase letter\n",
        "        if ord(\"A\") <= ascii_code <= ord(\"Z\"):\n",
        "            # Add 32 to the ASCII code to get the corresponding lowercase letter\n",
        "            ascii_code += 32\n",
        "            # Convert the ASCII code back to a character and add it to the job_lower string\n",
        "            job_lower += chr(ascii_code)\n",
        "        else:\n",
        "            job_lower += char\n",
        "    \n",
        "    # Check the conditions and calculate tax\n",
        "    if age < 18:\n",
        "        tax = 0\n",
        "    elif job_lower == \"president\":\n",
        "        tax = 0\n",
        "    elif salary < 10000:\n",
        "        tax = 0\n",
        "    elif 10000 <= salary <= 20000:\n",
        "        tax = salary * 0.05\n",
        "    else:\n",
        "        tax = salary * 0.1\n",
        "        \n",
        "    print(f\"Tax to be paid: {tax}\")\n",
        "    \n",
        "\n",
        "# Test the function\n",
        "age = int(input(\"Enter your age: \"))\n",
        "salary = float(input(\"Enter your salary: \"))\n",
        "job = input(\"Enter your job designation: \")\n",
        "calculate_tax(age, salary, job)"
      ],
      "metadata": {
        "colab": {
          "base_uri": "https://localhost:8080/"
        },
        "id": "ltiBivgrlTbg",
        "outputId": "f2eef916-8088-4a4a-c5df-e7cd46a37a5c"
      },
      "execution_count": 13,
      "outputs": [
        {
          "output_type": "stream",
          "name": "stdout",
          "text": [
            "Enter your age: 20\n",
            "Enter your salary: 18000\n",
            "Enter your job designation: manager\n",
            "Tax to be paid: 900.0\n"
          ]
        }
      ]
    },
    {
      "cell_type": "code",
      "source": [
        "#task_6 zubii\n",
        "def day_calc(day):\n",
        "    year = day // 365\n",
        "    day %= 365\n",
        "    month = day // 30\n",
        "    day %= 30\n",
        "    print(f\"{year} years, {month} months and {day} days\")\n",
        "\n",
        "day = int(input())    \n",
        "\n",
        "#Function Call\n",
        "day_calc(day)"
      ],
      "metadata": {
        "colab": {
          "base_uri": "https://localhost:8080/"
        },
        "id": "AkjVcIpDHZpM",
        "outputId": "866a6b2c-702b-47f4-ae3a-6e2f7a638839"
      },
      "execution_count": null,
      "outputs": [
        {
          "output_type": "stream",
          "name": "stdout",
          "text": [
            "2250\n",
            "6 years, 2 months and 0 days\n"
          ]
        }
      ]
    },
    {
      "cell_type": "code",
      "source": [
        "#task_6 ragib\n",
        "def func(n):\n",
        "    year = n//365\n",
        "    mon = n%365\n",
        "    month = mon//30\n",
        "    days = mon%30\n",
        "    print(year , 'years,',month, 'months and',days,'days' )\n",
        "    \n",
        "n = int(input())\n",
        "func(n)"
      ],
      "metadata": {
        "colab": {
          "base_uri": "https://localhost:8080/"
        },
        "id": "YLYLZYak0BWT",
        "outputId": "efb81a44-f8b8-4c49-9983-80b26179147b"
      },
      "execution_count": 22,
      "outputs": [
        {
          "output_type": "stream",
          "name": "stdout",
          "text": [
            "2250\n",
            "6 years, 2 months and 0 days\n"
          ]
        }
      ]
    },
    {
      "cell_type": "code",
      "source": [
        "#task_6 chat GPT\n",
        "def calculate_years_months_days(num_days):\n",
        "    # Calculation for number of years\n",
        "    years = num_days // 365\n",
        "\n",
        "    # Calculation for number of months\n",
        "    months = (num_days % 365) // 30\n",
        "\n",
        "    # Calculation for remaining days\n",
        "    days = (num_days % 365) % 30\n",
        "\n",
        "    # Printing the output\n",
        "    print(years, \"years,\", months, \"months and\", days, \"days\")\n",
        "\n",
        "# Taking input from user\n",
        "num_days = int(input(\"Enter number of days: \"))\n",
        "\n",
        "# Calling the function\n",
        "calculate_years_months_days(num_days)"
      ],
      "metadata": {
        "colab": {
          "base_uri": "https://localhost:8080/"
        },
        "id": "bfPUAukloLLo",
        "outputId": "113b6c79-4836-4040-8147-849b306b4e29"
      },
      "execution_count": 21,
      "outputs": [
        {
          "output_type": "stream",
          "name": "stdout",
          "text": [
            "Enter number of days: 4330\n",
            "11 years, 10 months and 15 days\n"
          ]
        }
      ]
    },
    {
      "cell_type": "code",
      "source": [
        "#task_7 zubii\n",
        "def show_palindrome(num):\n",
        "    for count in range(1, num):\n",
        "        print(count, end = \"\")\n",
        "    for rev_count in range(num, 0, -1):\n",
        "        print(rev_count, end = \"\")\n",
        "    print(\"\")\n",
        "\n",
        "#Function Call\n",
        "show_palindrome(5)\n",
        "show_palindrome(3)"
      ],
      "metadata": {
        "colab": {
          "base_uri": "https://localhost:8080/"
        },
        "id": "ZVm5ESTqHdSK",
        "outputId": "5719e99f-350b-48d0-f211-23bbbf4cc89e"
      },
      "execution_count": 15,
      "outputs": [
        {
          "output_type": "stream",
          "name": "stdout",
          "text": [
            "123454321\n",
            "12321\n"
          ]
        }
      ]
    },
    {
      "cell_type": "code",
      "source": [
        "#task_7 ragib\n",
        "usr_input=int(input('Enter the amount: '))\n",
        "line = ''\n",
        "def showPalindrome(num):\n",
        "    line = ''\n",
        "    for i in range(1,usr_input+1):\n",
        "       line+=str(i)\n",
        "    for j in range(usr_input-1,0,-1):\n",
        "        line+=str(j)\n",
        "    return line\n",
        "\n",
        "\n",
        "print(showPalindrome(line))"
      ],
      "metadata": {
        "id": "MLT7q5wd0ktg"
      },
      "execution_count": null,
      "outputs": []
    },
    {
      "cell_type": "code",
      "source": [
        "#task_7 chat GPT\n",
        "def show_palindrome(num):\n",
        "    # Construct the first half of the palindrome string\n",
        "    half_str = ''\n",
        "    for i in range(1, num+1):\n",
        "        half_str += str(i)\n",
        "    \n",
        "    # Construct the second half of the palindrome string by reversing the first half\n",
        "    palindrome_str = half_str + half_str[num-2::-1]\n",
        "    \n",
        "    # Print and return the palindrome string\n",
        "    print(palindrome_str)\n",
        "    #return palindrome_str\n",
        "show_palindrome(5)  # Output: 123454321\n",
        "show_palindrome(3)  # Output: 12321"
      ],
      "metadata": {
        "colab": {
          "base_uri": "https://localhost:8080/"
        },
        "id": "Tb6l091gqBJf",
        "outputId": "1d121261-8ddc-488f-b040-0d5e234d5f2c"
      },
      "execution_count": 20,
      "outputs": [
        {
          "output_type": "stream",
          "name": "stdout",
          "text": [
            "123454321\n",
            "12321\n"
          ]
        }
      ]
    },
    {
      "cell_type": "code",
      "source": [
        "#task_7 chat GPT (alternative0)\n",
        "def show_palindrome(num):\n",
        "    palindrome = ''\n",
        "    for i in range(1, num+1):\n",
        "        palindrome = palindrome + str(i)\n",
        "    for i in range(num-1, 0, -1):\n",
        "        palindrome = palindrome + str(i)\n",
        "    return int(palindrome)\n",
        "\n",
        "# Example usage\n",
        "print(show_palindrome(5)) # Output: 123454321\n",
        "print(show_palindrome(3)) # Output: 12321"
      ],
      "metadata": {
        "colab": {
          "base_uri": "https://localhost:8080/"
        },
        "id": "Pjr0hm4JukWn",
        "outputId": "72f15204-f8f9-4574-ae66-70855ec01565"
      },
      "execution_count": 14,
      "outputs": [
        {
          "output_type": "stream",
          "name": "stdout",
          "text": [
            "123454321\n",
            "12321\n"
          ]
        }
      ]
    },
    {
      "cell_type": "code",
      "source": [
        "#task_8 zubii\n",
        "def show_palindromic_triangle(num):\n",
        "    for row in range(1, num+1):\n",
        "        for space in range(1, (num-row)+1):\n",
        "            print(\" \",end = \" \")\n",
        "        for nums in range(1, row):\n",
        "            print(nums, end = \" \")\n",
        "        for nums in range(row, 0, -1):\n",
        "            print(nums, end = \" \")\n",
        "        print(\"\")\n",
        "\n",
        "#Function Call\n",
        "#show_palindromic_triangle(3)\n",
        "show_palindromic_triangle(5)"
      ],
      "metadata": {
        "colab": {
          "base_uri": "https://localhost:8080/"
        },
        "id": "erhf6Ft9HhKG",
        "outputId": "aa025de7-28ca-4d57-a35c-cc4d4f48880d"
      },
      "execution_count": null,
      "outputs": [
        {
          "output_type": "stream",
          "name": "stdout",
          "text": [
            "        1 \n",
            "      1 2 1 \n",
            "    1 2 3 2 1 \n",
            "  1 2 3 4 3 2 1 \n",
            "1 2 3 4 5 4 3 2 1 \n"
          ]
        }
      ]
    },
    {
      "cell_type": "code",
      "source": [
        "#task_8 ragib ideal *****\n",
        "def showPalindromicTriangle(number):\n",
        "    for row in range(1,num+1):\n",
        "        for space in range(0,num-row):\n",
        "            print(' ',end=' ')\n",
        "        for i in range(1,row+1):\n",
        "            print(i ,end=' ')\n",
        "        for a in range(row-1,0,-1):\n",
        "            print(a, end=' ')\n",
        "        print()\n",
        "num=int(input('Enter the limit: '))\n",
        "showPalindromicTriangle(num)"
      ],
      "metadata": {
        "id": "WLGJx_nT05fL"
      },
      "execution_count": null,
      "outputs": []
    },
    {
      "cell_type": "code",
      "source": [
        "#task_8 chat GPT\n",
        "def show_palindromic_triangle(n):\n",
        "    for i in range(1, n+1):\n",
        "        # printing spaces\n",
        "        for space in range(n-i):\n",
        "            print(\" \", end=\" \")\n",
        "            \n",
        "        # printing left side of the triangle\n",
        "        for i in range(1, i+1):\n",
        "            print(i, end=\" \")\n",
        "            \n",
        "        # printing right side of the triangle\n",
        "        for j in range(i-1, 0, -1):\n",
        "            print(j, end=\" \")\n",
        "        \n",
        "        print()\n",
        "num=int(input('Enter the limit: '))\n",
        "show_palindromic_triangle(num)"
      ],
      "metadata": {
        "colab": {
          "base_uri": "https://localhost:8080/"
        },
        "id": "oDrJgYcx3H8r",
        "outputId": "f01aa428-9698-42d8-f23d-7eb115498541"
      },
      "execution_count": 15,
      "outputs": [
        {
          "output_type": "stream",
          "name": "stdout",
          "text": [
            "Enter the limit: 5\n",
            "        1 \n",
            "      1 2 1 \n",
            "    1 2 3 2 1 \n",
            "  1 2 3 4 3 2 1 \n",
            "1 2 3 4 5 4 3 2 1 \n"
          ]
        }
      ]
    },
    {
      "cell_type": "code",
      "source": [
        "#task_8 me\n",
        "def s_p_t(num):\n",
        "  for row in range(1,num+1):\n",
        "    for space in range(1,num-row+1):\n",
        "      print(\" \",end = \" \")\n",
        "    for pal in range(1,row + 1):\n",
        "      print(pal, end = \" \")\n",
        "    for rev_pal in range(row-1,0,-1):\n",
        "      print(rev_pal, end = \" \")\n",
        "    print()\n",
        "n = int(input(\"Enter num: \"))\n",
        "s_p_t(n)"
      ],
      "metadata": {
        "id": "-HJYK8XQ97GT"
      },
      "execution_count": null,
      "outputs": []
    },
    {
      "cell_type": "code",
      "source": [
        "#task_9 zubii\n",
        "import math\n",
        "\n",
        "def area_circumference_generator(radius):\n",
        "    circumference = 2 * math.pi * radius\n",
        "    area = math.pi * radius**2\n",
        "\n",
        "    area_circumference = (area, circumference)#unpacking\n",
        "    return area_circumference#returning unpacked values\n",
        "\n",
        "area, circumference = area_circumference_generator(2.5)\n",
        "print(area_circumference_generator(2.5))\n",
        "print(f\"Area of the circle is {area} and circumference is {circumference}\")"
      ],
      "metadata": {
        "colab": {
          "base_uri": "https://localhost:8080/"
        },
        "id": "0e2jJ-fIHkyr",
        "outputId": "7af04314-9f32-42fd-ca27-f038929b4ecc"
      },
      "execution_count": null,
      "outputs": [
        {
          "output_type": "stream",
          "name": "stdout",
          "text": [
            "(19.634954084936208, 15.707963267948966)\n",
            "Area of the circle is 19.634954084936208 and circumference is 15.707963267948966\n"
          ]
        }
      ]
    },
    {
      "cell_type": "code",
      "source": [
        "#task_9 ragib\n",
        "import math\n",
        "usr_input=float(input('Enter the radius: '))\n",
        "list1=[]\n",
        "\n",
        "def areaCircumferenceGenerator(radius):\n",
        "    area=math.pi*(usr_input**2)\n",
        "    list1.append(area)\n",
        "    circumference=2*math.pi*usr_input\n",
        "    list1.append(circumference)\n",
        "    a_tuple=tuple(list1)\n",
        "    a,b=a_tuple\n",
        "    print('Area of the circle is', a,' and circumference is ',b)\n",
        "    return area,circumference\n",
        "print(areaCircumferenceGenerator(usr_input))"
      ],
      "metadata": {
        "id": "iBjQfp5R1D_-"
      },
      "execution_count": null,
      "outputs": []
    },
    {
      "cell_type": "code",
      "source": [
        "#task_9 chat GPT\n",
        "import math\n",
        "def area_circumference_generator(radius):\n",
        "    # calculate area and circumference\n",
        "    area = math.pi * radius * radius\n",
        "    circumference = 2 * math.pi * radius\n",
        "    \n",
        "    # create a tuple of area and circumference\n",
        "    result = (area, circumference)\n",
        "    #print(result)\n",
        "    # print the result using tuple unpacking\n",
        "    print(f\"Area of the circle is {area} and circumference is {circumference}\")\n",
        "    \n",
        "    # return the tuple\n",
        "    return result\n",
        "\n",
        "#Functin Call\n",
        "radius = int(input(\"Enter radius: \"))\n",
        "area_circumference_generator(radius)"
      ],
      "metadata": {
        "colab": {
          "base_uri": "https://localhost:8080/"
        },
        "id": "ftLY4NJu9FaZ",
        "outputId": "af053041-dcd4-4093-8dc1-65c044a75136"
      },
      "execution_count": 6,
      "outputs": [
        {
          "output_type": "stream",
          "name": "stdout",
          "text": [
            "Enter radius: 1\n",
            "Area of the circle is 3.141592653589793 and circumference is 6.283185307179586\n"
          ]
        },
        {
          "output_type": "execute_result",
          "data": {
            "text/plain": [
              "(3.141592653589793, 6.283185307179586)"
            ]
          },
          "metadata": {},
          "execution_count": 6
        }
      ]
    },
    {
      "cell_type": "code",
      "source": [
        "#task_9 me\n",
        "import math\n",
        "def a_c_g(radius):\n",
        "  area = math.pi * radius ** 2\n",
        "  circumference = 2 * math.pi * radius\n",
        "  print((area, circumference))\n",
        "  print(f\"Area of the circle is {area} and circumference is {circumference}\")\n",
        "radius = float(input())\n",
        "a_c_g(radius)"
      ],
      "metadata": {
        "id": "nuFn3TTL9_93"
      },
      "execution_count": null,
      "outputs": []
    },
    {
      "cell_type": "code",
      "source": [
        "#task_10 zubii\n",
        "def make_square(tup_range):\n",
        "    start , end = tup_range\n",
        "    square = {}\n",
        "    for count in range(start, end+1):\n",
        "        square[count] = count**2\n",
        "    return square\n",
        "\n",
        "#Function Call\n",
        "print(make_square((1,3)))\n",
        "print(make_square((5,9)))"
      ],
      "metadata": {
        "colab": {
          "base_uri": "https://localhost:8080/"
        },
        "id": "MvZyeggHHoYs",
        "outputId": "494f1d1a-8fa6-40f5-a854-da569bee7c42"
      },
      "execution_count": null,
      "outputs": [
        {
          "output_type": "stream",
          "name": "stdout",
          "text": [
            "{1: 1, 2: 4, 3: 9}\n",
            "{5: 25, 6: 36, 7: 49, 8: 64, 9: 81}\n"
          ]
        }
      ]
    },
    {
      "cell_type": "code",
      "source": [
        "#task_10 ragib\n",
        "list1=[]\n",
        "num1=int(input('Enter starting number: '))\n",
        "list1.append(num1)\n",
        "num2=int(input('Enter ending number: '))\n",
        "list1.append(num2)\n",
        "a_dict={}\n",
        "\n",
        "a_tuple=tuple(list1)\n",
        "a,b=a_tuple\n",
        "def makeSquare(starting,ending):\n",
        "    for i in range(num1,num2+1):\n",
        "        a=i*i\n",
        "        a_dict[i]=a\n",
        "    return a_dict\n",
        "print(makeSquare(num1,num2))"
      ],
      "metadata": {
        "id": "lSC3j90V1QFn"
      },
      "execution_count": null,
      "outputs": []
    },
    {
      "cell_type": "code",
      "source": [
        "#task_10 chat GPT\n",
        "def make_square(rng):\n",
        "    squares = {}\n",
        "    for i in range(rng[0], rng[1]+1):\n",
        "        squares[i] = i*i\n",
        "    return squares\n",
        "#Function Call\n",
        "make_square((1, 3))\n",
        "#{1: 1, 2: 4, 3: 9}\n",
        "\n",
        "make_square((5, 9))\n",
        "#{5: 25, 6: 36, 7: 49, 8: 64, 9: 81}"
      ],
      "metadata": {
        "colab": {
          "base_uri": "https://localhost:8080/"
        },
        "id": "laOQK3KFGHZD",
        "outputId": "28d9eaad-2793-4066-db48-b79de25ec239"
      },
      "execution_count": 7,
      "outputs": [
        {
          "output_type": "execute_result",
          "data": {
            "text/plain": [
              "{5: 25, 6: 36, 7: 49, 8: 64, 9: 81}"
            ]
          },
          "metadata": {},
          "execution_count": 7
        }
      ]
    },
    {
      "cell_type": "code",
      "source": [
        "#task_11 zubii\n",
        "def rem_duplicate(tup):\n",
        "    tup_list = list(tup)\n",
        "    no_duplicate = []\n",
        "    for item in tup_list:\n",
        "        if(item not in no_duplicate):\n",
        "            no_duplicate.append(item)\n",
        "    fresh_tup = tuple(no_duplicate)\n",
        "    return fresh_tup\n",
        "\n",
        "#Function Call\n",
        "print(rem_duplicate((1,1,1,2,3,4,5,6,6,6,6,4,0,0,0)))\n",
        "print(rem_duplicate((\"Hi\", 1, 2, 3, 3, \"Hi\",'a', 'a', [1,2])))"
      ],
      "metadata": {
        "colab": {
          "base_uri": "https://localhost:8080/"
        },
        "id": "aH5BdTvWHsaM",
        "outputId": "a65f9e16-81fb-4eb3-b687-e9dd336a38dd"
      },
      "execution_count": null,
      "outputs": [
        {
          "output_type": "stream",
          "name": "stdout",
          "text": [
            "(1, 2, 3, 4, 5, 6, 0)\n",
            "('Hi', 1, 2, 3, 'a', [1, 2])\n"
          ]
        }
      ]
    },
    {
      "cell_type": "code",
      "source": [
        "#task_11 ragib\n",
        "x=(1,1,1,2,3,4,5,6,6,6,6,4,0,0,0)\n",
        "def remDuplicate(x):\n",
        "    unique_list=[]\n",
        "    for item in x:\n",
        "\n",
        "        if item not in unique_list:\n",
        "            unique_list.append(item)\n",
        "        else:\n",
        "            continue\n",
        "\n",
        "    a=unique_list\n",
        "    a_tuple=tuple(a)\n",
        "    return a_tuple\n",
        "print(remDuplicate(x))"
      ],
      "metadata": {
        "id": "QB-bx_Y41Yah"
      },
      "execution_count": null,
      "outputs": []
    },
    {
      "cell_type": "code",
      "source": [
        "#task_11 chat GPT\n",
        "def rem_duplicate(t):\n",
        "    unique_list = []\n",
        "    for element in t:\n",
        "        if element not in unique_list:\n",
        "            unique_list.append(element)\n",
        "    return tuple(unique_list)\n",
        "#Function Call\n",
        "t = (\"Hi\", 1, 2, 3, 3, \"Hi\",'a', 'a', [1,2])\n",
        "result = rem_duplicate(t)\n",
        "print(result)\n",
        "#(1, 2, 3, 4, 5, 6, 0)"
      ],
      "metadata": {
        "colab": {
          "base_uri": "https://localhost:8080/"
        },
        "id": "GAFtGsxPHl37",
        "outputId": "59200d09-d3a1-438f-b7ea-d5751c7cc610"
      },
      "execution_count": 9,
      "outputs": [
        {
          "output_type": "stream",
          "name": "stdout",
          "text": [
            "('Hi', 1, 2, 3, 'a', [1, 2])\n"
          ]
        }
      ]
    },
    {
      "cell_type": "code",
      "source": [
        "#task_12 zubii\n",
        "def list_item_filter(a_list):\n",
        "  dual_item_list = []\n",
        "  for item in a_list:\n",
        "      if(item not in dual_item_list):\n",
        "          dual_item_list.append(item)\n",
        "      elif(item in dual_item_list and dual_item_list.count(item) < 2):\n",
        "          dual_item_list.append(item)\n",
        "  removed = len(a_list) - len(dual_item_list)\n",
        "  print(f\"Removed: {removed}\")\n",
        "  return dual_item_list\n",
        "\n",
        "#Function Call\n",
        "print(list_item_filter([1, 2, 3, 3, 3, 3, 4, 5, 8, 8]))\n",
        "print(list_item_filter([10, 10, 15, 15, 20]))"
      ],
      "metadata": {
        "colab": {
          "base_uri": "https://localhost:8080/"
        },
        "id": "mCySux4sHvju",
        "outputId": "99866928-c70c-47e9-a17c-e2552961812a"
      },
      "execution_count": null,
      "outputs": [
        {
          "output_type": "stream",
          "name": "stdout",
          "text": [
            "Removed: 2\n",
            "[1, 2, 3, 3, 4, 5, 8, 8]\n",
            "Removed: 0\n",
            "[10, 10, 15, 15, 20]\n"
          ]
        }
      ]
    },
    {
      "cell_type": "code",
      "source": [
        "#task_12 ragib\n",
        "x=[1, 2, 3, 3, 3, 3, 4, 5, 8, 8]\n",
        "list1=[]\n",
        "\n",
        "def mixedlist(list):\n",
        "    counter=0\n",
        "    for item in x:\n",
        "        if list1.count(item)<2:\n",
        "            list1.append(item)\n",
        "        else:\n",
        "            counter+=1\n",
        "    print('Removed: ',counter)\n",
        "    return list1\n",
        "print(mixedlist(list1))"
      ],
      "metadata": {
        "id": "GWf9iiUH1me3"
      },
      "execution_count": null,
      "outputs": []
    },
    {
      "cell_type": "code",
      "source": [
        "#task_12 chat GPT\n"
      ],
      "metadata": {
        "id": "7vwG8QR7Rrga"
      },
      "execution_count": null,
      "outputs": []
    },
    {
      "cell_type": "code",
      "source": [
        "#task_13 zubii\n",
        "def basic_calc(operator, num_1, num_2):\n",
        "    if(operator == \"+\"):\n",
        "        return num_1 + num_2\n",
        "    \n",
        "    elif(operator == \"-\"):\n",
        "        return num_1 - num_2\n",
        "    \n",
        "    elif(operator == \"/\"):\n",
        "        return num_1 / num_2\n",
        "    \n",
        "    elif(operator == \"*\"):\n",
        "        return num_1 * num_2\n",
        "\n",
        "operator = input()\n",
        "num_1 = float(input())\n",
        "num_2 = float(input())\n",
        "\n",
        "#Function Call\n",
        "print(basic_calc(operator, num_1, num_2))"
      ],
      "metadata": {
        "colab": {
          "base_uri": "https://localhost:8080/"
        },
        "id": "IaPKadb2Hzvh",
        "outputId": "36901fa5-757c-4ca9-d71c-598b476920c9"
      },
      "execution_count": null,
      "outputs": [
        {
          "output_type": "stream",
          "name": "stdout",
          "text": [
            "+\n",
            "10\n",
            "20\n",
            "30.0\n"
          ]
        }
      ]
    },
    {
      "cell_type": "code",
      "source": [
        "#task_13 ragib\n",
        "def numfuction(opt,num1,num2):\n",
        "    if opt =='+':\n",
        "        x=num1+num2\n",
        "        return x\n",
        "    elif opt=='-':\n",
        "        x=num1-num2\n",
        "        return x\n",
        "    elif opt=='*':\n",
        "        x=num1*num2\n",
        "        return x\n",
        "    elif opt=='/':\n",
        "        x=num1/num2\n",
        "        return x\n",
        "opt=input('Enter oparetor: ')\n",
        "num1=float(input('Enter 1st number: '))\n",
        "num2=float(input('Enter 2nd number: '))\n",
        "\n",
        "print(numfuction(opt,num1,num2))"
      ],
      "metadata": {
        "id": "u1KVG36B1xkp"
      },
      "execution_count": null,
      "outputs": []
    },
    {
      "cell_type": "code",
      "source": [
        "#task_14 zubii\n",
        "def char_remover(sentence, position):\n",
        "    new_sentence = sentence[0]\n",
        "    removed_part = \"\"\n",
        "    \n",
        "    for index in range(1, len(sentence)):\n",
        "        if(index % position != 0):\n",
        "            new_sentence += sentence[index]\n",
        "        else:\n",
        "            removed_part += sentence[index]\n",
        "    new_sentence += removed_part\n",
        "            \n",
        "    return new_sentence\n",
        "\n",
        "sentence = input()\n",
        "position = int(input())\n",
        "\n",
        "#Function call\n",
        "print(char_remover(sentence, position))"
      ],
      "metadata": {
        "colab": {
          "base_uri": "https://localhost:8080/"
        },
        "id": "0kz5YrwZH5tT",
        "outputId": "42db65dc-18c3-4c68-c016-873118e9afad"
      },
      "execution_count": null,
      "outputs": [
        {
          "output_type": "stream",
          "name": "stdout",
          "text": [
            "I love programming.\n",
            "3\n",
            "I lveprgrmmngo oai.\n"
          ]
        }
      ]
    },
    {
      "cell_type": "code",
      "source": [
        "#task_14 ragib\n",
        "def cuttingcharacters(sentence,position):\n",
        "    temp=''\n",
        "    counter=''\n",
        "    for p in range(0,len(sentence)):\n",
        "        if p!=0 and p%position==0:\n",
        "            temp+=sentence[p]\n",
        "        else:\n",
        "            counter+=sentence[p]\n",
        "\n",
        "    return counter+temp\n",
        "sentence=str(input('Enter sentence: '))\n",
        "position=int(input('Enter position: '))\n",
        "print(cuttingcharacters(sentence,position))"
      ],
      "metadata": {
        "colab": {
          "base_uri": "https://localhost:8080/"
        },
        "id": "MGG2e-du1_nu",
        "outputId": "d32373f5-6b45-4aaf-cc0a-6f3bdcb0ea6a"
      },
      "execution_count": 1,
      "outputs": [
        {
          "output_type": "stream",
          "name": "stdout",
          "text": [
            "Enter sentence: I love programming.\n",
            "Enter position: 3\n",
            "I lveprgrmmngo oai.\n"
          ]
        }
      ]
    },
    {
      "cell_type": "code",
      "source": [
        "#task_14 chat GPT\n"
      ],
      "metadata": {
        "colab": {
          "base_uri": "https://localhost:8080/",
          "height": 35
        },
        "id": "4xZbbyhKSWYZ",
        "outputId": "b370bf0f-f204-4e69-865c-7534244df595"
      },
      "execution_count": 22,
      "outputs": [
        {
          "output_type": "execute_result",
          "data": {
            "text/plain": [
              "'I ov pogamin.lerrmg'"
            ],
            "application/vnd.google.colaboratory.intrinsic+json": {
              "type": "string"
            }
          },
          "metadata": {},
          "execution_count": 22
        }
      ]
    },
    {
      "cell_type": "code",
      "source": [
        "#task_15 zubii\n",
        "def food_panda(food, destination = \"Dhanmondi\"):\n",
        "    price = {\"Rice\": 105, \"Potato\": 20, \"Chicken\": 250, \"Beef\": 510, \"Oil\": 85}\n",
        "    total = 0\n",
        "    for item in food:\n",
        "        total += price[item]\n",
        "    if(destination == \"Dhanmondi\"):\n",
        "        total += 30\n",
        "    else:\n",
        "        total += 70\n",
        "    return total\n",
        "\n",
        "food = [item for item in input()[1:-1].replace('\"',\"\").replace(\" \",\"\").split(\",\")]\n",
        "destination = input()\n",
        "\n",
        "#Function Call\n",
        "if(len(destination) > 0):\n",
        "    print(food_panda(food, destination))\n",
        "else:\n",
        "    print(food_panda(food))"
      ],
      "metadata": {
        "colab": {
          "base_uri": "https://localhost:8080/"
        },
        "id": "pPhl2IEdIFGm",
        "outputId": "7a64cb20-b290-4e37-a940-6bab6d021748"
      },
      "execution_count": 1,
      "outputs": [
        {
          "output_type": "stream",
          "name": "stdout",
          "text": [
            "[\"Rice\", \"Beef\", \"Rice\"]\n",
            "s\n",
            "790\n"
          ]
        }
      ]
    },
    {
      "cell_type": "code",
      "source": [
        "#chat GPT solution: ideal func *****\n",
        "def calculate_total_price(order_items, location=\"Dhanmondi\"):\n",
        "    items = {\n",
        "        \"Rice\": 105,\n",
        "        \"Potato\": 20,\n",
        "        \"Chicken\": 250,\n",
        "        \"Beef\": 510,\n",
        "        \"Oil\": 85\n",
        "    }\n",
        "\n",
        "    total_price = 0\n",
        "    for item in order_items:\n",
        "        if item in items:\n",
        "            total_price += items[item]\n",
        "\n",
        "    if location == \"Dhanmondi\":\n",
        "      delivery_fee = 30 \n",
        "    else:\n",
        "      delivery_fee = 70\n",
        "    total_price += delivery_fee\n",
        "\n",
        "    print(total_price)\n",
        "    return total_price\n",
        "order_items = input(\"Enter the list of items you want to order: \")\n",
        "destination = input(\"Enter the destination: \")\n",
        "#Function Call:\n",
        "calculate_total_price(order_items, destination) # Output: 790\n",
        "#calculate_total_price([\"Rice\", \"Beef\", \"Rice\"]) # Output: 750"
      ],
      "metadata": {
        "colab": {
          "base_uri": "https://localhost:8080/"
        },
        "id": "rBYqRzqUwv_u",
        "outputId": "6716dcb2-5300-4931-e69c-1c10dff02756"
      },
      "execution_count": 2,
      "outputs": [
        {
          "output_type": "stream",
          "name": "stdout",
          "text": [
            "Enter items you want to order: [\"Rice\", \"Beef\", \"Rice\"]\n",
            "Enter the destination: Mohakhali\n",
            "70\n"
          ]
        },
        {
          "output_type": "execute_result",
          "data": {
            "text/plain": [
              "70"
            ]
          },
          "metadata": {},
          "execution_count": 2
        }
      ]
    },
    {
      "cell_type": "code",
      "source": [
        "#task_15 ragib\n",
        "def groceryStore(porder,location = \"Dhanmondi\") :\n",
        "    sum=0\n",
        "    a_dict={'Rice':105,'Potato':20,'Chicken':250,'Beef':510,'Oil':85}\n",
        "\n",
        "    for i in order:\n",
        "        if i in a_dict:\n",
        "            sum += a_dict[i]\n",
        "    total=sum\n",
        "    if location=='Dhanmondi':\n",
        "      total = total + 30\n",
        "    else:\n",
        "      total=total+70\n",
        "    return total\n",
        "order = input(\"Place your order: \")[1:-1].replace('\"',\"\").replace(\" \",\"\").split(\",\")\n",
        "location = input(\"Enter your designation: \")\n",
        "print(groceryStore(order,location))"
      ],
      "metadata": {
        "colab": {
          "base_uri": "https://localhost:8080/"
        },
        "id": "PyClvkdgyibK",
        "outputId": "d342c01e-cde3-42c2-8657-eed4b3ac70fc"
      },
      "execution_count": 6,
      "outputs": [
        {
          "output_type": "stream",
          "name": "stdout",
          "text": [
            "Place your order: [\"Rice\", \"Beef\", \"Rice\"]\n",
            "Enter the designation: Mohakhali\n",
            "790\n"
          ]
        }
      ]
    },
    {
      "cell_type": "code",
      "source": [
        "#task_16 ragib\n",
        "amount=int(input('Enter the amount: '))\n",
        "def splittingMoney(money):\n",
        "    note=''\n",
        "    fivehundrd = amount // 500\n",
        "    note1='500 Taka:'\n",
        "    note1+= str(fivehundrd)\n",
        "    note1+=str('note(s)\\n')\n",
        "    temp0 = amount % 500\n",
        "    hundrd = temp0 // 100\n",
        "    note2 ='100 Taka:'\n",
        "    note2 += str(hundrd)\n",
        "    note2 += str('note(s)\\n')\n",
        "    temp1 = temp0 % 100\n",
        "    fifty = temp1 // 50\n",
        "    note3 = '50 Taka:'\n",
        "    note3 += str(fifty)\n",
        "    note3 += str('note(s)\\n')\n",
        "    temp2 = temp1 % 50\n",
        "    twenty = temp2 // 20\n",
        "    note4 = '20 Taka:'\n",
        "    note4 += str(twenty)\n",
        "    note4 += str('note(s)\\n')\n",
        "    temp3 = temp2 % 20\n",
        "    ten = temp3 // 10\n",
        "    note5 = '10 Taka:'\n",
        "    note5 += str(ten)\n",
        "    note5 += str('note(s)\\n')\n",
        "    temp4 = temp3 % 10\n",
        "    five = temp4 // 5\n",
        "    note6 = '5 Taka:'\n",
        "    note6 += str(five)\n",
        "    note6 += str('note(s)\\n')\n",
        "    temp5 = temp4 % 5\n",
        "    two = temp5 // 2\n",
        "    note7 = '2 Taka:'\n",
        "    note7 += str(two)\n",
        "    note7 += str('note(s)\\n')\n",
        "    temp6 = temp5 % 2\n",
        "    one = temp6 // 1\n",
        "    note8 = '1 Taka:'\n",
        "    note8 += str(one)\n",
        "    note8 += str('note(s)\\n')\n",
        "    if fivehundrd != 0:\n",
        "        note = note + note1\n",
        "    if hundrd != 0: #100\n",
        "        note = note  + note2\n",
        "    if fifty != 0:\n",
        "        note = note +  note3\n",
        "    if twenty != 0:\n",
        "        note = note + note4\n",
        "    if ten != 0:\n",
        "        note = note + note5\n",
        "    if five != 0:\n",
        "        note = note +  note6\n",
        "    if two != 0:\n",
        "        note = note +  note7\n",
        "    if one != 0:\n",
        "        note = note + note8\n",
        "\n",
        "    return note\n",
        "print(splittingMoney(amount))"
      ],
      "metadata": {
        "colab": {
          "base_uri": "https://localhost:8080/"
        },
        "id": "EOm83GiqYpwN",
        "outputId": "8bfc2244-9101-46cd-b17f-6a2b9f2bd562"
      },
      "execution_count": 2,
      "outputs": [
        {
          "output_type": "stream",
          "name": "stdout",
          "text": [
            "Enter the amount: 151\n",
            "100 Taka:1note(s)\n",
            "50 Taka:1note(s)\n",
            "1 Taka:1note(s)\n",
            "\n"
          ]
        }
      ]
    },
    {
      "cell_type": "code",
      "source": [
        "#task_16 chat GPT\n",
        "def splitting_money(amount):\n",
        "    # creating a dictionary containing the notes and their denominations\n",
        "    notes = {\n",
        "        500: 0,\n",
        "        100: 0,\n",
        "        50: 0,\n",
        "        20: 0,\n",
        "        10: 0,\n",
        "        5: 0,\n",
        "        2: 0,\n",
        "        1: 0\n",
        "    }\n",
        "    \n",
        "    # calculating the number of notes of each denomination\n",
        "    for note in notes:\n",
        "        notes[note] = amount // note\n",
        "        amount %= note\n",
        "        \n",
        "    # creating a string to store the result\n",
        "    result = \"\"\n",
        "    \n",
        "    # adding each denomination and the number of notes to the result string\n",
        "    for note in notes:\n",
        "        if notes[note] > 0:\n",
        "            result += f\"{note} Taka: {notes[note]} note(s)\\n\"\n",
        "    \n",
        "    # returning the result string\n",
        "    return result\n",
        "    \n",
        "# taking user input for the amount of money\n",
        "amount = int(input(\"Enter the amount of money: \"))\n",
        "\n",
        "# calling the function and printing the result\n",
        "print(splitting_money(amount))"
      ],
      "metadata": {
        "colab": {
          "base_uri": "https://localhost:8080/"
        },
        "id": "OHCd2VGGl65_",
        "outputId": "354e41b2-508d-4f8f-a1d6-b516169cdc5d"
      },
      "execution_count": 11,
      "outputs": [
        {
          "output_type": "stream",
          "name": "stdout",
          "text": [
            "Enter the amount of money: 151\n",
            "100 Taka: 1 note(s)\n",
            "50 Taka: 1 note(s)\n",
            "1 Taka: 1 note(s)\n",
            "\n"
          ]
        }
      ]
    },
    {
      "cell_type": "code",
      "source": [
        "#task_17 ragib\n",
        "i=int(input('Enter element no: '))\n",
        "list=[]\n",
        "counter=0\n",
        "while counter<i:\n",
        "    num=int(input('Enter element: '))\n",
        "    list.append(num)\n",
        "    counter+=1\n",
        "\n",
        "even_list=[]\n",
        "def  removeOdd(even):\n",
        "    for num in list:\n",
        "        \n",
        "        if int(num)%2==0:\n",
        "            even_list.append(num)\n",
        "        else:\n",
        "            continue\n",
        "    return even_list\n",
        "print(removeOdd(even_list))"
      ],
      "metadata": {
        "colab": {
          "base_uri": "https://localhost:8080/"
        },
        "id": "uK17BjHsZ9CG",
        "outputId": "621bacee-a736-4d20-c46d-4c695de16a2e"
      },
      "execution_count": 3,
      "outputs": [
        {
          "output_type": "stream",
          "name": "stdout",
          "text": [
            "Enter element no: 10\n",
            "Enter element: 11\n",
            "Enter element: 2\n",
            "Enter element: 3\n",
            "Enter element: 45\n",
            "Enter element: 11\n",
            "Enter element: 45\n",
            "Enter element: 2\n",
            "Enter element: 6\n",
            "Enter element: 11\n",
            "Enter element: 33\n",
            "[2, 2, 6]\n"
          ]
        }
      ]
    },
    {
      "cell_type": "code",
      "source": [
        "#task_17 chat GPT\n",
        "def remove_odd(nums):\n",
        "    even_nums = []\n",
        "    for num in nums:\n",
        "        if num % 2 == 0:\n",
        "            even_nums.append(num)\n",
        "    return even_nums\n",
        "#Function Call\n",
        "# Example 1\n",
        "print(remove_odd([21, 33, 44, 66, 11, 1, 88, 45, 10, 9]))\n",
        "# Output: [44, 66, 88, 10]\n",
        "\n",
        "# Example 2\n",
        "print(remove_odd([11,2,3,4,5,2,0,5,3]))\n",
        "# Output: [2, 4, 2, 0]"
      ],
      "metadata": {
        "colab": {
          "base_uri": "https://localhost:8080/"
        },
        "id": "3cuea9W2neWg",
        "outputId": "2071a51d-ebc9-4f56-bfb2-242d65a87c97"
      },
      "execution_count": 12,
      "outputs": [
        {
          "output_type": "stream",
          "name": "stdout",
          "text": [
            "[44, 66, 88, 10]\n",
            "[2, 4, 2, 0]\n"
          ]
        }
      ]
    },
    {
      "cell_type": "code",
      "source": [
        "#task_18 ragib\n",
        "def division(starting,ending,first_divisor,second_divisor):\n",
        "    sum=0\n",
        "    for i in range(starting,ending):\n",
        "        if i%first_divisor==0 and i%second_divisor==0:\n",
        "            continue\n",
        "        elif i%first_divisor==0:\n",
        "            sum=sum+i\n",
        "        elif i % second_divisor == 0:\n",
        "            sum = sum + i\n",
        "    return sum\n",
        "starting=int(input())\n",
        "ending=int(input())\n",
        "first_divisor=int(input())\n",
        "second_divisor=int(input())\n",
        "\n",
        "print(division(starting,ending,first_divisor,second_divisor))"
      ],
      "metadata": {
        "colab": {
          "base_uri": "https://localhost:8080/"
        },
        "id": "nyBGh2f4a28S",
        "outputId": "0093ad42-5422-4852-d5bb-7f937197d02d"
      },
      "execution_count": 4,
      "outputs": [
        {
          "output_type": "stream",
          "name": "stdout",
          "text": [
            "10\n",
            "40\n",
            "4\n",
            "7\n",
            "210\n"
          ]
        }
      ]
    },
    {
      "cell_type": "code",
      "source": [
        "#task_18 cht GPT\n",
        "def find_divisible(start, end, div1, div2):\n",
        "    \"\"\"\n",
        "    This function takes 4 arguments: starting value(inclusive), ending value(exclusive), first divisor and second divisor.\n",
        "    It finds all the numbers that are divisible by the first divisor or second divisor but not both from the starting value(inclusive) and ending value(exclusive).\n",
        "    Then it adds all the numbers that are divisible and finally returns this value.\n",
        "    \"\"\"\n",
        "    total = 0\n",
        "    for i in range(start, end):\n",
        "        if i % div1 == 0 and i % div2 != 0:\n",
        "            total += i\n",
        "        elif i % div2 == 0 and i % div1 != 0:\n",
        "            total += i\n",
        "    return total\n",
        "\n",
        "# take inputs from the user\n",
        "start = int(input(\"Enter starting value: \"))\n",
        "end = int(input(\"Enter ending value: \"))\n",
        "div1 = int(input(\"Enter first divisor: \"))\n",
        "div2 = int(input(\"Enter second divisor: \"))\n",
        "\n",
        "# call the function and print the output\n",
        "result = find_divisible(start, end, div1, div2)\n",
        "print(result)"
      ],
      "metadata": {
        "colab": {
          "base_uri": "https://localhost:8080/"
        },
        "id": "ZlIu8csVoLxs",
        "outputId": "e458db37-2f40-4b5e-ad44-d59fb949c0ab"
      },
      "execution_count": 13,
      "outputs": [
        {
          "output_type": "stream",
          "name": "stdout",
          "text": [
            "Enter starting value: 5\n",
            "Enter ending value: 100\n",
            "Enter first divisor: 3\n",
            "Enter second divisor: 4\n",
            "2012\n"
          ]
        }
      ]
    },
    {
      "cell_type": "code",
      "source": [
        "#task_19\n",
        "def stringTest(name):\n",
        "    counter=0\n",
        "    for char in usr_input:\n",
        "        if char in list:\n",
        "            counter+=1\n",
        "\n",
        "    if counter>0:\n",
        "        return 5\n",
        "    else:\n",
        "        return 6\n",
        "\n",
        "usr_input=str(input())\n",
        "\n",
        "list=['a','b','c','d','e','f','g','h','i','j']\n",
        "stringTest(usr_input)\n",
        "print('Chelsea is the best club in England \\n'*stringTest(usr_input))"
      ],
      "metadata": {
        "colab": {
          "base_uri": "https://localhost:8080/"
        },
        "id": "J1YLrLYBbTET",
        "outputId": "4e5126ae-e822-4670-ac06-ae7898a34f92"
      },
      "execution_count": 5,
      "outputs": [
        {
          "output_type": "stream",
          "name": "stdout",
          "text": [
            "ABBCDEFEFGHI\n",
            "Chelsea is the best club in England \n",
            "Chelsea is the best club in England \n",
            "Chelsea is the best club in England \n",
            "Chelsea is the best club in England \n",
            "Chelsea is the best club in England \n",
            "Chelsea is the best club in England \n",
            "\n"
          ]
        }
      ]
    },
    {
      "cell_type": "code",
      "source": [
        "#task_19 chat GPT\n"
      ],
      "metadata": {
        "id": "d-wg2tmmocX3"
      },
      "execution_count": null,
      "outputs": []
    },
    {
      "cell_type": "code",
      "source": [
        "#task_20 ragib  ***** best func ever\n",
        "def footballClub(*args):\n",
        "    \n",
        "    if args[2]>30:#*arg means multiple args,args[2]=goal\n",
        "        bonus= args[2]*(args[3]/100 * args[1])+10000\n",
        "        return bonus\n",
        "    elif 20<args[2]<=30:\n",
        "        bonus= args[2]*(args[3]/100 * args[1])+5000\n",
        "        return bonus\n",
        "    else:\n",
        "        bonus= args[2]*(args[3]/100 * args[1])\n",
        "        return bonus\n",
        "print('Neymar earned a bonus of',int(footballClub('Neymar',1200000, 30, 10)),'Taka for 31 Goals')"
      ],
      "metadata": {
        "colab": {
          "base_uri": "https://localhost:8080/"
        },
        "id": "tKgsm_VicEt-",
        "outputId": "8b87b6eb-fcca-4147-a0c7-dc010d5b37fa"
      },
      "execution_count": 8,
      "outputs": [
        {
          "output_type": "stream",
          "name": "stdout",
          "text": [
            "Neymar earned a bonus of 3605000 Taka for 31 Goals\n"
          ]
        }
      ]
    },
    {
      "cell_type": "code",
      "source": [
        "#task_20 chat GPT very important\n",
        "def individul_bonus_calculation(player_name, yearly_earning, total_goals, bonus_percent):\n",
        "    bonus = total_goals * (bonus_percent / 100 * yearly_earning)\n",
        "    if total_goals > 30:\n",
        "        bonus += 10000\n",
        "    elif 20 <= total_goals <= 30:\n",
        "        bonus += 5000\n",
        "    print(f\"{player_name} earned a bonus of {int(bonus)} Taka for {total_goals} goals.\")\n",
        "#Function Call\n",
        "individul_bonus_calculation(\"Neymar\", 1200000, 35, 5)\n",
        "individul_bonus_calculation('Jamal', 700000, 19, 8)\n",
        "individul_bonus_calculation('Luis', 80000, 25, 10)"
      ],
      "metadata": {
        "colab": {
          "base_uri": "https://localhost:8080/"
        },
        "id": "yZRqwUsKdaKQ",
        "outputId": "15a7453f-10f1-4c66-ba69-6f0a9069da18"
      },
      "execution_count": 9,
      "outputs": [
        {
          "output_type": "stream",
          "name": "stdout",
          "text": [
            "Neymar earned a bonus of 2110000 Taka for 35 goals.\n",
            "Jamal earned a bonus of 1064000 Taka for 19 goals.\n",
            "Luis earned a bonus of 205000 Taka for 25 goals.\n"
          ]
        }
      ]
    },
    {
      "cell_type": "code",
      "source": [
        "#task_21 chat GPT alternative\n",
        "def individul_bonus_calculation(name, earning, goals, bonus_percent):\n",
        "    \"\"\"\n",
        "    This function takes in the player name, yearly earning, total goal scored, and bonus percent per goal as arguments.\n",
        "    It calculates and returns the bonus earned by the player based on the number of goals scored and the bonus percentage.\n",
        "    If the goal scored is above 30, an additional bonus of 10000 taka is added. If it is between 20 and 30 inclusive,\n",
        "    an extra 5000 taka is added.\n",
        "    \"\"\"\n",
        "    if goals > 30:\n",
        "        bonus = goals * (bonus_percent / 100 * earning) + 10000\n",
        "    elif 20 <= goals <= 30:\n",
        "        bonus = goals * (bonus_percent / 100 * earning) + 5000\n",
        "    else:\n",
        "        bonus = goals * (bonus_percent / 100 * earning)\n",
        "    # return the calculated bonus with appropriate message\n",
        "    return f\"{name} earned a bonus of {int(bonus)} Taka for {goals} goals.\"\n",
        "\n",
        "\n",
        "def cal_bonus(*args):\n",
        "    \"\"\"\n",
        "    This function takes in multiple arguments (player name, yearly earning, total goal scored, bonus percent per goal) using\n",
        "    the *args technique. It calls the individul_bonus_calculation() function for each player and prints the bonus earned by each player.\n",
        "    \"\"\"\n",
        "    # loop through the arguments with a step of 4 since each player has 4 arguments\n",
        "    for i in range(0, len(args), 4):\n",
        "        # call the individul_bonus_calculation() function with the arguments for the current player\n",
        "        bonus = individul_bonus_calculation(args[i], args[i+1], args[i+2], args[i+3])\n",
        "        # print the bonus earned by the current player\n",
        "        print(bonus)\n",
        "\n",
        "\n",
        "# Example usage:\n",
        "cal_bonus(\"Neymar\", 1200000, 35, 5, \"Jamal\", 700000, 19, 5)\n",
        "# Output:\n",
        "# Neymar earned a bonus of 3605000 Taka for 35 goals.\n",
        "# Jamal earned a bonus of 665000 Taka for 19 goals.\n",
        "\n",
        "cal_bonus(\"Neymar\", 1200000, 35, 5, \"Jamal\", 700000, 19, 8, \"Luis\", 80000, 25, 10)\n",
        "# Output:\n",
        "# Neymar earned a bonus of 2110000 Taka for 35 goals.\n",
        "# Jamal earned a bonus of 1064000 Taka for 19 goals.\n",
        "# Luis earned a bonus of 205000 Taka for 25 goals."
      ],
      "metadata": {
        "colab": {
          "base_uri": "https://localhost:8080/"
        },
        "id": "zPWYDs1_eV11",
        "outputId": "90338126-1c87-472c-cd92-a948fec2f5a9"
      },
      "execution_count": 10,
      "outputs": [
        {
          "output_type": "stream",
          "name": "stdout",
          "text": [
            "Neymar earned a bonus of 2110000 Taka for 35 goals.\n",
            "Jamal earned a bonus of 665000 Taka for 19 goals.\n",
            "Neymar earned a bonus of 2110000 Taka for 35 goals.\n",
            "Jamal earned a bonus of 1064000 Taka for 19 goals.\n",
            "Luis earned a bonus of 205000 Taka for 25 goals.\n"
          ]
        }
      ]
    }
  ]
}