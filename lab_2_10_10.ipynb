{
  "nbformat": 4,
  "nbformat_minor": 0,
  "metadata": {
    "colab": {
      "provenance": []
    },
    "kernelspec": {
      "name": "python3",
      "display_name": "Python 3"
    },
    "language_info": {
      "name": "python"
    }
  },
  "cells": [
    {
      "cell_type": "code",
      "execution_count": null,
      "metadata": {
        "id": "KumvdIbr-Mb2",
        "colab": {
          "base_uri": "https://localhost:8080/"
        },
        "outputId": "a6c84f96-1bb4-4715-d6c4-d4e6b407ba10"
      },
      "outputs": [
        {
          "output_type": "stream",
          "name": "stdout",
          "text": [
            "Enter first number: 4\n",
            "Enter second number: 5\n",
            "\n",
            "9\n",
            "20\n",
            "1\n",
            "\n"
          ]
        }
      ],
      "source": [
        "#task1\n",
        "num1 = int(input(\"Enter first number: \"))\n",
        "num2 = int(input(\"Enter second number: \"))\n",
        "sum = num1 + num2\n",
        "sub = num1 - num2\n",
        "prod = num1 * num2\n",
        "\n",
        "\n",
        "print(f\"\"\"\n",
        "{sum}\n",
        "{sub}\n",
        "{prod}\n",
        "\"\"\")"
      ]
    },
    {
      "cell_type": "code",
      "source": [
        "#task2\n",
        "\n",
        "import math\n",
        "radius = float(input(\"Please enter the radius of the circle: \"))\n",
        "area = math.pi * radius ** 2\n",
        "circumference = 2 * math.pi * radius\n",
        "\n",
        "print(f\"Area is {area}\")\n",
        "print(f\"Circumference  is {circumference}\")"
      ],
      "metadata": {
        "id": "1FycIxzk-zMh",
        "colab": {
          "base_uri": "https://localhost:8080/"
        },
        "outputId": "5b593ed6-6088-43e6-c4e0-388354a23a67"
      },
      "execution_count": null,
      "outputs": [
        {
          "output_type": "stream",
          "name": "stdout",
          "text": [
            "Please enter the radius of the circle: 3.5\n",
            "Area is 38.48451000647496\n",
            "Circumference  is 21.991148575128552\n"
          ]
        }
      ]
    },
    {
      "cell_type": "code",
      "source": [
        "#task3\n",
        "\n",
        "num1 = int(input(\"Enter first number: \"))\n",
        "num2 = int(input(\"Enter second number: \"))\n",
        "if num1 == num2:\n",
        "  print(\"The numbers are equal\")\n",
        "else:\n",
        "  if num1 > num2:\n",
        "    print(\"First is greater\")\n",
        "  else:\n",
        "    print(\"Second is greater\")"
      ],
      "metadata": {
        "id": "-LeirzDJ-40-",
        "colab": {
          "base_uri": "https://localhost:8080/"
        },
        "outputId": "50774f98-17c4-4323-be36-51a65c2e03c5"
      },
      "execution_count": null,
      "outputs": [
        {
          "output_type": "stream",
          "name": "stdout",
          "text": [
            "Enter first number: 11\n",
            "Enter second number: 11\n",
            "The numbers are equal\n"
          ]
        }
      ]
    },
    {
      "cell_type": "code",
      "source": [
        "#task4\n",
        "\n",
        "num1 = int(input(\"Please enter the first number: \"))\n",
        "num2 = int(input(\"Please enter the second number: \"))\n",
        "if num1 >= num2:\n",
        "  result = num1 - num2\n",
        "  print(result)\n",
        "else:\n",
        "  result = num2 - num1\n",
        "  print(result)"
      ],
      "metadata": {
        "id": "FAv287ed-_YI",
        "colab": {
          "base_uri": "https://localhost:8080/"
        },
        "outputId": "2566681e-fa0a-407f-aed1-ced92945b159"
      },
      "execution_count": null,
      "outputs": [
        {
          "output_type": "stream",
          "name": "stdout",
          "text": [
            "Please enter the first number: 5\n",
            "Please enter the second number: 5\n",
            "0\n"
          ]
        }
      ]
    },
    {
      "cell_type": "code",
      "source": [
        "#task5\n",
        "num = int(input(\"Enter a number: \"))\n",
        "if num % 2 == 0 :\n",
        "  print(\"The number is even\")\n",
        "else:\n",
        "  print(\"The number is odd\")"
      ],
      "metadata": {
        "id": "eHkRJLFb_FEB",
        "colab": {
          "base_uri": "https://localhost:8080/"
        },
        "outputId": "7c11ad16-d701-4944-c009-bbe8dd6cbf76"
      },
      "execution_count": null,
      "outputs": [
        {
          "output_type": "stream",
          "name": "stdout",
          "text": [
            "Enter a number: -44\n",
            "The number is even\n"
          ]
        }
      ]
    },
    {
      "cell_type": "code",
      "source": [
        "#task6\n",
        "\n",
        "num = int(input(\"Please enter a number: \"))\n",
        "if num % 2 == 0 or num % 5 == 0:\n",
        "  print(num)\n",
        "else:\n",
        "  print(\"Not a multiple of 2 OR 5\")\n"
      ],
      "metadata": {
        "id": "Fp44lhv-_Mio",
        "colab": {
          "base_uri": "https://localhost:8080/"
        },
        "outputId": "44e616d7-c9db-4bda-db92-2602133afc49"
      },
      "execution_count": null,
      "outputs": [
        {
          "output_type": "stream",
          "name": "stdout",
          "text": [
            "Please enter a number: 3\n",
            "Not a multiple of 2 OR 5\n"
          ]
        }
      ]
    },
    {
      "cell_type": "code",
      "source": [
        "#task7\n",
        "\n",
        "\n",
        "num = int(input(\"Please enter a number \"))\n",
        "if num % 2 == 0 and num % 5 == 0:\n",
        "  print(\"Multiple of 2 and 5 both.\")\n",
        "elif num % 2 == 0 or num % 5 == 0:\n",
        "  print(num)\n",
        "else:\n",
        "  print(\"Not a multiple we want\")"
      ],
      "metadata": {
        "id": "MhElIX-w_TtV",
        "colab": {
          "base_uri": "https://localhost:8080/"
        },
        "outputId": "fc6709cb-3961-4095-99ab-18b420570fd1"
      },
      "execution_count": null,
      "outputs": [
        {
          "output_type": "stream",
          "name": "stdout",
          "text": [
            "Please enter a number 10\n",
            "Multiple of 2 and 5 both.\n"
          ]
        }
      ]
    },
    {
      "cell_type": "code",
      "source": [
        "#task8\n",
        "\n",
        "\n",
        "num = int(input(\"Please enter a number \"))\n",
        "if num % 2 == 0 and num % 5 == 0:\n",
        "  print(num)\n",
        "else:\n",
        "  print(\"Not a multiple of 2 AND 5 both\")\n"
      ],
      "metadata": {
        "id": "n-YWdViy_XuB",
        "colab": {
          "base_uri": "https://localhost:8080/"
        },
        "outputId": "d3322ade-5e56-4fc2-e8bd-f0d81f098823"
      },
      "execution_count": null,
      "outputs": [
        {
          "output_type": "stream",
          "name": "stdout",
          "text": [
            "Please enter a number 16\n",
            "Not a multiple of 2 AND 5 both\n"
          ]
        }
      ]
    },
    {
      "cell_type": "code",
      "source": [
        "#task9\n",
        "\n",
        "num = int(input(\"Please enter a number \"))\n",
        "hours = num // 3600\n",
        "x = num % 3600\n",
        "minutes = x // 60\n",
        "seconds = x % 60\n",
        "print(f\"Hours: {hours} Minutes: {minutes} Seconds: {seconds}\")"
      ],
      "metadata": {
        "id": "Oz0XHKPU_eL5"
      },
      "execution_count": null,
      "outputs": []
    },
    {
      "cell_type": "code",
      "source": [
        "#task10\n",
        "\n",
        "hours = int(input(\"Please enter your salary: \"))\n",
        "if hours < 0:\n",
        "  print(\"Hour cannot be negative\")\n",
        "elif hours > 168:\n",
        "  print(\"Impossible to work more than 168 hours weekly\")  \n",
        "else:\n",
        "  if hours <= 40:\n",
        "    total_salary = hours * 200\n",
        "    print(total_salary)\n",
        "  elif hours > 40:\n",
        "    total_salary = 8000 + (hours-40) * 300\n",
        "    print(total_salary)\n",
        "\n",
        "  \n",
        "     "
      ],
      "metadata": {
        "id": "PVFv-AfG_jEa",
        "colab": {
          "base_uri": "https://localhost:8080/"
        },
        "outputId": "da7f2d9a-15fa-4f74-ee8e-1002f2c24913"
      },
      "execution_count": null,
      "outputs": [
        {
          "output_type": "stream",
          "name": "stdout",
          "text": [
            "Please enter your salary: 170\n",
            "Impossible to work more than 168 hours weekly\n"
          ]
        }
      ]
    },
    {
      "cell_type": "code",
      "source": [
        "#task11\n",
        "\n",
        "S = int(input(\"Please enter a number: \"))\n",
        "if S < 100:\n",
        "  L = float(3000 - 125 * S ** 2)\n",
        "  print(int(L))\n",
        "else:\n",
        "  L = float(12000 / (4 + S ** 2 / 14900))\n",
        "  print(L)"
      ],
      "metadata": {
        "id": "r6F7iivq_oCN",
        "colab": {
          "base_uri": "https://localhost:8080/"
        },
        "outputId": "340d22df-d999-48a7-b201-766b8036e13d"
      },
      "execution_count": null,
      "outputs": [
        {
          "output_type": "stream",
          "name": "stdout",
          "text": [
            "Please enter a number: 3\n",
            "1875\n"
          ]
        }
      ]
    },
    {
      "cell_type": "code",
      "source": [
        "#task12\n",
        "\n",
        "time = int(input(\"Please enter time: \"))\n",
        "if 0 <= time < 24:\n",
        "  if time >= 4 and time <=6:\n",
        "    print(\"Breakfast\")\n",
        "  elif time == 12 or time == 13:\n",
        "    print(\"Lunch\")\n",
        "  elif time == 16 or time == 17:\n",
        "    print(\"Snacks\")\n",
        "  elif time == 19 or time == 20:\n",
        "    print(\"Dinner\")\n",
        "  else: \n",
        "    print(\"Patience is a virtue\")\n",
        "else:\n",
        "  print(\"Wrong Time\")\n",
        "     "
      ],
      "metadata": {
        "id": "-TcWEsSr_tV8",
        "colab": {
          "base_uri": "https://localhost:8080/"
        },
        "outputId": "39eecced-3edb-448f-ff03-167439b40834"
      },
      "execution_count": null,
      "outputs": [
        {
          "output_type": "stream",
          "name": "stdout",
          "text": [
            "Please enter time: 19\n",
            "Dinner\n"
          ]
        }
      ]
    },
    {
      "cell_type": "code",
      "source": [
        "#task13\n",
        "marks = float(input(\"Please enter your marks: \"))\n",
        "if 0 <= marks <= 100:\n",
        "   \n",
        "  if marks >= 90:\n",
        "    print(\"A\")\n",
        "  elif 80 <= marks <= 89:\n",
        "    print(\"B\")\n",
        "  elif 70 <= marks <= 79:\n",
        "    print(\"C\")\n",
        "  elif 60 <= marks <= 69:\n",
        "    print(\"D\")\n",
        "  elif 50 <= marks <= 59:\n",
        "    print(\"E\")\n",
        "  else:\n",
        "    print(\"F\")\n",
        "\n",
        "else:\n",
        "  print(\"Invalid input\")"
      ],
      "metadata": {
        "id": "jZu5w0HA_yLU",
        "colab": {
          "base_uri": "https://localhost:8080/"
        },
        "outputId": "af61403f-5b61-4363-f0e5-0314c35e6775"
      },
      "execution_count": null,
      "outputs": [
        {
          "output_type": "stream",
          "name": "stdout",
          "text": [
            "Please enter your marks: 110\n",
            "Invalid input\n"
          ]
        }
      ]
    },
    {
      "cell_type": "code",
      "source": [
        "#task14\n",
        "distance = int(input(\"Distance: \"))\n",
        "time = int(input(\"Time: \"))\n",
        "dis_km = distance / 1000\n",
        "tim_hr = time / 3600\n",
        "velocity = dis_km / tim_hr\n",
        "print(f\"{float(velocity)} km/h\")\n",
        "if velocity < 60 :\n",
        "  print(\"Too slow. Needs more changes\")\n",
        "elif velocity >= 60 and velocity <= 90:\n",
        "  print(\"Velocity is okay. The car is ready!\")\n",
        "else:\n",
        "  print(\"Too fast. Only a few changes should suffice.\")"
      ],
      "metadata": {
        "id": "iWj4-8mW_3Ss",
        "colab": {
          "base_uri": "https://localhost:8080/"
        },
        "outputId": "a17c4848-1026-4df5-e512-59b9b9304b4f"
      },
      "execution_count": null,
      "outputs": [
        {
          "output_type": "stream",
          "name": "stdout",
          "text": [
            "Distance: 160000\n",
            "Time: 7200\n",
            "80.0 km/h\n",
            "Velocity is okay. The car is ready!\n"
          ]
        }
      ]
    },
    {
      "cell_type": "code",
      "source": [
        "#task15\n",
        "cgpa = float(input(\"Enter your CGPA: \"))\n",
        "credit = int(input(\"Enter your total credit: \"))\n",
        "if cgpa > 4.00 :\n",
        "  print(\"Not acceptable\")\n",
        "else:\n",
        "  if cgpa >= 3.80 and credit >= 30:\n",
        "  \n",
        "    if cgpa >= 3.80 and cgpa <= 3.89:\n",
        "      print(\"The student is eligible for a waiver of 25 percent.\")\n",
        "    elif cgpa >= 3.90 and cgpa <= 3.94:\n",
        "      print(\"The student is eligible for a waiver of 50 percent.\")\n",
        "    elif cgpa >= 3.95 and cgpa <= 3.99:\n",
        "      print(\"The student is eligible for a waiver of 75 percent.\")\n",
        "    elif cgpa == 4.00 :\n",
        "      print(\"The student is eligible for a waiver of 100 percent.\")\n",
        "\n",
        "  else:\n",
        "    print(\"The student is not eligible for a waiver\")"
      ],
      "metadata": {
        "id": "kwHiyO1oAJAA",
        "colab": {
          "base_uri": "https://localhost:8080/"
        },
        "outputId": "b4779060-b625-47c4-db6e-021e168f794a"
      },
      "execution_count": null,
      "outputs": [
        {
          "output_type": "stream",
          "name": "stdout",
          "text": [
            "Enter your CGPA: 3.79\n",
            "Enter your total credit: 24\n",
            "The student is not eligible for a waiver\n"
          ]
        }
      ]
    },
    {
      "cell_type": "code",
      "source": [
        "cgpa = float(input(\"Enter your CGPA: \"))\n",
        "credit = int(input(\"Enter your total credit: \"))\n",
        "if cgpa > 4.00:\n",
        "  print(\"Not acceptable\")\n",
        "else:\n",
        "  if cgpa >= 3.80 and credit >= 30:\n",
        "\n",
        "    if cgpa >= 3.80 and cgpa <= 3.89:\n",
        "      print(\"The student is eligible for a waiver of 25 percent.\")\n",
        "    elif cgpa >= 3.90 and cgpa <= 3.94:\n",
        "      print(\"The student is eligible for a waivver of 50 percent.\")\n",
        "    elif cgpa >= 3.95 and cgpa <= 3.99:\n",
        "      print(\"The student is eligible for a waiver of 75 percent.\")\n",
        "    elif cgpa == 4.00:\n",
        "      print(\"The student is eligible for a waiver of 100 percent.\")\n",
        "\n",
        "  else:\n",
        "    print(\"The student is not eligible for a waiver.\")"
      ],
      "metadata": {
        "id": "fXbwkdBlvGJu"
      },
      "execution_count": null,
      "outputs": []
    },
    {
      "cell_type": "code",
      "source": [
        "#task16\n",
        "\n",
        "\n",
        "p = 5\n",
        "q = 6\n",
        "r = 9\n",
        "sum = 0\n",
        "if (p < 12):\n",
        "    print(r + 2)\n",
        "else:\n",
        "    print(r + p)\n",
        "if (q > 20):\n",
        "    print(r + 19)\n",
        "elif (q <= 6):\n",
        "    print(q + 3)\n",
        "else:\n",
        "    print(p + q + r)\n",
        "if (r > 15):\n",
        "    print(r)\n",
        "elif (r == 0):\n",
        "    print(p + q)\n",
        "else:\n",
        "    print(p)\n",
        "if (sum != 0):\n",
        "    print(3)\n",
        "else:\n",
        "    print(sum + 32)\n",
        "if (p>0 and r<10):\n",
        "    print(p+r)\n",
        "else:\n",
        "    print(p-r)"
      ],
      "metadata": {
        "id": "-NeOFF4ZAPGW"
      },
      "execution_count": null,
      "outputs": []
    },
    {
      "cell_type": "code",
      "source": [
        "#task17\n",
        "\n",
        "var1 = var2 = var3 = var4 = var5 = var6 = False\n",
        "result1 = False\n",
        "result2 = False\n",
        "result3 = False\n",
        "result4 = False\n",
        "result5 = False\n",
        "result6 = False\n",
        "result7 = False\n",
        "result8 = False\n",
        "result9 = False\n",
        "result10 = False\n",
        "var1 = 4 > 3 - 1\n",
        "var2 = var1 and False\n",
        "var3 = True\n",
        "var4 = False\n",
        "var5 = True\n",
        "var6 = var3 and False\n",
        "result1 = (var1 or var2) and (8 * 10 > 45)\n",
        "result2 = (var1 or var2) and (result1 and False)\n",
        "result3 = (var1 and result1) or result2\n",
        "result4 = (var1 or var2) or ((var3 and var1) and False)\n",
        "result5 = (var1 and var2) and (result3 or var1)\n",
        "result6 = ((var3 or var2) and not(result5)) or True\n",
        "result7 = (var4 and result1) and ((result1 and False) or True)\n",
        "result8 = ((var1 and result3) and (var5 or var6)) and True\n",
        "result9 = ((result2 and var2) or (result7 and var1)) and False\n",
        "result10 = not(var1 and True)\n",
        "print(f\"{result1} {result2} {result3} {result4} {result5} {result6} {result7} {result8} {result9} {result10}\")"
      ],
      "metadata": {
        "id": "84CxE1DvAVKN"
      },
      "execution_count": null,
      "outputs": []
    },
    {
      "cell_type": "code",
      "source": [
        "#task18\n",
        "\n",
        "var1 = False\n",
        "var2 = False\n",
        "var3 = False\n",
        "var4 = False\n",
        "var5 = False\n",
        "var6 = False\n",
        "result1 = False\n",
        "result2 = False\n",
        "result3 = False\n",
        "result4 = False\n",
        "result5 = False\n",
        "result6 = False\n",
        "result7 = False\n",
        "result8 = False\n",
        "result9 = False\n",
        "result10 = False\n",
        "var1 = ((not True) or True) and False\n",
        "var2 = var1 and False\n",
        "var3 = True and not False\n",
        "var4 = False\n",
        "var5 = True\n",
        "var6 = var3 and False\n",
        "result1 = (var1 and var2) and (40 % 3) > 45 or (var5 and var6)\n",
        "result2 = (var1 or var2) or (result1 and False)\n",
        "result3 = (var1 and result1) or result2 or var5\n",
        "result4 = (var1 or var2) or ((var3 and var1) and False)\n",
        "result5 = (var1 and var2) and (result3 or var1)\n",
        "result6 = ((var3 or (not var2)) and (result5)) or True\n",
        "result7 = (var4 and result1) and ((result1 and False) or True)\n",
        "result8 = ((var1 and result3) and ((not var5) or var6)) and True\n",
        "result9 = ((result2 and var2) or ((not result7) and var1)) and not False\n",
        "result10 = not(var1 and True)\n",
        "print(f\"{result1} {result2} {result3} {result4} {result5} {result6} {result7} {result8} {result9} {result10}\")"
      ],
      "metadata": {
        "id": "xQaXQ9eEAeMo"
      },
      "execution_count": null,
      "outputs": []
    },
    {
      "cell_type": "code",
      "source": [
        "#task19\n",
        "\n",
        "\n",
        "var1 = var2 = var3 = var4 = var5 = var6 = False \n",
        "result1 = result2 = result3 = result4 = result5 = result6 = False\n",
        "result7 = result8 = result9 = result10 = False\n",
        "var1 = (not False or False) and True\n",
        "var2 = var1 and True\n",
        "var3 = False and not True\n",
        "var4 = True\n",
        "var5 = False\n",
        "var6 = var3 and True\n",
        "result1 = (var1 and var2) and ( 40 % 3 > 45) or (var5 and var6)\n",
        "result2 = (var1 or var2) or (result1 and False)\n",
        "result3 = (var1 and result1) or result2 or var5\n",
        "result4 = (var1 or var2) or ((var3 and var1) and False)\n",
        "result5 = (var1 and var2) and (result3 or var1)\n",
        "result6 = ((var3 or not var2) and (result5)) or True\n",
        "result7 = (var4 and result1) and ((result1 and False) or True)\n",
        "result8 = ((var1 and result3) and (not var5 or var6)) and True\n",
        "result9 = ((result2 and var2) or (not result7 and var1)) and not False\n",
        "result10 = not (var1 and True)\n",
        "print(f\"{result1} {result2} {result3} {result4} {result5} {result6} {result7} {result8} {result9} {result10}\")"
      ],
      "metadata": {
        "id": "UWFJiVLDAjNo"
      },
      "execution_count": null,
      "outputs": []
    },
    {
      "cell_type": "code",
      "source": [
        "#task20\n",
        "\n",
        "num = int(input(\"Please enter a number \"))\n",
        "if not(num % 2 == 0 or num % 5 == 0):\n",
        "  print(num)\n",
        "else:\n",
        "  print(\"No\")"
      ],
      "metadata": {
        "id": "rjNfiEqIApKE"
      },
      "execution_count": null,
      "outputs": []
    },
    {
      "cell_type": "code",
      "source": [
        "num = int(input(\"Please enter a number: \"))\n",
        "if not(num % 2 == 0 or num % 5 == 0):\n",
        "  print(num)\n",
        "else:\n",
        "  print(\"No\")"
      ],
      "metadata": {
        "id": "20f8iiBmwzTH"
      },
      "execution_count": null,
      "outputs": []
    },
    {
      "cell_type": "code",
      "source": [
        "#task21\n",
        "\n",
        "num = int(input(\"Please enter a number: \"))\n",
        "if num % 2 != 0 or num % 5 != 0:\n",
        "  print(num)\n",
        "else:\n",
        "  print(\"No\")"
      ],
      "metadata": {
        "id": "Kyz90myWAt53"
      },
      "execution_count": null,
      "outputs": []
    },
    {
      "cell_type": "code",
      "source": [
        "num = int(input(\"Please enter a number: \"))\n",
        "if num % 2 != 0 or num % 5 != 0:\n",
        "  print(num)\n",
        "else:\n",
        "  print(\"No\")"
      ],
      "metadata": {
        "id": "1_eL9DA1xG0Z"
      },
      "execution_count": null,
      "outputs": []
    },
    {
      "cell_type": "code",
      "source": [
        "#task22\n",
        "\n",
        "canvas = int(input(\"Enter the number of canvases: \"))\n",
        "paint = int(input(\"Enter the number of paint: \"))\n",
        "total = canvas * 120 + paint * 75\n",
        "print(\"Previous total:\",total)\n",
        "if (total >= 0 and total <= 299):\n",
        "  discount = 0\n",
        "  print(f\"New total after discount: {total - discount}\")\n",
        "elif (total >= 300 and total <= 499):\n",
        "  discount = 10\n",
        "  print(f\"New total after discount: {total - discount}\")\n",
        "elif (total >= 500 and total <= 749):\n",
        "  discount = 20\n",
        "  print(f\"New total after discount: {total - discount}\")\n",
        "elif (total >= 750 and total <= 999):\n",
        "  discount = 50\n",
        "  print(f\"New total after discount: {total - discount}\")\n",
        "else:\n",
        "  discount = 150\n",
        "  print(f\"New total after discount: {total - discount}\")"
      ],
      "metadata": {
        "id": "bN1qUbNpA0DS",
        "colab": {
          "base_uri": "https://localhost:8080/"
        },
        "outputId": "83331b1e-a924-46ae-ecd5-17c86db6599c"
      },
      "execution_count": null,
      "outputs": [
        {
          "output_type": "stream",
          "name": "stdout",
          "text": [
            "Enter the number of canvases: 5\n",
            "Enter the number of paint): 8\n",
            "Previous total: 1200\n",
            "New total after discount: 1050\n"
          ]
        }
      ]
    },
    {
      "cell_type": "code",
      "source": [
        "canvas = int(input(\"Enter the number of canvases: \"))\n",
        "paint = int(input(\"Enter the number of paint: \"))\n",
        "total = canvas * 120 + paint * 75\n",
        "print(\"Previous total:\", total)\n",
        "if (total >= 0 and total <= 299):\n",
        "  discount = 0\n",
        "  print(f\"New total after discount: {total - discount}\")\n",
        "elif (total >= 300 and total <= 499):\n",
        "  discount = 10\n",
        "  print(f\"New total after discount: {total - discount}\")\n",
        "elif (total >= 500 and total <= 749):\n",
        "  discount = 20\n",
        "  print(f\"New total after disount: {total - discount}\")\n",
        "elif (total >= 750 and total <= 999):\n",
        "  discount = 50\n",
        "  print(f\"New total after discount: {total - discount}\")\n",
        "else:\n",
        "  discount = 150\n",
        "  print(f\"New total after discount: {total - discount}\")"
      ],
      "metadata": {
        "id": "WIkLN09hxdd-"
      },
      "execution_count": null,
      "outputs": []
    },
    {
      "cell_type": "code",
      "source": [
        "#task23\n",
        "\n",
        "\n",
        "f = float(input(\"Please enter the temperature in degrees Fahrenheit: \"))\n",
        "c = (f -32)* 0.56\n",
        "print(f\"{c} degrees in C\")\n",
        "if c < 20:\n",
        "  print(\"Winter\")\n",
        "elif c >=20 and c <=25:\n",
        "  print(\"Autumn\")\n",
        "elif c > 25 and c < 30:\n",
        "  print(\"Spring\")\n",
        "else: \n",
        "  print(\"Summer\")"
      ],
      "metadata": {
        "id": "0mlz68E2A5fX",
        "colab": {
          "base_uri": "https://localhost:8080/"
        },
        "outputId": "8a64bdc8-c5b4-422c-876b-b7b30131d46c"
      },
      "execution_count": null,
      "outputs": [
        {
          "output_type": "stream",
          "name": "stdout",
          "text": [
            "Please enter the temperature in degrees Fahrenheit: 82\n",
            "28.000000000000004 degrees in C\n",
            "Spring\n"
          ]
        }
      ]
    },
    {
      "cell_type": "code",
      "source": [
        "fahrenheit = float(input(\"Please enter the temperature in degrees fahrenheit: \"))\n",
        "celcius = (fahrenheit - 32) * 0.56\n",
        "print(f\"{celcius} degrees in C\")\n",
        "if celcius < 20:\n",
        "  print(\"Winter\")\n",
        "elif celcius >= 20 and celcius <= 25:\n",
        "  print(\"Autumn\")\n",
        "elif celcius > 25 and celcius < 30:\n",
        "  print(\"Spring\")\n",
        "else:\n",
        "  print(\"Summer\")"
      ],
      "metadata": {
        "id": "bpRqu8Gl0F1H"
      },
      "execution_count": null,
      "outputs": []
    }
  ]
}