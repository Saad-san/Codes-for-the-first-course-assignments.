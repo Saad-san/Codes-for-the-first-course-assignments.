{
  "nbformat": 4,
  "nbformat_minor": 0,
  "metadata": {
    "colab": {
      "provenance": []
    },
    "kernelspec": {
      "name": "python3",
      "display_name": "Python 3"
    },
    "language_info": {
      "name": "python"
    }
  },
  "cells": [
    {
      "cell_type": "code",
      "execution_count": 1,
      "metadata": {
        "id": "NkdDZh89TTNX",
        "colab": {
          "base_uri": "https://localhost:8080/"
        },
        "outputId": "7f63263c-8a64-4dcf-c432-b3e07da70629"
      },
      "outputs": [
        {
          "output_type": "stream",
          "name": "stdout",
          "text": [
            "400\n"
          ]
        }
      ],
      "source": [
        "#task_1\n",
        "a_tuple = (\"The Institute\", (\"Best Mystery & Thriller\", \"The Silent Patient\", 68821), 75717,\n",
        "[1, 2, 3, 400, 5, 6, 7], (\"Best Fiction\", \"The Testaments\", 98291))\n",
        "print(a_tuple[3][3])"
      ]
    },
    {
      "cell_type": "code",
      "source": [
        "#task_2;method for taking a tuple as an input\n",
        "tpl = tuple(int(item) for item in input('Enter Tuple: ')[1:-1].split(', '))\n",
        "tpl = tpl[2:-2]\n",
        "print(tpl)"
      ],
      "metadata": {
        "id": "B2BvXWKiVJmo",
        "colab": {
          "base_uri": "https://localhost:8080/"
        },
        "outputId": "6cf7f0d8-2d9b-47fe-d010-0caae751eaeb"
      },
      "execution_count": 2,
      "outputs": [
        {
          "output_type": "stream",
          "name": "stdout",
          "text": [
            "Enter Tuple: (10, 20, 24, 25, 26, 35, 70)\n",
            "(24, 25, 26)\n"
          ]
        }
      ]
    },
    {
      "cell_type": "code",
      "source": [
        "#task_2 **** very good\n",
        "usr_inp = input('Enter Tuple: ')[1:-1].split(', ')\n",
        "lit = []\n",
        "for item in usr_inp:\n",
        "  lit.append(int(item))\n",
        "tup = tuple(lit)\n",
        "mod_tup = tup[2:-2]\n",
        "print(mod_tup)"
      ],
      "metadata": {
        "colab": {
          "base_uri": "https://localhost:8080/"
        },
        "id": "bg5IVoyy61Db",
        "outputId": "6c934cb4-dda1-4e3f-cb67-bbaae0805db3"
      },
      "execution_count": 5,
      "outputs": [
        {
          "output_type": "stream",
          "name": "stdout",
          "text": [
            "Enter Tuple: (-10, 20, 25, 30, 40)\n",
            "(25,)\n"
          ]
        }
      ]
    },
    {
      "cell_type": "code",
      "source": [
        "#task_2\n",
        "given_tup = (-10, 20, 25, 30, 40)\n",
        "print(given_tup[2:-2])"
      ],
      "metadata": {
        "colab": {
          "base_uri": "https://localhost:8080/"
        },
        "id": "NiyMF_sZbuOn",
        "outputId": "610e0596-d499-400a-91ea-87a321c86cdb"
      },
      "execution_count": null,
      "outputs": [
        {
          "output_type": "stream",
          "name": "stdout",
          "text": [
            "(25,)\n"
          ]
        }
      ]
    },
    {
      "cell_type": "code",
      "source": [
        "#task_3\n",
        "book_info = (\n",
        "(\"Best Mystery & Thriller\",\"The Silent Patient\",68,821),\n",
        "(\"Best Horror\",\"The Institute\",75,717),\n",
        "(\"Best History & Biography\",\"The five\",31,783 ),\n",
        "(\"Best Fiction\",\"The Testaments\",98,291)\n",
        ")\n",
        "print(f\"Size of the tuple is: {len(book_info)}\")\n",
        "for item in book_info:\n",
        "  print(item)"
      ],
      "metadata": {
        "colab": {
          "base_uri": "https://localhost:8080/"
        },
        "id": "ueUgkfZ9W_H-",
        "outputId": "81d54aa3-9168-4d7a-956f-e95ebec7fd58"
      },
      "execution_count": null,
      "outputs": [
        {
          "output_type": "stream",
          "name": "stdout",
          "text": [
            "Size of the tuple is: 4\n",
            "('Best Mystery & Thriller', 'The Silent Patient', 68, 821)\n",
            "('Best Horror', 'The Institute', 75, 717)\n",
            "('Best History & Biography', 'The five', 31, 783)\n",
            "('Best Fiction', 'The Testaments', 98, 291)\n"
          ]
        }
      ]
    },
    {
      "cell_type": "code",
      "source": [
        "#task_4\n",
        "book_info = (\n",
        "(\"Best Mystery & Thriller\",\"The Silent Patient\",68821),\n",
        "(\"Best Horror\",\"The Institute\",75717),\n",
        "(\"Best History & Biography\",\"The five\",31783 ),\n",
        "(\"Best Fiction\",\"The Testaments\",98291)\n",
        ")\n",
        "for item in book_info:\n",
        "  category,name,votes = item#this process is called unpacking\n",
        "  print(f\"{name} won the '{category}' category with {votes} votes\")"
      ],
      "metadata": {
        "colab": {
          "base_uri": "https://localhost:8080/"
        },
        "id": "Q_umH1UzWIGj",
        "outputId": "3efb7564-b480-451e-f16b-2480e49d73bb"
      },
      "execution_count": null,
      "outputs": [
        {
          "output_type": "stream",
          "name": "stdout",
          "text": [
            "The Silent Patient won the 'Best Mystery & Thriller' category with 68821 votes\n",
            "The Institute won the 'Best Horror' category with 75717 votes\n",
            "The five won the 'Best History & Biography' category with 31783 votes\n",
            "The Testaments won the 'Best Fiction' category with 98291 votes\n"
          ]
        }
      ]
    },
    {
      "cell_type": "code",
      "source": [
        "#task_5\n",
        "given_tup = (10, 8, 5, 2, 10, 15, 10, 8, 5, 8, 8, 2)\n",
        "user = int(input(\"Enter a num: \"))\n",
        "count = 0\n",
        "for i in given_tup:\n",
        "  if i == user:\n",
        "    count += 1\n",
        "print(f\"{user} appears {count} times in the tuple\")"
      ],
      "metadata": {
        "colab": {
          "base_uri": "https://localhost:8080/"
        },
        "id": "eW_x24H8XzMS",
        "outputId": "f408d7b2-d7a1-4917-d829-e21d3236d709"
      },
      "execution_count": 6,
      "outputs": [
        {
          "output_type": "stream",
          "name": "stdout",
          "text": [
            "Enter a num: 8\n",
            "8 appears 4 times in the tuple\n"
          ]
        }
      ]
    },
    {
      "cell_type": "code",
      "source": [
        "#task_6\n",
        "tpl = ('a', 'b', 'c', 'd', 'e', 'f', 'g', 'h')\n",
        "new = []\n",
        "for i in range (len(tpl)-1,0-1,-1):\n",
        "  new.append(tpl[i])\n",
        "new = tuple(new)\n",
        "print(new)"
      ],
      "metadata": {
        "colab": {
          "base_uri": "https://localhost:8080/"
        },
        "id": "vCMh61WLZEIR",
        "outputId": "90f43446-94bd-4554-9892-0f8a514f773d"
      },
      "execution_count": 8,
      "outputs": [
        {
          "output_type": "stream",
          "name": "stdout",
          "text": [
            "('h', 'g', 'f', 'e', 'd', 'c', 'b', 'a')\n"
          ]
        }
      ]
    },
    {
      "cell_type": "code",
      "source": [
        "#task7 jubii\n",
        "x = {'Harry':15, 'Draco':8, 'Nevil':19}\n",
        "y = {'Ginie':18, 'Luna': 14}\n",
        "marks = x.copy()\n",
        "marks.update(y)\n",
        "print(marks)"
      ],
      "metadata": {
        "id": "M_bN1jeKsBwO"
      },
      "execution_count": null,
      "outputs": []
    },
    {
      "cell_type": "code",
      "source": [
        "#task_7 me\n",
        "a_dict={'Harry':15, 'Draco':8, 'Nevil':19}\n",
        "b_dict={'Ginie':18, 'Luna': 14}\n",
        "n_dict = {}\n",
        "n_dict.update(a_dict)\n",
        "n_dict.update(b_dict)\n",
        "print(n_dict)"
      ],
      "metadata": {
        "id": "EWpVTWSD9ZGw",
        "colab": {
          "base_uri": "https://localhost:8080/"
        },
        "outputId": "94dda746-bd4e-4e37-ba8f-4e351991c53b"
      },
      "execution_count": null,
      "outputs": [
        {
          "output_type": "stream",
          "name": "stdout",
          "text": [
            "{'Harry': 15, 'Draco': 8, 'Nevil': 19, 'Ginie': 18, 'Luna': 14}\n"
          ]
        }
      ]
    },
    {
      "cell_type": "code",
      "source": [
        "#task_8 jubii ******very gooddo\n",
        "s = input(\"Enter a dictionary: \").split(', ')\n",
        "d = {}\n",
        "n = []\n",
        "for i in s:#here i is a volume of a pair\n",
        "  i = i.split(':')\n",
        "  for j in i:\n",
        "    n.append(j)\n",
        "n2 = []\n",
        "for i in range(len(n)):#this loop is for converting string numbers into integers\n",
        "  if i % 2 != 0:#from the list n taking characters in odd position which are numbers/values\n",
        "    n[i] = int(n[i])#converting them into integers\n",
        "    n2.append(n[i])#or n2.append(int(n[i]))\n",
        "  else:\n",
        "    n2.append(n[i])#adding as it is(string)\n",
        "value = []\n",
        "for i in range(len(n2)):#this loop is for collecting only the integers\n",
        "  if type(n2[i]) == int:\n",
        "    value.append(n2[i])#making a list with only the integers/values from the dict\n",
        "sum = 0\n",
        "count = 0\n",
        "for i in value:\n",
        "  sum += i\n",
        "  count += 1\n",
        "avg = sum/count\n",
        "print(f\"Average is {int(avg)}.\")\n",
        " \n",
        "#Jon:100, Dan:200, Rob:300"
      ],
      "metadata": {
        "id": "6Zn-yGwtsEpN",
        "colab": {
          "base_uri": "https://localhost:8080/"
        },
        "outputId": "8000598c-5c61-49a9-a8fa-0840ce0bd900"
      },
      "execution_count": null,
      "outputs": [
        {
          "output_type": "stream",
          "name": "stdout",
          "text": [
            "Enter a dictionary: Jon:100, Dan:200, Rob:300\n",
            "Average is 200.\n"
          ]
        }
      ]
    },
    {
      "cell_type": "code",
      "source": [
        "#task_8 me *\n",
        "# Taking input from the user\n",
        "user_input = input(\"Enter a dictionary with keys and values separated by colons and key-value pairs separated by commas: \")\n",
        "\n",
        "# Parsing the user input to create a dictionary\n",
        "my_dict = {}\n",
        "for item in user_input.split(\",\"):\n",
        "    key, value = item.split(\":\")\n",
        "    my_dict[key] = int(value)\n",
        "\n",
        "# Calculating the average of all the values in the dictionary\n",
        "total = 0\n",
        "count = 0\n",
        "for value in my_dict.values():\n",
        "    total += value\n",
        "    count += 1\n",
        "average = total / count\n",
        "\n",
        "# Printing the average\n",
        "print(f\"Average is {average}.\")"
      ],
      "metadata": {
        "id": "YCCYEW2ksH5X",
        "colab": {
          "base_uri": "https://localhost:8080/"
        },
        "outputId": "ff8c3c20-39bb-4026-c3c5-4832dd70349f"
      },
      "execution_count": null,
      "outputs": [
        {
          "output_type": "stream",
          "name": "stdout",
          "text": [
            "Enter a dictionary with keys and values separated by colons and key-value pairs separated by commas: Jon:100, Dan:200, Rob:300\n",
            "Average is 200.0.\n"
          ]
        }
      ]
    },
    {
      "cell_type": "code",
      "source": [
        "#task9 jubii\n",
        "exam_marks = {'Cierra Vega': 175, 'Alden Cantrell': 200, 'Kierra Gentry': 165, 'Pierre Cox': 190}\n",
        "n = int(input(\"Enter a mark: \"))\n",
        "dic = {}\n",
        "for i in exam_marks.keys():#here i goes by keys\n",
        "  if exam_marks[i] >= n:#dictionary square bracket keys, represents a value \n",
        "    dic[i] = exam_marks[i]#the right part of the equal sign represents previous dictionary value whereas\n",
        "  else:# the left part is new dictionary key being assigned a value\n",
        "    pass\n",
        "print(dic)"
      ],
      "metadata": {
        "id": "Iy8C9VVGsKj4",
        "colab": {
          "base_uri": "https://localhost:8080/"
        },
        "outputId": "f66ec71c-9de3-4824-9717-b15a9bd88149"
      },
      "execution_count": null,
      "outputs": [
        {
          "output_type": "stream",
          "name": "stdout",
          "text": [
            "Enter a mark: 170\n",
            "{'Cierra Vega': 175, 'Alden Cantrell': 200, 'Pierre Cox': 190}\n"
          ]
        }
      ]
    },
    {
      "cell_type": "code",
      "source": [
        "#task 9 me ****\n",
        "exam_marks = {'Cierra Vega': 175, 'Alden Cantrell': 200, 'Kierra Gentry': 165, 'Pierre Cox': 190}\n",
        "\n",
        "# Take input from the user\n",
        "user_input = int(input(\"Enter a number: \"))\n",
        "\n",
        "# Create a new dictionary with only those elements whose values are higher than or equal to user input\n",
        "new_dict = {}\n",
        "for key, value in exam_marks.items():\n",
        "  if value >= user_input:\n",
        "    new_dict[key] = value\n",
        "  else:\n",
        "    continue\n",
        "\n",
        "# Print the new dictionary\n",
        "print(new_dict)"
      ],
      "metadata": {
        "colab": {
          "base_uri": "https://localhost:8080/"
        },
        "id": "sUNOym2f25dz",
        "outputId": "b05f09e9-5666-4b8c-828a-faa20a3743a5"
      },
      "execution_count": 10,
      "outputs": [
        {
          "output_type": "stream",
          "name": "stdout",
          "text": [
            "Enter a number: 190\n",
            "{'Alden Cantrell': 200, 'Pierre Cox': 190}\n"
          ]
        }
      ]
    },
    {
      "cell_type": "code",
      "source": [
        "#task 9 me modified *\n",
        "exam_marks = {'Cierra Vega': 175, 'Alden Cantrell': 200, 'Kierra Gentry': 165, 'Pierre Cox': 190}\n",
        "user_input = int(input(\"Enter a number: \"))\n",
        "new_dict = {}\n",
        "for key, value in exam_marks.items():\n",
        "  if value >= user_input:\n",
        "    new_dict[key] = value\n",
        "  else:\n",
        "    pass\n",
        "print(new_dict)"
      ],
      "metadata": {
        "colab": {
          "base_uri": "https://localhost:8080/"
        },
        "id": "YAJW1zE-E_FL",
        "outputId": "1e5fb6fc-a322-477f-f8c7-67e8289c2687"
      },
      "execution_count": null,
      "outputs": [
        {
          "output_type": "stream",
          "name": "stdout",
          "text": [
            "Enter a number: 170\n",
            "{'Cierra Vega': 175, 'Alden Cantrell': 200, 'Pierre Cox': 190}\n"
          ]
        }
      ]
    },
    {
      "cell_type": "code",
      "source": [
        "#task10 jubii\n",
        "# given = {'sci fi': 12, 'mystery': 15, 'horror': 8, 'mythology': 10, 'young_adult': 4, 'adventure':14}\n",
        "given = {'sci fi': 5, 'mystery': 3, 'horror': 14, 'young_adult': 2, 'adventure':9} #Both given inputs work\n",
        "value = given.values()\n",
        "max = 0\n",
        "for i in value:\n",
        "  if i >= max:\n",
        "    max = i\n",
        "  else:\n",
        "    pass\n",
        "for i in given:#by default the loop goes by key wise\n",
        "  if given[i] == max:#dictionary[key] represents a value.\n",
        "    print(f\"The highest selling book genre is '{i}' and the number of books sold are {max}.\")"
      ],
      "metadata": {
        "id": "a8oZ51pHsNTx",
        "colab": {
          "base_uri": "https://localhost:8080/"
        },
        "outputId": "6d23a7bb-0669-465f-fb92-16024ad72dd3"
      },
      "execution_count": null,
      "outputs": [
        {
          "output_type": "stream",
          "name": "stdout",
          "text": [
            "The highest selling book genre is 'horror' and the number of books sold are 14.\n"
          ]
        }
      ]
    },
    {
      "cell_type": "code",
      "source": [
        "#task10 me \n",
        "#book_genres = {'sci fi': 12, 'mystery': 15, 'horror': 8, 'mythology': 10, 'young_adult': 4, 'adventure': 14}#sample 1\n",
        "book_genres = {'sci fi': 5, 'mystery': 3, 'horror': 14, 'young_adult': 2, 'adventure':9}\n",
        "max_genre = \"\"\n",
        "max_count = 0\n",
        "\n",
        "for genre, count in book_genres.items():\n",
        "    if count > max_count:\n",
        "        max_genre = genre\n",
        "        max_count = count\n",
        "\n",
        "print(\"The highest selling book genre is '{}' and the number of books sold are {}.\".format(max_genre, max_count))"
      ],
      "metadata": {
        "colab": {
          "base_uri": "https://localhost:8080/"
        },
        "id": "8G9y4-jb3GMp",
        "outputId": "210a532b-ebb7-46a0-d022-5768396709ad"
      },
      "execution_count": null,
      "outputs": [
        {
          "output_type": "stream",
          "name": "stdout",
          "text": [
            "The highest selling book genre is 'horror' and the number of books sold are 14.\n"
          ]
        }
      ]
    },
    {
      "cell_type": "code",
      "source": [
        "#task11 jubii this one must be followed *\n",
        "s = input(\"Enter a string using quotes: \")[1:-1].lower()\n",
        "dic = {}\n",
        "for i in s:\n",
        "  if i == ' ':\n",
        "    pass\n",
        "  elif i in dic.keys():\n",
        "    dic[i] += 1\n",
        "  else:\n",
        "    dic[i] = 1\n",
        "print(dic)"
      ],
      "metadata": {
        "id": "lDz4vJ8_sQOj",
        "colab": {
          "base_uri": "https://localhost:8080/"
        },
        "outputId": "ef3e91d3-9064-416d-caef-b0c8428e149b"
      },
      "execution_count": null,
      "outputs": [
        {
          "output_type": "stream",
          "name": "stdout",
          "text": [
            "Enter a string using quotes: \"Python programming is fun\"\n",
            "{'p': 2, 'y': 1, 't': 1, 'h': 1, 'o': 2, 'n': 3, 'r': 2, 'g': 2, 'a': 1, 'm': 2, 'i': 2, 's': 1, 'f': 1, 'u': 1}\n"
          ]
        }
      ]
    },
    {
      "cell_type": "code",
      "source": [
        "#task11 me\n",
        "user_string = input(\"Enter a string: \")\n",
        "char_freq = {}\n",
        "#removing the quotes\n",
        "user_string = user_string[1:-1]\n",
        "\n",
        "# convert the string to lowercase to ignore case\n",
        "user_string = user_string.lower()\n",
        "\n",
        "# loop through each character in the string\n",
        "for char in user_string:\n",
        "    # check if the character is already in the dictionary\n",
        "    if char == \" \":\n",
        "      pass\n",
        "    elif char in char_freq:\n",
        "        # if yes, increment the count by 1\n",
        "        char_freq[char] += 1#char_freq[char] = char_freq[char] + 1;same thing,on the right it's a value,left it's a key\n",
        "    else:\n",
        "        # if no, add the character to the dictionary with a count of 1\n",
        "        char_freq[char] = 1\n",
        "\n",
        "print(char_freq)"
      ],
      "metadata": {
        "colab": {
          "base_uri": "https://localhost:8080/"
        },
        "id": "GBKfprdp3bGa",
        "outputId": "a0868a4e-ec1a-4f17-b2a5-aed414f5430b"
      },
      "execution_count": null,
      "outputs": [
        {
          "output_type": "stream",
          "name": "stdout",
          "text": [
            "Enter a string: \"Python programming is fun\"\n",
            "{'p': 2, 'y': 1, 't': 1, 'h': 1, 'o': 2, 'n': 3, 'r': 2, 'g': 2, 'a': 1, 'm': 2, 'i': 2, 's': 1, 'f': 1, 'u': 1}\n"
          ]
        }
      ]
    },
    {
      "cell_type": "code",
      "source": [
        "#task12 jubii\n",
        "dict_1 = {'A': [1, 2, 3], 'b': ['1', '2'], \"c\": [4, 5, 6, 7]}\n",
        "count = 0\n",
        "for i in dict_1.values():#here i represents the values which is lists\n",
        "  for j in i:\n",
        "    count += 1\n",
        "print(count)"
      ],
      "metadata": {
        "id": "1oRL08ahsSt6",
        "colab": {
          "base_uri": "https://localhost:8080/"
        },
        "outputId": "69e87b35-6c9d-4b3f-c14e-880534ca2ff4"
      },
      "execution_count": null,
      "outputs": [
        {
          "output_type": "stream",
          "name": "stdout",
          "text": [
            "9\n"
          ]
        }
      ]
    },
    {
      "cell_type": "code",
      "source": [
        "#task12 me *\n",
        "dict_1 = {'A': [1, 2, 3], 'b': ['1', '2'], 'c': [4, 5, 6, 7]}\n",
        "\n",
        "# initialize the counter variable to 0\n",
        "count = 0\n",
        "\n",
        "# loop through each key-value pair in the dictionary\n",
        "for key, value in dict_1.items():\n",
        "    # loop through each item in the value list\n",
        "    for item in value:#here value is a list\n",
        "        # increment the counter variable by 1 for each item\n",
        "        count += 1\n",
        "\n",
        "print(count)"
      ],
      "metadata": {
        "colab": {
          "base_uri": "https://localhost:8080/"
        },
        "id": "QQ1h7V6h3n2C",
        "outputId": "08da4c39-b9b0-4dfa-b677-be6ffe25d7d3"
      },
      "execution_count": null,
      "outputs": [
        {
          "output_type": "stream",
          "name": "stdout",
          "text": [
            "9\n"
          ]
        }
      ]
    },
    {
      "cell_type": "code",
      "source": [
        "#task13 jubii *\n",
        "list_1 = [(\"a\", 1), (\"b\", 2), (\"a\", 3), (\"b\", 1), (\"a\", 2), (\"c\", 1)]\n",
        "dic = {}\n",
        "for item in list_1:\n",
        "  key,value = item#unpacking by key, value wise\n",
        "  if key in dic:\n",
        "    dic[key].append(value)#dic[key] represents a value which is a list\n",
        "    continue#skips the line under;works as if else\n",
        "  else:\n",
        "    dic[key] = [value]#turning the value into a list\n",
        "print(dic)"
      ],
      "metadata": {
        "id": "IAs-xCw5sXCe",
        "colab": {
          "base_uri": "https://localhost:8080/"
        },
        "outputId": "e138bb9f-0753-4e08-8d43-377f9d01543c"
      },
      "execution_count": 11,
      "outputs": [
        {
          "output_type": "stream",
          "name": "stdout",
          "text": [
            "{'a': [1, 3, 2], 'b': [2, 1], 'c': [1]}\n"
          ]
        }
      ]
    },
    {
      "cell_type": "code",
      "source": [
        "#task 13 me\n",
        "list_1 = [(\"a\", 1), (\"b\", 2), (\"a\", 3), (\"b\", 1), (\"a\", 2), (\"c\", 1)]\n",
        "\n",
        "# create an empty dictionary to store the key-value pairs\n",
        "dict_1 = {}\n",
        "\n",
        "# loop through each tuple in the list\n",
        "for item in list_1:\n",
        "    # if the key is not already in the dictionary, add it with an empty list as the value\n",
        "    if item[0] not in dict_1:\n",
        "      dict_1[item[0]] = []#here value is an empty dict\n",
        "    # append the value to the list of values for the corresponding key\n",
        "    else:\n",
        "      dict_1[item[0]].append(item[1])\n",
        "\n",
        "# print the resulting dictionary\n",
        "print(dict_1)"
      ],
      "metadata": {
        "colab": {
          "base_uri": "https://localhost:8080/"
        },
        "id": "dHlwXodE35dx",
        "outputId": "1edccb09-0972-4115-c494-d489c9be2182"
      },
      "execution_count": null,
      "outputs": [
        {
          "output_type": "stream",
          "name": "stdout",
          "text": [
            "{'a': [1, 3, 2], 'b': [2, 1], 'c': [1]}\n"
          ]
        }
      ]
    },
    {
      "cell_type": "code",
      "source": [
        "#task 15 me\n",
        "given = [(2, 3), (4, 5), (6, 7), (2, 8)]\n",
        "l = []\n",
        "for i in given:\n",
        "  k,v = i\n",
        "  m = k*v\n",
        "  l.append(m)\n",
        "print(l)"
      ],
      "metadata": {
        "id": "NH29NIm3qUkF",
        "colab": {
          "base_uri": "https://localhost:8080/"
        },
        "outputId": "8945c1c6-bc28-44ba-a637-6c6e88e2009d"
      },
      "execution_count": null,
      "outputs": [
        {
          "output_type": "stream",
          "name": "stdout",
          "text": [
            "[6, 20, 42, 16]\n"
          ]
        }
      ]
    },
    {
      "cell_type": "code",
      "source": [
        "#task 16 me\n",
        "a_tuple = ( [1, 2, 3], [4, 5, 6], [7, 8, 9], [10, 11, 12])\n",
        "user_input = input(\"Enter the value to be set as last element of each inner list: \")\n",
        "n_li = []\n",
        "for inner_list in a_tuple:\n",
        "  n_li.append(inner_list[:-1] + [user_input])\n",
        "new_tuple = tuple(n_li)\n",
        "print(new_tuple)"
      ],
      "metadata": {
        "id": "kc6bqAz8o6j5",
        "colab": {
          "base_uri": "https://localhost:8080/"
        },
        "outputId": "e8150d33-0aa9-48b7-dac3-18b91c532089"
      },
      "execution_count": 13,
      "outputs": [
        {
          "output_type": "stream",
          "name": "stdout",
          "text": [
            "Enter the value to be set as last element of each inner list: abc\n",
            "([1, 2, 'abc'], [4, 5, 'abc'], [7, 8, 'abc'], [10, 11, 'abc'])\n"
          ]
        }
      ]
    },
    {
      "cell_type": "code",
      "source": [
        "#task 17 me\n",
        "# given dictionary\n",
        "my_dictionary = {'c1': 'Red', 'c2': 'Green', 'c3': None, 'd4': 'Blue', 'a5': None}\n",
        "\n",
        "# create a new dictionary to store non-empty items\n",
        "new_dict = {}\n",
        "\n",
        "# iterate over each item in the given dictionary\n",
        "for key, value in my_dictionary.items():\n",
        "    # check if the value is not None\n",
        "    if value is not None:\n",
        "        # add the item to the new_dict\n",
        "        new_dict[key] = value\n",
        "\n",
        "# print the output\n",
        "print(new_dict)"
      ],
      "metadata": {
        "id": "tmny5d5IomTY"
      },
      "execution_count": null,
      "outputs": []
    },
    {
      "cell_type": "code",
      "source": [
        "#task 18 me\n",
        "# given dictionary\n",
        "dict_1 = {'a': 6, 'b': 7, 'c': 9, 'd': 8, 'e': 11, 'f': 12, 'g': 13}\n",
        "\n",
        "# take lower and upper range values as input from the user\n",
        "lower, upper = map(int, input(\"Enter the lower and upper range values (inclusive and exclusive respectively) separated by a space: \").split())\n",
        "\n",
        "# create an empty dictionary to store the results\n",
        "result_dict = {}\n",
        "\n",
        "# iterate over each item in the given dictionary\n",
        "for key, value in dict_1.items():\n",
        "    # check if the value is within the range given by the user\n",
        "    if value >= lower and value < upper:\n",
        "        # add the item to the result_dict\n",
        "        result_dict[key] = value\n",
        "\n",
        "# print the output\n",
        "print(result_dict)\n"
      ],
      "metadata": {
        "id": "nD-SxLUEoOMc"
      },
      "execution_count": null,
      "outputs": []
    },
    {
      "cell_type": "code",
      "source": [
        "#task 19 me\n",
        "# given list of tuples\n",
        "tuples_list = [(20, 80), (31, 80), (1, 22), (88, 11), (27, 11)]\n",
        "\n",
        "# create an empty dictionary to store the results\n",
        "result_dict = {}\n",
        "\n",
        "# iterate over each tuple in the list\n",
        "for tup in tuples_list:\n",
        "    # get the second element of the tuple\n",
        "    second_element = tup[1]\n",
        "    # add the tuple to the corresponding key in the result_dict\n",
        "    if second_element not in result_dict:\n",
        "        result_dict[second_element] = [tup]\n",
        "    else:\n",
        "        result_dict[second_element].append(tup)\n",
        "\n",
        "# print the output\n",
        "print(result_dict)\n"
      ],
      "metadata": {
        "colab": {
          "base_uri": "https://localhost:8080/"
        },
        "id": "VJEBN4UTm4A5",
        "outputId": "1e51165d-a291-407d-f143-cfa944d6d618"
      },
      "execution_count": null,
      "outputs": [
        {
          "output_type": "stream",
          "name": "stdout",
          "text": [
            "{80: [(20, 80), (31, 80)], 22: [(1, 22)], 11: [(88, 11), (27, 11)]}\n"
          ]
        }
      ]
    },
    {
      "cell_type": "code",
      "source": [
        "#task 20 me\n",
        "input_str = input(\"Enter a sentence or multiple sentences separated by full stops: \")\n",
        "special_chars = input(\"Enter a list of special characters: \").split()\n",
        "\n",
        "# split the input string into individual words\n",
        "words = input_str.split()\n",
        "\n",
        "# create an empty dictionary to store the results\n",
        "result_dict = {}\n",
        "\n",
        "# iterate over each word and calculate its index value in the special_chars list\n",
        "for word in words:\n",
        "    # calculate the ASCII sum of the word\n",
        "    #sum\n",
        "    #ascii_sum = sum(ord(c) for c in word)\n",
        "    ascii_sum = 0\n",
        "    for c in word:\n",
        "      ascii_sum = ascii_sum + ord(c)\n",
        "    # calculate the index value of the word in the special_chars list\n",
        "    index = ascii_sum % len(special_chars)\n",
        "    # add the word to the corresponding key in the result_dict\n",
        "    if index not in result_dict:\n",
        "        result_dict[index] = [word]\n",
        "    elif word not in result_dict[index]:\n",
        "        result_dict[index].append(word)\n",
        "\n",
        "# print the output\n",
        "print(\"Words in the given string:\", words)\n",
        "print(\"Answer:\", result_dict)"
      ],
      "metadata": {
        "colab": {
          "base_uri": "https://localhost:8080/"
        },
        "id": "GVQKnaUpjWSY",
        "outputId": "422f4c40-1290-4d85-9613-8956b8f725d3"
      },
      "execution_count": 14,
      "outputs": [
        {
          "output_type": "stream",
          "name": "stdout",
          "text": [
            "Enter a sentence or multiple sentences separated by full stops: I love Programming. Python is love.\n",
            "Enter a list of special characters: ['@', '$', '&', '#']\n",
            "Words in the given string: ['I', 'love', 'Programming.', 'Python', 'is', 'love.']\n",
            "Answer: {1: ['I', 'Programming.'], 2: ['love', 'Python'], 0: ['is', 'love.']}\n"
          ]
        }
      ]
    }
  ]
}