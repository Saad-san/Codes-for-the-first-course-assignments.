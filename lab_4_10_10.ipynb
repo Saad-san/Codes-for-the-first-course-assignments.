{
  "nbformat": 4,
  "nbformat_minor": 0,
  "metadata": {
    "colab": {
      "provenance": []
    },
    "kernelspec": {
      "name": "python3",
      "display_name": "Python 3"
    },
    "language_info": {
      "name": "python"
    }
  },
  "cells": [
    {
      "cell_type": "code",
      "execution_count": null,
      "metadata": {
        "colab": {
          "base_uri": "https://localhost:8080/"
        },
        "id": "d6n-TCR1_fPD",
        "outputId": "0568d97c-0124-4362-fadc-0c9100c1ff6c"
      },
      "outputs": [
        {
          "output_type": "stream",
          "name": "stdout",
          "text": [
            "Type anything: 1576527 \n",
            " 7256751\n"
          ]
        }
      ],
      "source": [
        "#task_1\n",
        "\n",
        "str1 = input(\"Type anything: \")\n",
        "print(str1[::-1])"
      ]
    },
    {
      "cell_type": "code",
      "source": [
        "#task_2\n",
        "\n",
        "text = str(input(\"Please enter a word: \"))\n",
        "index = int(input(\"Please enter an index: \"))\n",
        "\n",
        "first = text[index::-1]\n",
        "second = text[index+1:]\n",
        "\n",
        "print(first + second)"
      ],
      "metadata": {
        "colab": {
          "base_uri": "https://localhost:8080/"
        },
        "id": "gBUM3YV7AjYf",
        "outputId": "a1cd5e5d-fb5d-4558-b4eb-df0df0f9ad82"
      },
      "execution_count": null,
      "outputs": [
        {
          "output_type": "stream",
          "name": "stdout",
          "text": [
            "Please enter a word: aBcd1234defg\n",
            "Please enter an index: 5\n",
            "21dcBa34defg\n"
          ]
        }
      ]
    },
    {
      "cell_type": "code",
      "source": [
        "#task_3\n",
        "\n",
        "str1 = input(\"Enter the supposed string: \")\n",
        "\n",
        "for char in str1:\n",
        "    if char != '1' and char != '0':\n",
        "        print('Not a Binary Number')\n",
        "        break\n",
        "else:\n",
        "    print('Binary Number')"
      ],
      "metadata": {
        "colab": {
          "base_uri": "https://localhost:8080/"
        },
        "id": "gKgIQYY8A3XG",
        "outputId": "83160289-fd56-47e5-db7f-be944f862ef6"
      },
      "execution_count": null,
      "outputs": [
        {
          "output_type": "stream",
          "name": "stdout",
          "text": [
            "Enter the supposed string: 01101101101\n",
            "Binary Number\n"
          ]
        }
      ]
    },
    {
      "cell_type": "code",
      "source": [
        "#task_4\n",
        "\n",
        "text = input(\"Enter a text: \")\n",
        "length = len(text)\n",
        "if text[-2:] == \"er\":\n",
        "  section_text = text[:-2]\n",
        "  new_text = section_text + \"est\"\n",
        "  print(new_text)\n",
        "elif text[-3:] == \"est\":\n",
        "  print(text) \n",
        "elif length < 4:\n",
        "  print(text)\n",
        "elif length > 3:\n",
        "  print(text+\"er\")"
      ],
      "metadata": {
        "colab": {
          "base_uri": "https://localhost:8080/"
        },
        "id": "LyeqjoieCPV2",
        "outputId": "1e6ee6b2-4e19-4a92-96a3-f458c992d98b"
      },
      "execution_count": null,
      "outputs": [
        {
          "output_type": "stream",
          "name": "stdout",
          "text": [
            "Enter a text: ber\n",
            "best\n"
          ]
        }
      ]
    },
    {
      "cell_type": "code",
      "source": [
        "#task_5\n",
        "\n",
        "s=input(\"Enter a word: \")\n",
        "for j in range(0,len(s)):\n",
        "    for k in range(0,j+1):\n",
        "        print(s[k],end='')\n",
        "    print()\n",
        "    "
      ],
      "metadata": {
        "colab": {
          "base_uri": "https://localhost:8080/"
        },
        "id": "QL0co5SpDkP5",
        "outputId": "ba6bacbe-0738-4306-eb90-9d69eba7a025"
      },
      "execution_count": null,
      "outputs": [
        {
          "output_type": "stream",
          "name": "stdout",
          "text": [
            "Enter a word: BANGLA\n",
            "B\n",
            "BA\n",
            "BAN\n",
            "BANG\n",
            "BANGL\n",
            "BANGLA\n"
          ]
        }
      ]
    },
    {
      "cell_type": "code",
      "source": [
        "#task_6\n",
        "\n",
        "word = input(\"Enter a word :\")\n",
        "for i in word:\n",
        "    a_v = ord(i)\n",
        "    print(i ,':', a_v)"
      ],
      "metadata": {
        "colab": {
          "base_uri": "https://localhost:8080/"
        },
        "id": "pT5dy9hCEkwP",
        "outputId": "24750351-01ec-4a0b-972d-a755179097a2"
      },
      "execution_count": null,
      "outputs": [
        {
          "output_type": "stream",
          "name": "stdout",
          "text": [
            "Enter a word :Programming\n",
            "P : 80\n",
            "r : 114\n",
            "o : 111\n",
            "g : 103\n",
            "r : 114\n",
            "a : 97\n",
            "m : 109\n",
            "m : 109\n",
            "i : 105\n",
            "n : 110\n",
            "g : 103\n"
          ]
        }
      ]
    },
    {
      "cell_type": "code",
      "source": [
        "#task_7\n",
        "\n",
        "text = str(input(\"Please enter a word: \"))\n",
        "n_text = ''\n",
        "for c in text:\n",
        "  ascii = ord(c)\n",
        "  if ascii == ord('z'):\n",
        "    n_text = n_text + 'a'\n",
        "  else:\n",
        "    n_text = n_text + chr(ascii+1)\n",
        "print(n_text)"
      ],
      "metadata": {
        "colab": {
          "base_uri": "https://localhost:8080/"
        },
        "id": "mX72Ad4jGDo7",
        "outputId": "133463c4-d39e-4dad-bad7-3b7b20c57e08"
      },
      "execution_count": null,
      "outputs": [
        {
          "output_type": "stream",
          "name": "stdout",
          "text": [
            "Please enter a word: xyzabc\n",
            "yzabcd\n"
          ]
        }
      ]
    },
    {
      "cell_type": "code",
      "source": [
        "#task_8\n",
        "\n",
        "text = str(input(\"Please enter a word: \"))\n",
        "temp = text[1::2]\n",
        "n_text= ''\n",
        "for c in temp:\n",
        "  ascii = ord(c)\n",
        "  n_text += chr(ascii-32)\n",
        "print(n_text)"
      ],
      "metadata": {
        "colab": {
          "base_uri": "https://localhost:8080/"
        },
        "id": "ETQHsIwbGRIy",
        "outputId": "7e53685e-42c0-47e2-e5a5-8ac1e1eae8e4"
      },
      "execution_count": null,
      "outputs": [
        {
          "output_type": "stream",
          "name": "stdout",
          "text": [
            "Please enter a word: abcd\n",
            "BD\n"
          ]
        }
      ]
    },
    {
      "cell_type": "code",
      "source": [
        "#task_9\n",
        "\n",
        "txt = input(\"Please enter a string: \")\n",
        "bar = ''\n",
        "for chr in txt:\n",
        "    if bar == '' or chr != bar[len(bar)-1]:\n",
        "        bar += chr\n",
        "print(bar)"
      ],
      "metadata": {
        "colab": {
          "base_uri": "https://localhost:8080/"
        },
        "id": "LNQZxKJvGa91",
        "outputId": "8242ac9f-d1c0-42de-fb48-16890d563169"
      },
      "execution_count": null,
      "outputs": [
        {
          "output_type": "stream",
          "name": "stdout",
          "text": [
            "Please enter a word: AAABBBBCDDBBECE\n",
            "ABCDBECE\n"
          ]
        }
      ]
    },
    {
      "cell_type": "code",
      "source": [
        "#task_10 sem1\n",
        "user=input(\"Input a string: \")\n",
        "s1 = \"\"\n",
        "s2 = \"\"\n",
        "out= \"\"\n",
        "for i in user:\n",
        "  if i == \",\":\n",
        "    break\n",
        "  else:\n",
        "    s1 = s1 + i\n",
        "s2 = user[len(s1)+2: ]\n",
        "if len(s1)>len(s2):\n",
        "  big = s1\n",
        "  small = s2\n",
        "else:\n",
        "  big = s2\n",
        "  small = s1\n",
        "for i in range(len(small)):\n",
        "  out = out + s1[i] + s2[i]\n",
        "  \n",
        "out = out + big[ len(small): ]\n",
        "print(out)"
      ],
      "metadata": {
        "colab": {
          "base_uri": "https://localhost:8080/"
        },
        "id": "THp_pmrQvWcC",
        "outputId": "f3a73868-0f40-40a6-a959-6bc5f600931a"
      },
      "execution_count": null,
      "outputs": [
        {
          "output_type": "stream",
          "name": "stdout",
          "text": [
            "Input a string: ijkl, ABCDENDFGH\n",
            "iAjBkClDENDFGH\n"
          ]
        }
      ]
    },
    {
      "cell_type": "code",
      "source": [
        "#task_10 completed\n",
        "\n",
        "line = input(\"Input a string: \")\n",
        "n1 = 0\n",
        "i1 = 0\n",
        "while line[n1] != \",\":\n",
        "    n1 += 1\n",
        "i2 = n1 + 2\n",
        "n2 = len(line)\n",
        "\n",
        "res = \"\"\n",
        "while i1 < n1 and i2 < n2:\n",
        "    res += line[i1] + line[i2]\n",
        "    i1 += 1\n",
        "    i2 += 1\n",
        "\n",
        "if i1 < n1:\n",
        "    res += line[i1:n1]\n",
        "else:\n",
        "    res += line[i2:n2]\n",
        "\n",
        "print(res)"
      ],
      "metadata": {
        "colab": {
          "base_uri": "https://localhost:8080/"
        },
        "id": "MkL5e0N1HJAk",
        "outputId": "451776e4-144b-497d-9807-ee7652ca5b5e"
      },
      "execution_count": null,
      "outputs": [
        {
          "output_type": "stream",
          "name": "stdout",
          "text": [
            "Input a string: ABCDENDFGH, ijkl\n",
            "AiBjCkDlENDFGH\n"
          ]
        }
      ]
    },
    {
      "cell_type": "code",
      "source": [
        "#task_16 completed\n",
        "\n",
        "input_string = input(\"Enter a string: \")\n",
        "letter_to_remove = input(\"Enter a letter to remove: \")\n",
        "\n",
        "output_string = \"\"\n",
        "\n",
        "# iterate over each character in the input string\n",
        "for char in input_string:\n",
        "    if char != letter_to_remove:\n",
        "        output_string += char\n",
        "\n",
        "# if the letter is not present and the length of string is greater than 3, remove the first and last characters\n",
        "if letter_to_remove not in input_string and len(input_string) > 3:\n",
        "    output_string = input_string[1:-1]\n",
        "\n",
        "print(\"Output string:\", output_string)\n"
      ],
      "metadata": {
        "colab": {
          "base_uri": "https://localhost:8080/"
        },
        "id": "JUUDcgWlAd2K",
        "outputId": "89de568d-af05-422c-de63-047be5cdec0a"
      },
      "execution_count": null,
      "outputs": [
        {
          "output_type": "stream",
          "name": "stdout",
          "text": [
            "Enter a string: eren yeager\n",
            "Enter a letter to remove: k\n",
            "Output string: ren yeage\n"
          ]
        }
      ]
    },
    {
      "cell_type": "code",
      "source": [
        "#task_17 completed\n",
        "\n",
        "input_string = input(\"Enter a string: \")\n",
        "split_char = input(\"Enter the character to split on: \")\n",
        "\n",
        "output = \"\"\n",
        "current_word = \"\"\n",
        "\n",
        "for char in input_string:\n",
        "    if char == split_char:\n",
        "        output += current_word + \"\\n\"\n",
        "        current_word = \"\"\n",
        "    else:\n",
        "        current_word += char\n",
        "\n",
        "output += current_word + \"\\n\"\n",
        "\n",
        "print(output)"
      ],
      "metadata": {
        "colab": {
          "base_uri": "https://localhost:8080/"
        },
        "id": "50PCgkXdkWIK",
        "outputId": "3f483dbe-9e78-450c-a19e-a31ea301732d"
      },
      "execution_count": null,
      "outputs": [
        {
          "output_type": "stream",
          "name": "stdout",
          "text": [
            "Enter a string: tom@gmail,harry@yahoo,bob@gmail,mary@gmail\n",
            "Enter the character to split on: ,\n",
            "tom@gmail\n",
            "harry@yahoo\n",
            "bob@gmail\n",
            "mary@gmail\n",
            "\n"
          ]
        }
      ]
    },
    {
      "cell_type": "code",
      "source": [
        "#task_18\n",
        "\n",
        "input_string = input(\"Enter string : \") \n",
        "input_number = int(input(\"Enter number : \") )\n",
        "\n",
        "if (input_number % 2) == 0:\n",
        "    number_of_times = 2*input_number\n",
        "    output_string = input_string*number_of_times\n",
        "    print(output_string)\n",
        "\n",
        "else:\n",
        "    number_of_times = 3*input_number\n",
        "    output_string = input_string*number_of_times\n",
        "    print(output_string)\n",
        "    "
      ],
      "metadata": {
        "colab": {
          "base_uri": "https://localhost:8080/"
        },
        "id": "IEB4HGVjlmid",
        "outputId": "245bed3b-2f7b-40f5-ce59-ab2d63ca8639"
      },
      "execution_count": null,
      "outputs": [
        {
          "output_type": "stream",
          "name": "stdout",
          "text": [
            "Enter string : CSE110\n",
            "Enter number : 3\n",
            "CSE110CSE110CSE110CSE110CSE110CSE110CSE110CSE110CSE110\n"
          ]
        }
      ]
    },
    {
      "cell_type": "code",
      "source": [
        "#task_19\n",
        "\n",
        "t = input().lower()\n",
        "flag = True\n",
        "t = list(t)\n",
        "for i in range(len(t)):\n",
        "  if t[i] >= 'a' and t[i] <= 'z' and t[i] != '':\n",
        "    if flag:\n",
        "      t[i] = t[i].upper()\n",
        "      flag = False\n",
        "    else:\n",
        "      flag = True\n",
        "temp = ''\n",
        "for i in t:\n",
        "  temp += i\n",
        "print(temp)"
      ],
      "metadata": {
        "colab": {
          "base_uri": "https://localhost:8080/"
        },
        "id": "xshFKT5zk4oU",
        "outputId": "e2e1a81e-433c-4f83-d940-3c2cdc311cdf"
      },
      "execution_count": null,
      "outputs": [
        {
          "output_type": "stream",
          "name": "stdout",
          "text": [
            "e\n",
            "E\n"
          ]
        }
      ]
    }
  ]
}